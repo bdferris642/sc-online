{
 "cells": [
  {
   "cell_type": "code",
   "execution_count": 1,
   "metadata": {
    "vscode": {
     "languageId": "r"
    }
   },
   "outputs": [
    {
     "name": "stderr",
     "output_type": "stream",
     "text": [
      "Loading required package: EnsDb.Hsapiens.v86\n",
      "\n",
      "Loading required package: ensembldb\n",
      "\n",
      "Loading required package: BiocGenerics\n",
      "\n",
      "Loading required package: parallel\n",
      "\n"
     ]
    },
    {
     "name": "stderr",
     "output_type": "stream",
     "text": [
      "\n",
      "Attaching package: ‘BiocGenerics’\n",
      "\n",
      "\n",
      "The following objects are masked from ‘package:parallel’:\n",
      "\n",
      "    clusterApply, clusterApplyLB, clusterCall, clusterEvalQ,\n",
      "    clusterExport, clusterMap, parApply, parCapply, parLapply,\n",
      "    parLapplyLB, parRapply, parSapply, parSapplyLB\n",
      "\n",
      "\n",
      "The following objects are masked from ‘package:stats’:\n",
      "\n",
      "    IQR, mad, sd, var, xtabs\n",
      "\n",
      "\n",
      "The following objects are masked from ‘package:base’:\n",
      "\n",
      "    anyDuplicated, append, as.data.frame, basename, cbind, colnames,\n",
      "    dirname, do.call, duplicated, eval, evalq, Filter, Find, get, grep,\n",
      "    grepl, intersect, is.unsorted, lapply, Map, mapply, match, mget,\n",
      "    order, paste, pmax, pmax.int, pmin, pmin.int, Position, rank,\n",
      "    rbind, Reduce, rownames, sapply, setdiff, sort, table, tapply,\n",
      "    union, unique, unsplit, which.max, which.min\n",
      "\n",
      "\n",
      "Loading required package: GenomicRanges\n",
      "\n",
      "Loading required package: stats4\n",
      "\n",
      "Loading required package: S4Vectors\n",
      "\n",
      "\n",
      "Attaching package: ‘S4Vectors’\n",
      "\n",
      "\n",
      "The following object is masked from ‘package:base’:\n",
      "\n",
      "    expand.grid\n",
      "\n",
      "\n",
      "Loading required package: IRanges\n",
      "\n",
      "Loading required package: GenomeInfoDb\n",
      "\n",
      "Loading required package: GenomicFeatures\n",
      "\n",
      "Loading required package: AnnotationDbi\n",
      "\n",
      "Loading required package: Biobase\n",
      "\n",
      "Welcome to Bioconductor\n",
      "\n",
      "    Vignettes contain introductory material; view with\n",
      "    'browseVignettes()'. To cite Bioconductor, see\n",
      "    'citation(\"Biobase\")', and for packages 'citation(\"pkgname\")'.\n",
      "\n",
      "\n",
      "Possible Ensembl SSL connectivity problems detected.\n",
      "Please see the 'Connection Troubleshooting' section of the biomaRt vignette\n",
      "vignette('accessing_ensembl', package = 'biomaRt')Error in curl::curl_fetch_memory(url, handle = handle) : \n",
      "  SSL peer certificate or SSH remote key was not OK: [uswest.ensembl.org] SSL certificate problem: certificate has expired\n",
      "\n",
      "\n",
      "Loading required package: AnnotationFilter\n",
      "\n",
      "\n",
      "Attaching package: 'ensembldb'\n",
      "\n",
      "\n",
      "The following object is masked from 'package:stats':\n",
      "\n",
      "    filter\n",
      "\n",
      "\n",
      "Loading required package: EnsDb.Mmusculus.v79\n",
      "\n"
     ]
    },
    {
     "name": "stdout",
     "output_type": "stream",
     "text": [
      "Called from: eval(ei, envir)\n"
     ]
    },
    {
     "name": "stderr",
     "output_type": "stream",
     "text": [
      "Loading required package: BiocFileCache\n",
      "\n",
      "Loading required package: dbplyr\n",
      "\n",
      "\n",
      "Attaching package: 'AnnotationHub'\n",
      "\n",
      "\n",
      "The following object is masked from 'package:Biobase':\n",
      "\n",
      "    cache\n",
      "\n",
      "\n",
      "using temporary cache /tmp/RtmpPrOAqS/BiocFileCache\n",
      "\n",
      "snapshotDate(): 2020-10-27\n",
      "\n",
      "downloading 1 resources\n",
      "\n",
      "retrieving 1 resource\n",
      "\n",
      "loading from cache\n",
      "\n",
      "The legacy packages maptools, rgdal, and rgeos, underpinning the sp package,\n",
      "which was just loaded, were retired in October 2023.\n",
      "Please refer to R-spatial evolution reports for details, especially\n",
      "https://r-spatial.org/r/2023/05/15/evolution4.html.\n",
      "It may be desirable to make the sf package available;\n",
      "package maintainers should consider adding sf to Suggests:.\n",
      "\n",
      "Attaching SeuratObject\n",
      "\n"
     ]
    }
   ],
   "source": [
    "source(\"~/sc-online/extraGenes.R\")\n",
    "source(\"~/sc-online/myExpSetCreatorFn.R\")\n",
    "source(\"~/sc-online/utils.R\")\n",
    "\n",
    "library(lisi)\n",
    "library(rhdf5)\n",
    "library(Seurat)\n"
   ]
  },
  {
   "cell_type": "code",
   "execution_count": 2,
   "metadata": {
    "vscode": {
     "languageId": "r"
    }
   },
   "outputs": [
    {
     "name": "stdout",
     "output_type": "stream",
     "text": [
      "debug at <text>#4: h5_names = append(h5_names, list(paste0(\"~/seq_data/pd/\", run_name, \n",
      "    \"/outs/filtered_feature_bc_matrix.h5\")))\n",
      "debug at <text>#4: h5_names = append(h5_names, list(paste0(\"~/seq_data/pd/\", run_name, \n",
      "    \"/outs/filtered_feature_bc_matrix.h5\")))\n",
      "debug at <text>#4: h5_names = append(h5_names, list(paste0(\"~/seq_data/pd/\", run_name, \n",
      "    \"/outs/filtered_feature_bc_matrix.h5\")))\n",
      "debug at <text>#4: h5_names = append(h5_names, list(paste0(\"~/seq_data/pd/\", run_name, \n",
      "    \"/outs/filtered_feature_bc_matrix.h5\")))\n",
      "debug at <text>#4: h5_names = append(h5_names, list(paste0(\"~/seq_data/pd/\", run_name, \n",
      "    \"/outs/filtered_feature_bc_matrix.h5\")))\n",
      "debug at <text>#4: h5_names = append(h5_names, list(paste0(\"~/seq_data/pd/\", run_name, \n",
      "    \"/outs/filtered_feature_bc_matrix.h5\")))\n",
      "debug at <text>#4: h5_names = append(h5_names, list(paste0(\"~/seq_data/pd/\", run_name, \n",
      "    \"/outs/filtered_feature_bc_matrix.h5\")))\n",
      "debug at <text>#4: h5_names = append(h5_names, list(paste0(\"~/seq_data/pd/\", run_name, \n",
      "    \"/outs/filtered_feature_bc_matrix.h5\")))\n",
      "debug at <text>#4: h5_names = append(h5_names, list(paste0(\"~/seq_data/pd/\", run_name, \n",
      "    \"/outs/filtered_feature_bc_matrix.h5\")))\n",
      "debug at <text>#4: h5_names = append(h5_names, list(paste0(\"~/seq_data/pd/\", run_name, \n",
      "    \"/outs/filtered_feature_bc_matrix.h5\")))\n",
      "debug at <text>#4: h5_names = append(h5_names, list(paste0(\"~/seq_data/pd/\", run_name, \n",
      "    \"/outs/filtered_feature_bc_matrix.h5\")))\n",
      "debug at <text>#4: h5_names = append(h5_names, list(paste0(\"~/seq_data/pd/\", run_name, \n",
      "    \"/outs/filtered_feature_bc_matrix.h5\")))\n",
      "debug at <text>#4: h5_names = append(h5_names, list(paste0(\"~/seq_data/pd/\", run_name, \n",
      "    \"/outs/filtered_feature_bc_matrix.h5\")))\n",
      "debug at <text>#4: h5_names = append(h5_names, list(paste0(\"~/seq_data/pd/\", run_name, \n",
      "    \"/outs/filtered_feature_bc_matrix.h5\")))\n",
      "debug at <text>#4: h5_names = append(h5_names, list(paste0(\"~/seq_data/pd/\", run_name, \n",
      "    \"/outs/filtered_feature_bc_matrix.h5\")))\n",
      "debug at <text>#4: h5_names = append(h5_names, list(paste0(\"~/seq_data/pd/\", run_name, \n",
      "    \"/outs/filtered_feature_bc_matrix.h5\")))\n",
      "debug at <text>#4: h5_names = append(h5_names, list(paste0(\"~/seq_data/pd/\", run_name, \n",
      "    \"/outs/filtered_feature_bc_matrix.h5\")))\n",
      "debug at <text>#4: h5_names = append(h5_names, list(paste0(\"~/seq_data/pd/\", run_name, \n",
      "    \"/outs/filtered_feature_bc_matrix.h5\")))\n",
      "debug at <text>#4: h5_names = append(h5_names, list(paste0(\"~/seq_data/pd/\", run_name, \n",
      "    \"/outs/filtered_feature_bc_matrix.h5\")))\n",
      "debug at <text>#4: h5_names = append(h5_names, list(paste0(\"~/seq_data/pd/\", run_name, \n",
      "    \"/outs/filtered_feature_bc_matrix.h5\")))\n",
      "debug at <text>#4: h5_names = append(h5_names, list(paste0(\"~/seq_data/pd/\", run_name, \n",
      "    \"/outs/filtered_feature_bc_matrix.h5\")))\n",
      "debug at <text>#4: h5_names = append(h5_names, list(paste0(\"~/seq_data/pd/\", run_name, \n",
      "    \"/outs/filtered_feature_bc_matrix.h5\")))\n",
      "debug at <text>#4: h5_names = append(h5_names, list(paste0(\"~/seq_data/pd/\", run_name, \n",
      "    \"/outs/filtered_feature_bc_matrix.h5\")))\n",
      "debug at <text>#4: h5_names = append(h5_names, list(paste0(\"~/seq_data/pd/\", run_name, \n",
      "    \"/outs/filtered_feature_bc_matrix.h5\")))\n",
      "debug at <text>#4: h5_names = append(h5_names, list(paste0(\"~/seq_data/pd/\", run_name, \n",
      "    \"/outs/filtered_feature_bc_matrix.h5\")))\n",
      "debug at <text>#4: h5_names = append(h5_names, list(paste0(\"~/seq_data/pd/\", run_name, \n",
      "    \"/outs/filtered_feature_bc_matrix.h5\")))\n",
      "debug at <text>#4: h5_names = append(h5_names, list(paste0(\"~/seq_data/pd/\", run_name, \n",
      "    \"/outs/filtered_feature_bc_matrix.h5\")))\n",
      "debug at <text>#4: h5_names = append(h5_names, list(paste0(\"~/seq_data/pd/\", run_name, \n",
      "    \"/outs/filtered_feature_bc_matrix.h5\")))\n",
      "debug at <text>#4: h5_names = append(h5_names, list(paste0(\"~/seq_data/pd/\", run_name, \n",
      "    \"/outs/filtered_feature_bc_matrix.h5\")))\n",
      "debug at <text>#4: h5_names = append(h5_names, list(paste0(\"~/seq_data/pd/\", run_name, \n",
      "    \"/outs/filtered_feature_bc_matrix.h5\")))\n",
      "debug at <text>#4: h5_names = append(h5_names, list(paste0(\"~/seq_data/pd/\", run_name, \n",
      "    \"/outs/filtered_feature_bc_matrix.h5\")))\n",
      "debug at <text>#4: h5_names = append(h5_names, list(paste0(\"~/seq_data/pd/\", run_name, \n",
      "    \"/outs/filtered_feature_bc_matrix.h5\")))\n",
      "debug at <text>#4: h5_names = append(h5_names, list(paste0(\"~/seq_data/pd/\", run_name, \n",
      "    \"/outs/filtered_feature_bc_matrix.h5\")))\n",
      "debug at <text>#4: h5_names = append(h5_names, list(paste0(\"~/seq_data/pd/\", run_name, \n",
      "    \"/outs/filtered_feature_bc_matrix.h5\")))\n",
      "debug at <text>#4: h5_names = append(h5_names, list(paste0(\"~/seq_data/pd/\", run_name, \n",
      "    \"/outs/filtered_feature_bc_matrix.h5\")))\n",
      "debug at <text>#4: h5_names = append(h5_names, list(paste0(\"~/seq_data/pd/\", run_name, \n",
      "    \"/outs/filtered_feature_bc_matrix.h5\")))\n",
      "debug at <text>#4: h5_names = append(h5_names, list(paste0(\"~/seq_data/pd/\", run_name, \n",
      "    \"/outs/filtered_feature_bc_matrix.h5\")))\n",
      "debug at <text>#4: h5_names = append(h5_names, list(paste0(\"~/seq_data/pd/\", run_name, \n",
      "    \"/outs/filtered_feature_bc_matrix.h5\")))\n",
      "debug at <text>#4: h5_names = append(h5_names, list(paste0(\"~/seq_data/pd/\", run_name, \n",
      "    \"/outs/filtered_feature_bc_matrix.h5\")))\n",
      "debug at <text>#4: h5_names = append(h5_names, list(paste0(\"~/seq_data/pd/\", run_name, \n",
      "    \"/outs/filtered_feature_bc_matrix.h5\")))\n",
      "debug at <text>#4: h5_names = append(h5_names, list(paste0(\"~/seq_data/pd/\", run_name, \n",
      "    \"/outs/filtered_feature_bc_matrix.h5\")))\n",
      "debug at <text>#4: h5_names = append(h5_names, list(paste0(\"~/seq_data/pd/\", run_name, \n",
      "    \"/outs/filtered_feature_bc_matrix.h5\")))\n",
      "debug at <text>#4: h5_names = append(h5_names, list(paste0(\"~/seq_data/pd/\", run_name, \n",
      "    \"/outs/filtered_feature_bc_matrix.h5\")))\n",
      "debug at <text>#4: h5_names = append(h5_names, list(paste0(\"~/seq_data/pd/\", run_name, \n",
      "    \"/outs/filtered_feature_bc_matrix.h5\")))\n",
      "debug at <text>#4: h5_names = append(h5_names, list(paste0(\"~/seq_data/pd/\", run_name, \n",
      "    \"/outs/filtered_feature_bc_matrix.h5\")))\n",
      "debug at <text>#4: h5_names = append(h5_names, list(paste0(\"~/seq_data/pd/\", run_name, \n",
      "    \"/outs/filtered_feature_bc_matrix.h5\")))\n",
      "debug at <text>#4: h5_names = append(h5_names, list(paste0(\"~/seq_data/pd/\", run_name, \n",
      "    \"/outs/filtered_feature_bc_matrix.h5\")))\n",
      "debug at <text>#4: h5_names = append(h5_names, list(paste0(\"~/seq_data/pd/\", run_name, \n",
      "    \"/outs/filtered_feature_bc_matrix.h5\")))\n",
      "debug at <text>#4: h5_names = append(h5_names, list(paste0(\"~/seq_data/pd/\", run_name, \n",
      "    \"/outs/filtered_feature_bc_matrix.h5\")))\n",
      "debug at <text>#4: h5_names = append(h5_names, list(paste0(\"~/seq_data/pd/\", run_name, \n",
      "    \"/outs/filtered_feature_bc_matrix.h5\")))\n",
      "debug at <text>#4: h5_names = append(h5_names, list(paste0(\"~/seq_data/pd/\", run_name, \n",
      "    \"/outs/filtered_feature_bc_matrix.h5\")))\n",
      "debug at <text>#4: h5_names = append(h5_names, list(paste0(\"~/seq_data/pd/\", run_name, \n",
      "    \"/outs/filtered_feature_bc_matrix.h5\")))\n",
      "debug at <text>#4: h5_names = append(h5_names, list(paste0(\"~/seq_data/pd/\", run_name, \n",
      "    \"/outs/filtered_feature_bc_matrix.h5\")))\n",
      "debug at <text>#4: h5_names = append(h5_names, list(paste0(\"~/seq_data/pd/\", run_name, \n",
      "    \"/outs/filtered_feature_bc_matrix.h5\")))\n",
      "debug at <text>#4: h5_names = append(h5_names, list(paste0(\"~/seq_data/pd/\", run_name, \n",
      "    \"/outs/filtered_feature_bc_matrix.h5\")))\n",
      "debug at <text>#4: h5_names = append(h5_names, list(paste0(\"~/seq_data/pd/\", run_name, \n",
      "    \"/outs/filtered_feature_bc_matrix.h5\")))\n",
      "debug at <text>#4: h5_names = append(h5_names, list(paste0(\"~/seq_data/pd/\", run_name, \n",
      "    \"/outs/filtered_feature_bc_matrix.h5\")))\n",
      "debug at <text>#4: h5_names = append(h5_names, list(paste0(\"~/seq_data/pd/\", run_name, \n",
      "    \"/outs/filtered_feature_bc_matrix.h5\")))\n",
      "debug at <text>#4: h5_names = append(h5_names, list(paste0(\"~/seq_data/pd/\", run_name, \n",
      "    \"/outs/filtered_feature_bc_matrix.h5\")))\n",
      "debug at <text>#4: h5_names = append(h5_names, list(paste0(\"~/seq_data/pd/\", run_name, \n",
      "    \"/outs/filtered_feature_bc_matrix.h5\")))\n",
      "debug at <text>#4: h5_names = append(h5_names, list(paste0(\"~/seq_data/pd/\", run_name, \n",
      "    \"/outs/filtered_feature_bc_matrix.h5\")))\n"
     ]
    }
   ],
   "source": [
    "run_names = list.files(\"~/seq_data/pd\")\n",
    "h5_names = list()\n",
    "for (run_name in run_names) {\n",
    "    h5_names = append(h5_names, \n",
    "                list(paste0(\"~/seq_data/pd/\", run_name, \"/outs/filtered_feature_bc_matrix.h5\")))\n",
    "}"
   ]
  },
  {
   "cell_type": "code",
   "execution_count": 5,
   "metadata": {
    "vscode": {
     "languageId": "r"
    }
   },
   "outputs": [
    {
     "name": "stdout",
     "output_type": "stream",
     "text": [
      "debug at <text>#3: h5_data = append(h5_data, Read10X_h5(h5_names[[i]]))\n",
      "debug at <text>#3: h5_data = append(h5_data, Read10X_h5(h5_names[[i]]))\n",
      "debug at <text>#3: h5_data = append(h5_data, Read10X_h5(h5_names[[i]]))\n",
      "debug at <text>#3: h5_data = append(h5_data, Read10X_h5(h5_names[[i]]))\n",
      "debug at <text>#3: h5_data = append(h5_data, Read10X_h5(h5_names[[i]]))\n",
      "debug at <text>#3: h5_data = append(h5_data, Read10X_h5(h5_names[[i]]))\n",
      "debug at <text>#3: h5_data = append(h5_data, Read10X_h5(h5_names[[i]]))\n",
      "debug at <text>#3: h5_data = append(h5_data, Read10X_h5(h5_names[[i]]))\n",
      "debug at <text>#3: h5_data = append(h5_data, Read10X_h5(h5_names[[i]]))\n",
      "debug at <text>#3: h5_data = append(h5_data, Read10X_h5(h5_names[[i]]))\n",
      "debug at <text>#3: h5_data = append(h5_data, Read10X_h5(h5_names[[i]]))\n",
      "debug at <text>#3: h5_data = append(h5_data, Read10X_h5(h5_names[[i]]))\n",
      "debug at <text>#3: h5_data = append(h5_data, Read10X_h5(h5_names[[i]]))\n",
      "debug at <text>#3: h5_data = append(h5_data, Read10X_h5(h5_names[[i]]))\n",
      "debug at <text>#3: h5_data = append(h5_data, Read10X_h5(h5_names[[i]]))\n",
      "debug at <text>#3: h5_data = append(h5_data, Read10X_h5(h5_names[[i]]))\n",
      "debug at <text>#3: h5_data = append(h5_data, Read10X_h5(h5_names[[i]]))\n",
      "debug at <text>#3: h5_data = append(h5_data, Read10X_h5(h5_names[[i]]))\n",
      "debug at <text>#3: h5_data = append(h5_data, Read10X_h5(h5_names[[i]]))\n",
      "debug at <text>#3: h5_data = append(h5_data, Read10X_h5(h5_names[[i]]))\n",
      "debug at <text>#3: h5_data = append(h5_data, Read10X_h5(h5_names[[i]]))\n",
      "debug at <text>#3: h5_data = append(h5_data, Read10X_h5(h5_names[[i]]))\n",
      "debug at <text>#3: h5_data = append(h5_data, Read10X_h5(h5_names[[i]]))\n",
      "debug at <text>#3: h5_data = append(h5_data, Read10X_h5(h5_names[[i]]))\n",
      "debug at <text>#3: h5_data = append(h5_data, Read10X_h5(h5_names[[i]]))\n",
      "debug at <text>#3: h5_data = append(h5_data, Read10X_h5(h5_names[[i]]))\n",
      "debug at <text>#3: h5_data = append(h5_data, Read10X_h5(h5_names[[i]]))\n",
      "debug at <text>#3: h5_data = append(h5_data, Read10X_h5(h5_names[[i]]))\n",
      "debug at <text>#3: h5_data = append(h5_data, Read10X_h5(h5_names[[i]]))\n",
      "debug at <text>#3: h5_data = append(h5_data, Read10X_h5(h5_names[[i]]))\n",
      "debug at <text>#3: h5_data = append(h5_data, Read10X_h5(h5_names[[i]]))\n",
      "debug at <text>#3: h5_data = append(h5_data, Read10X_h5(h5_names[[i]]))\n",
      "debug at <text>#3: h5_data = append(h5_data, Read10X_h5(h5_names[[i]]))\n",
      "debug at <text>#3: h5_data = append(h5_data, Read10X_h5(h5_names[[i]]))\n",
      "debug at <text>#3: h5_data = append(h5_data, Read10X_h5(h5_names[[i]]))\n",
      "debug at <text>#3: h5_data = append(h5_data, Read10X_h5(h5_names[[i]]))\n",
      "debug at <text>#3: h5_data = append(h5_data, Read10X_h5(h5_names[[i]]))\n",
      "debug at <text>#3: h5_data = append(h5_data, Read10X_h5(h5_names[[i]]))\n",
      "debug at <text>#3: h5_data = append(h5_data, Read10X_h5(h5_names[[i]]))\n",
      "debug at <text>#3: h5_data = append(h5_data, Read10X_h5(h5_names[[i]]))\n",
      "debug at <text>#3: h5_data = append(h5_data, Read10X_h5(h5_names[[i]]))\n",
      "debug at <text>#3: h5_data = append(h5_data, Read10X_h5(h5_names[[i]]))\n",
      "debug at <text>#3: h5_data = append(h5_data, Read10X_h5(h5_names[[i]]))\n",
      "debug at <text>#3: h5_data = append(h5_data, Read10X_h5(h5_names[[i]]))\n",
      "debug at <text>#3: h5_data = append(h5_data, Read10X_h5(h5_names[[i]]))\n",
      "debug at <text>#3: h5_data = append(h5_data, Read10X_h5(h5_names[[i]]))\n",
      "debug at <text>#3: h5_data = append(h5_data, Read10X_h5(h5_names[[i]]))\n",
      "debug at <text>#3: h5_data = append(h5_data, Read10X_h5(h5_names[[i]]))\n",
      "debug at <text>#3: h5_data = append(h5_data, Read10X_h5(h5_names[[i]]))\n",
      "debug at <text>#3: h5_data = append(h5_data, Read10X_h5(h5_names[[i]]))\n",
      "debug at <text>#3: h5_data = append(h5_data, Read10X_h5(h5_names[[i]]))\n",
      "debug at <text>#3: h5_data = append(h5_data, Read10X_h5(h5_names[[i]]))\n",
      "debug at <text>#3: h5_data = append(h5_data, Read10X_h5(h5_names[[i]]))\n",
      "debug at <text>#3: h5_data = append(h5_data, Read10X_h5(h5_names[[i]]))\n",
      "debug at <text>#3: h5_data = append(h5_data, Read10X_h5(h5_names[[i]]))\n",
      "debug at <text>#3: h5_data = append(h5_data, Read10X_h5(h5_names[[i]]))\n",
      "debug at <text>#3: h5_data = append(h5_data, Read10X_h5(h5_names[[i]]))\n",
      "debug at <text>#3: h5_data = append(h5_data, Read10X_h5(h5_names[[i]]))\n",
      "debug at <text>#3: h5_data = append(h5_data, Read10X_h5(h5_names[[i]]))\n",
      "debug at <text>#3: h5_data = append(h5_data, Read10X_h5(h5_names[[i]]))\n",
      "debug at <text>#3: h5_data = append(h5_data, Read10X_h5(h5_names[[i]]))\n"
     ]
    }
   ],
   "source": [
    "h5_data = list()\n",
    "for(i in seq_along(h5_names)){\n",
    "    h5_data = append(h5_data, Read10X_h5(h5_names[[i]]))\n",
    "}"
   ]
  },
  {
   "cell_type": "code",
   "execution_count": 6,
   "metadata": {
    "vscode": {
     "languageId": "r"
    }
   },
   "outputs": [],
   "source": [
    "createMetaDataFromDCGMatrix=function(dcg){\n",
    "    # takes in a dcg matrix derived from a Read 10X hdf5 file\n",
    "    # outputs a dataframe, whose rownames are the colnames of dcg\n",
    "    \n",
    "    # output containing columns:\n",
    "    #   nUMI: total number of UMIs within a cell\n",
    "    #   nGene: number of unique genes expressed within a cell\n",
    "    #   TODO cols: \n",
    "    #   dataset: str, name of dataset\n",
    "    #   nCount_RNA: reads instead of UMIs\n",
    "    #   orig.ident: class of data being loaded\n",
    "    #   anno_col_map: dict[str: list-of-str] for columns to be added. Keys must start with 'anno_'\n",
    "\n",
    "    nUMI = colSums(dcg)\n",
    "    nGene = colSums(dcg > 0)\n",
    "    meta_df = data.frame(nUMI, nGene)\n",
    "    colnames(meta_df) = c(\"nUMI\", \"nGene\")\n",
    "    rownames(meta_df) = colnames(dcg)\n",
    "    return(meta_df)\n",
    "}\n",
    "\n"
   ]
  },
  {
   "cell_type": "code",
   "execution_count": 9,
   "metadata": {
    "vscode": {
     "languageId": "r"
    }
   },
   "outputs": [
    {
     "data": {
      "text/html": [
       "'221216_pPDsHSrSNiPoold221219B3'"
      ],
      "text/latex": [
       "'221216\\_pPDsHSrSNiPoold221219B3'"
      ],
      "text/markdown": [
       "'221216_pPDsHSrSNiPoold221219B3'"
      ],
      "text/plain": [
       "[1] \"221216_pPDsHSrSNiPoold221219B3\""
      ]
     },
     "metadata": {},
     "output_type": "display_data"
    }
   ],
   "source": [
    "run_names[[index]]"
   ]
  },
  {
   "cell_type": "code",
   "execution_count": 17,
   "metadata": {
    "vscode": {
     "languageId": "r"
    }
   },
   "outputs": [
    {
     "name": "stdout",
     "output_type": "stream",
     "text": [
      "debug at <text>#4: dcg = h5_data[[index]]\n",
      "debug at <text>#5: print(index)\n",
      "[1] 1\n",
      "debug at <text>#6: data_sce = .myExpSetCreatorFn(inputExpData = dcg, organism = \"human\", \n",
      "    minExpCells = 0, inputPdata = createMetaDataFromDCGMatrix(dcg), \n",
      "    inputFdata = NULL, addExtraAnno = T, ncores = 12)\n"
     ]
    },
    {
     "name": "stderr",
     "output_type": "stream",
     "text": [
      "Warning message in asMethod(object):\n",
      "\"sparse->dense coercion: allocating vector of size 1.1 GiB\"\n",
      "Warning message in asMethod(object):\n",
      "\"sparse->dense coercion: allocating vector of size 1.1 GiB\"\n"
     ]
    },
    {
     "name": "stdout",
     "output_type": "stream",
     "text": [
      "[1] \"Number of MT genes in the dataset: 13 / 13\"\n",
      "[1] \"Number of IEG genes in the dataset: 134 / 130\"\n",
      "[1] \"Number of OXPHOS genes in the dataset: 180 / 205\"\n",
      "[1] \"Number of rRNA genes in the dataset: 1 / 568\"\n",
      "[1] \"Number of ribosomal protein genes in the dataset: 104 / 1250\"\n",
      "debug at <text>#13: saveRDS(data_sce, paste0(\"~/seq_data/pd/\", run_names[[index]], \n",
      "    \"/data_sce.rds\"))\n",
      "debug at <text>#4: dcg = h5_data[[index]]\n",
      "debug at <text>#5: print(index)\n",
      "[1] 2\n",
      "debug at <text>#6: data_sce = .myExpSetCreatorFn(inputExpData = dcg, organism = \"human\", \n",
      "    minExpCells = 0, inputPdata = createMetaDataFromDCGMatrix(dcg), \n",
      "    inputFdata = NULL, addExtraAnno = T, ncores = 12)\n",
      "[1] \"Number of MT genes in the dataset: 13 / 13\"\n",
      "[1] \"Number of IEG genes in the dataset: 134 / 130\"\n",
      "[1] \"Number of OXPHOS genes in the dataset: 180 / 205\"\n",
      "[1] \"Number of rRNA genes in the dataset: 1 / 568\"\n",
      "[1] \"Number of ribosomal protein genes in the dataset: 104 / 1250\"\n",
      "debug at <text>#13: saveRDS(data_sce, paste0(\"~/seq_data/pd/\", run_names[[index]], \n",
      "    \"/data_sce.rds\"))\n",
      "debug at <text>#4: dcg = h5_data[[index]]\n",
      "debug at <text>#5: print(index)\n",
      "[1] 3\n",
      "debug at <text>#6: data_sce = .myExpSetCreatorFn(inputExpData = dcg, organism = \"human\", \n",
      "    minExpCells = 0, inputPdata = createMetaDataFromDCGMatrix(dcg), \n",
      "    inputFdata = NULL, addExtraAnno = T, ncores = 12)\n",
      "[1] \"Number of MT genes in the dataset: 13 / 13\"\n",
      "[1] \"Number of IEG genes in the dataset: 134 / 130\"\n",
      "[1] \"Number of OXPHOS genes in the dataset: 180 / 205\"\n",
      "[1] \"Number of rRNA genes in the dataset: 1 / 568\"\n",
      "[1] \"Number of ribosomal protein genes in the dataset: 104 / 1250\"\n",
      "debug at <text>#13: saveRDS(data_sce, paste0(\"~/seq_data/pd/\", run_names[[index]], \n",
      "    \"/data_sce.rds\"))\n",
      "debug at <text>#4: dcg = h5_data[[index]]\n",
      "debug at <text>#5: print(index)\n",
      "[1] 4\n",
      "debug at <text>#6: data_sce = .myExpSetCreatorFn(inputExpData = dcg, organism = \"human\", \n",
      "    minExpCells = 0, inputPdata = createMetaDataFromDCGMatrix(dcg), \n",
      "    inputFdata = NULL, addExtraAnno = T, ncores = 12)\n",
      "[1] \"Number of MT genes in the dataset: 13 / 13\"\n",
      "[1] \"Number of IEG genes in the dataset: 134 / 130\"\n",
      "[1] \"Number of OXPHOS genes in the dataset: 180 / 205\"\n",
      "[1] \"Number of rRNA genes in the dataset: 1 / 568\"\n",
      "[1] \"Number of ribosomal protein genes in the dataset: 104 / 1250\"\n",
      "debug at <text>#13: saveRDS(data_sce, paste0(\"~/seq_data/pd/\", run_names[[index]], \n",
      "    \"/data_sce.rds\"))\n",
      "debug at <text>#4: dcg = h5_data[[index]]\n",
      "debug at <text>#5: print(index)\n",
      "[1] 5\n",
      "debug at <text>#6: data_sce = .myExpSetCreatorFn(inputExpData = dcg, organism = \"human\", \n",
      "    minExpCells = 0, inputPdata = createMetaDataFromDCGMatrix(dcg), \n",
      "    inputFdata = NULL, addExtraAnno = T, ncores = 12)\n",
      "[1] \"Number of MT genes in the dataset: 13 / 13\"\n",
      "[1] \"Number of IEG genes in the dataset: 134 / 130\"\n",
      "[1] \"Number of OXPHOS genes in the dataset: 180 / 205\"\n",
      "[1] \"Number of rRNA genes in the dataset: 1 / 568\"\n",
      "[1] \"Number of ribosomal protein genes in the dataset: 104 / 1250\"\n",
      "debug at <text>#13: saveRDS(data_sce, paste0(\"~/seq_data/pd/\", run_names[[index]], \n",
      "    \"/data_sce.rds\"))\n",
      "debug at <text>#4: dcg = h5_data[[index]]\n",
      "debug at <text>#5: print(index)\n",
      "[1] 6\n",
      "debug at <text>#6: data_sce = .myExpSetCreatorFn(inputExpData = dcg, organism = \"human\", \n",
      "    minExpCells = 0, inputPdata = createMetaDataFromDCGMatrix(dcg), \n",
      "    inputFdata = NULL, addExtraAnno = T, ncores = 12)\n",
      "[1] \"Number of MT genes in the dataset: 13 / 13\"\n",
      "[1] \"Number of IEG genes in the dataset: 134 / 130\"\n",
      "[1] \"Number of OXPHOS genes in the dataset: 180 / 205\"\n",
      "[1] \"Number of rRNA genes in the dataset: 1 / 568\"\n",
      "[1] \"Number of ribosomal protein genes in the dataset: 104 / 1250\"\n",
      "debug at <text>#13: saveRDS(data_sce, paste0(\"~/seq_data/pd/\", run_names[[index]], \n",
      "    \"/data_sce.rds\"))\n",
      "debug at <text>#4: dcg = h5_data[[index]]\n",
      "debug at <text>#5: print(index)\n",
      "[1] 7\n",
      "debug at <text>#6: data_sce = .myExpSetCreatorFn(inputExpData = dcg, organism = \"human\", \n",
      "    minExpCells = 0, inputPdata = createMetaDataFromDCGMatrix(dcg), \n",
      "    inputFdata = NULL, addExtraAnno = T, ncores = 12)\n",
      "[1] \"Number of MT genes in the dataset: 13 / 13\"\n",
      "[1] \"Number of IEG genes in the dataset: 134 / 130\"\n",
      "[1] \"Number of OXPHOS genes in the dataset: 180 / 205\"\n",
      "[1] \"Number of rRNA genes in the dataset: 1 / 568\"\n",
      "[1] \"Number of ribosomal protein genes in the dataset: 104 / 1250\"\n",
      "debug at <text>#13: saveRDS(data_sce, paste0(\"~/seq_data/pd/\", run_names[[index]], \n",
      "    \"/data_sce.rds\"))\n",
      "debug at <text>#4: dcg = h5_data[[index]]\n",
      "debug at <text>#5: print(index)\n",
      "[1] 8\n",
      "debug at <text>#6: data_sce = .myExpSetCreatorFn(inputExpData = dcg, organism = \"human\", \n",
      "    minExpCells = 0, inputPdata = createMetaDataFromDCGMatrix(dcg), \n",
      "    inputFdata = NULL, addExtraAnno = T, ncores = 12)\n"
     ]
    },
    {
     "name": "stderr",
     "output_type": "stream",
     "text": [
      "Warning message in asMethod(object):\n",
      "\"sparse->dense coercion: allocating vector of size 1.3 GiB\"\n",
      "Warning message in asMethod(object):\n",
      "\"sparse->dense coercion: allocating vector of size 1.3 GiB\"\n"
     ]
    },
    {
     "name": "stdout",
     "output_type": "stream",
     "text": [
      "[1] \"Number of MT genes in the dataset: 13 / 13\"\n",
      "[1] \"Number of IEG genes in the dataset: 134 / 130\"\n",
      "[1] \"Number of OXPHOS genes in the dataset: 180 / 205\"\n",
      "[1] \"Number of rRNA genes in the dataset: 1 / 568\"\n",
      "[1] \"Number of ribosomal protein genes in the dataset: 104 / 1250\"\n",
      "debug at <text>#13: saveRDS(data_sce, paste0(\"~/seq_data/pd/\", run_names[[index]], \n",
      "    \"/data_sce.rds\"))\n",
      "debug at <text>#4: dcg = h5_data[[index]]\n",
      "debug at <text>#5: print(index)\n",
      "[1] 9\n",
      "debug at <text>#6: data_sce = .myExpSetCreatorFn(inputExpData = dcg, organism = \"human\", \n",
      "    minExpCells = 0, inputPdata = createMetaDataFromDCGMatrix(dcg), \n",
      "    inputFdata = NULL, addExtraAnno = T, ncores = 12)\n"
     ]
    },
    {
     "name": "stderr",
     "output_type": "stream",
     "text": [
      "Warning message in asMethod(object):\n",
      "\"sparse->dense coercion: allocating vector of size 2.1 GiB\"\n",
      "Warning message in asMethod(object):\n",
      "\"sparse->dense coercion: allocating vector of size 2.1 GiB\"\n"
     ]
    },
    {
     "name": "stdout",
     "output_type": "stream",
     "text": [
      "[1] \"Number of MT genes in the dataset: 13 / 13\"\n",
      "[1] \"Number of IEG genes in the dataset: 134 / 130\"\n",
      "[1] \"Number of OXPHOS genes in the dataset: 180 / 205\"\n",
      "[1] \"Number of rRNA genes in the dataset: 1 / 568\"\n",
      "[1] \"Number of ribosomal protein genes in the dataset: 104 / 1250\"\n",
      "debug at <text>#13: saveRDS(data_sce, paste0(\"~/seq_data/pd/\", run_names[[index]], \n",
      "    \"/data_sce.rds\"))\n",
      "debug at <text>#4: dcg = h5_data[[index]]\n",
      "debug at <text>#5: print(index)\n",
      "[1] 10\n",
      "debug at <text>#6: data_sce = .myExpSetCreatorFn(inputExpData = dcg, organism = \"human\", \n",
      "    minExpCells = 0, inputPdata = createMetaDataFromDCGMatrix(dcg), \n",
      "    inputFdata = NULL, addExtraAnno = T, ncores = 12)\n",
      "[1] \"Number of MT genes in the dataset: 13 / 13\"\n",
      "[1] \"Number of IEG genes in the dataset: 134 / 130\"\n",
      "[1] \"Number of OXPHOS genes in the dataset: 180 / 205\"\n",
      "[1] \"Number of rRNA genes in the dataset: 1 / 568\"\n",
      "[1] \"Number of ribosomal protein genes in the dataset: 104 / 1250\"\n",
      "debug at <text>#13: saveRDS(data_sce, paste0(\"~/seq_data/pd/\", run_names[[index]], \n",
      "    \"/data_sce.rds\"))\n"
     ]
    }
   ],
   "source": [
    "# 1:10\n",
    "\n",
    "for (index in seq_along(h5_data[1:10])){\n",
    "    dcg = h5_data[[index]]\n",
    "    print(index)\n",
    "    data_sce=.myExpSetCreatorFn(inputExpData=dcg,\n",
    "                            organism=\"human\",\n",
    "                            minExpCells=0,\n",
    "                            inputPdata=createMetaDataFromDCGMatrix(dcg),\n",
    "                            inputFdata=NULL,\n",
    "                            addExtraAnno=T,\n",
    "                            ncores=12)\n",
    "    saveRDS(data_sce, paste0(\"~/seq_data/pd/\", run_names[[index]], \"/data_sce.rds\"))\n",
    "}"
   ]
  },
  {
   "cell_type": "code",
   "execution_count": null,
   "metadata": {
    "vscode": {
     "languageId": "r"
    }
   },
   "outputs": [],
   "source": [
    "seurat_obj <- CreateSeuratObject(counts = h5_data)\n",
    "qsave(seurat_obj, \"path/to/output/file.qs\")\n",
    "\n"
   ]
  }
 ],
 "metadata": {
  "kernelspec": {
   "display_name": "R",
   "language": "R",
   "name": "ir"
  },
  "language_info": {
   "codemirror_mode": "r",
   "file_extension": ".r",
   "mimetype": "text/x-r-source",
   "name": "R",
   "pygments_lexer": "r",
   "version": "4.0.4"
  }
 },
 "nbformat": 4,
 "nbformat_minor": 2
}
