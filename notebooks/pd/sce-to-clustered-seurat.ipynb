{
 "cells": [
  {
   "cell_type": "code",
   "execution_count": 26,
   "metadata": {
    "vscode": {
     "languageId": "r"
    }
   },
   "outputs": [
    {
     "name": "stderr",
     "output_type": "stream",
     "text": [
      "qs 0.25.7\n",
      "\n"
     ]
    }
   ],
   "source": [
    "source(\"~/sc-online/extraGenes.R\")\n",
    "source(\"~/sc-online/myExpSetCreatorFn.R\")\n",
    "source(\"~/sc-online/extraGenes.R\")\n",
    "source(\"~/sc-online/myExpSetCreatorFn.R\")\n",
    "source(\"~/sc-online/utils.R\")\n",
    "source(\"~/sc-online/plot.R\")\n",
    "source(\"~/sc-online/clust.R\")\n",
    "source(\"~/sc-online/labelTransfer.R\")\n",
    "source(\"~/sc-online/getData.R\")\n",
    "\n",
    "library(caret)\n",
    "library(\"DropletUtils\")\n",
    "library(dplyr)\n",
    "library(ggplot2)\n",
    "library(grid)\n",
    "library(gridExtra)\n",
    "library(gtable)\n",
    "library(harmony)\n",
    "library(lisi)\n",
    "library(Matrix)\n",
    "library(patchwork)\n",
    "library(pheatmap)\n",
    "library(qs)\n",
    "library(RColorBrewer)\n",
    "library(SingleCellExperiment)\n",
    "library(rhdf5)\n",
    "library(rlang)\n",
    "\n",
    "library(Seurat)\n",
    "library(tidyr)\n",
    "library(xml2)\n",
    "\n",
    "library(viridis)\n",
    "library(viridisLite)"
   ]
  },
  {
   "cell_type": "code",
   "execution_count": 2,
   "metadata": {
    "vscode": {
     "languageId": "r"
    }
   },
   "outputs": [],
   "source": [
    "BASE_PATH = \"/mnt/accessory/seq_data\"\n",
    "\n",
    "VIREO_DONOR_IDS_BASENAME = 'vireo_outs/donor_list/donor_ids.tsv'\n",
    "CB_SCE_BASENAME = \"ingested_data/cb_data_sce_FPR_0.01.rds\"\n",
    "SUMMARY_BASENAME = 'vireo_outs/donor_list/summary.tsv'\n",
    "\n",
    "# Set relatively conservative thresholds for initial filtering\n",
    "PCT_INTRONIC_MIN = 20\n",
    "PCT_MT_MAX = 10\n"
   ]
  },
  {
   "cell_type": "code",
   "execution_count": 25,
   "metadata": {
    "vscode": {
     "languageId": "r"
    }
   },
   "outputs": [],
   "source": [
    "calico_libs_long = readLines(\"~/calico-libs-long.txt\")\n",
    "calico_libs_long = calico_libs_long[calico_libs_long != \"\"]\n",
    "calico_libs = lapply(calico_libs_long, function(x) {\n",
    "    split = strsplit(x, split = \"_\")[[1]]\n",
    "    return(paste(split[2:length(split)], collapse = \"_\"))\n",
    "})\n",
    "names(calico_libs_long) = calico_libs\n",
    "\n",
    "gtex_libs_long = readLines(\"~/gtex-libs-long.txt\")\n",
    "gtex_libs_long = gtex_libs_long[gtex_libs_long != \"\"]\n",
    "gtex_libs = lapply(gtex_libs_long, function(x) {\n",
    "    split = strsplit(x, split = \"_\")[[1]]\n",
    "    return(paste(split[2:length(split)], collapse = \"_\"))\n",
    "})\n",
    "names(gtex_libs_long) = gtex_libs\n",
    "\n",
    "libs_long = c(calico_libs_long, gtex_libs_long)\n",
    "libs = c(calico_libs, gtex_libs)"
   ]
  },
  {
   "cell_type": "code",
   "execution_count": null,
   "metadata": {
    "vscode": {
     "languageId": "r"
    }
   },
   "outputs": [],
   "source": [
    "# can change this later\n",
    "log10_nUMI_thresholds = rep(3.0, length(calico_libs))\n",
    "names(log10_nUMI_thresholds) = calico_libs\n",
    "\n",
    "dapi_nurr = list(\n",
    "    'nurr', 'dapi', 'nurr', 'dapi',\n",
    "    'nurr', 'nurr', 'dapi',\n",
    "    'nurr', 'nurr', 'dapi',\n",
    "    'nurr', 'nurr', 'dapi',\n",
    "    'nurr', 'nurr', 'dapi',\n",
    "    'nurr', 'nurr', 'dapi',\n",
    "    'nurr', 'nurr', 'dapi',\n",
    "    'nurr', 'nurr', \n",
    "    'dapi', 'dapi', 'nurr',\n",
    "    'nurr', 'nurr', 'dapi',\n",
    "    'dapi', 'dapi', 'dapi',\n",
    "    'nurr', 'nurr', 'dapi')\n",
    "names(dapi_nurr) = calico_libs\n",
    "\n",
    "short_lib_names = list(\n",
    "    '19B', '19BD', '19C', '19CD',\n",
    "    '19D1', '19D2', '19DD',\n",
    "    '19E1', '19E2', '19ED',\n",
    "    '19F1', '19F2', '19FD',\n",
    "    '19G1', '19G2', '19GD',\n",
    "    '19I1', '19I2', '19ID',\n",
    "    '19J1', '19J2', '19JD',\n",
    "    '19K1', '19K2',\n",
    "    '21A8', '21A9', \n",
    "    '21B8', '21B9',\n",
    "    '21C8', '21C9', \n",
    "    '21D8', '21D9',\n",
    "    '21E8', '21F8', '21G8', '21H8'   \n",
    ")\n",
    "names(short_lib_names) = libs\n",
    "\n"
   ]
  },
  {
   "cell_type": "code",
   "execution_count": null,
   "metadata": {
    "vscode": {
     "languageId": "r"
    }
   },
   "outputs": [],
   "source": [
    "calico_sce_list = loadCbSceList(libs,\n",
    "    pct_mt_max=PCT_MT_MAX,\n",
    "    pct_intronic_min= PCT_INTRONIC_MIN,\n",
    "    log10_nUMI_threshold_list=log10_nUMI_thresholds\n",
    ")"
   ]
  },
  {
   "cell_type": "code",
   "execution_count": null,
   "metadata": {
    "vscode": {
     "languageId": "r"
    }
   },
   "outputs": [],
   "source": [
    "hist(colData(calico_sce_list[[1]])$pct_intronic, breaks = 100)"
   ]
  },
  {
   "cell_type": "code",
   "execution_count": null,
   "metadata": {
    "vscode": {
     "languageId": "r"
    }
   },
   "outputs": [],
   "source": [
    "calico_all = .mycBindFn(calico_sce_list)\n",
    "calico_nurr = calico_all[, colData(calico_all)$sort == 'nurr']\n",
    "calico_dapi = calico_all[, colData(calico_all)$sort == 'dapi']\n",
    "\n",
    "cb_sce_nurr_donor_list = .mySplitObject(calico_nurr, \"donor_id\")\n",
    "cb_sce_dapi_donor_list = .mySplitObject(calico_dapi, \"donor_id\")"
   ]
  },
  {
   "cell_type": "code",
   "execution_count": null,
   "metadata": {
    "vscode": {
     "languageId": "r"
    }
   },
   "outputs": [],
   "source": [
    "qsave(cb_sce_nurr_donor_list, file.path(BASE_PATH, \"cb_sce_donor_list_nurr_20240304.qs\"))\n",
    "qsave(cb_sce_dapi_donor_list, file.path(BASE_PATH, \"cb_sce_donor_list_dapi_20240304.qs\"))\n"
   ]
  },
  {
   "cell_type": "code",
   "execution_count": null,
   "metadata": {
    "vscode": {
     "languageId": "r"
    }
   },
   "outputs": [],
   "source": []
  },
  {
   "cell_type": "code",
   "execution_count": null,
   "metadata": {
    "vscode": {
     "languageId": "r"
    }
   },
   "outputs": [],
   "source": [
    "DefaultAssay(object = seurat.object)"
   ]
  },
  {
   "cell_type": "code",
   "execution_count": null,
   "metadata": {
    "vscode": {
     "languageId": "r"
    }
   },
   "outputs": [],
   "source": [
    "length(colnames(cb_sce_nurr_donor_list)) - length(unique(colnames(cb_sce_nurr_donor_list)))"
   ]
  },
  {
   "cell_type": "code",
   "execution_count": null,
   "metadata": {
    "vscode": {
     "languageId": "r"
    }
   },
   "outputs": [],
   "source": [
    "source(\"~/sc-online/getData.R\")\n",
    "seurat_nurr_merged = rawSceToHarmonizedSeurat(cb_sce_nurr_donor_list)"
   ]
  },
  {
   "cell_type": "code",
   "execution_count": null,
   "metadata": {
    "vscode": {
     "languageId": "r"
    }
   },
   "outputs": [],
   "source": []
  },
  {
   "cell_type": "code",
   "execution_count": null,
   "metadata": {
    "vscode": {
     "languageId": "r"
    }
   },
   "outputs": [],
   "source": [
    "options(repr.plot.width=13, repr.plot.height=13)\n",
    "DimPlot(seurat_nurr_merged, label=TRUE)"
   ]
  },
  {
   "cell_type": "code",
   "execution_count": null,
   "metadata": {
    "vscode": {
     "languageId": "r"
    }
   },
   "outputs": [],
   "source": [
    "DimPlot(seurat_nurr_merged, group.by='short_donor_id')"
   ]
  },
  {
   "cell_type": "code",
   "execution_count": null,
   "metadata": {
    "vscode": {
     "languageId": "r"
    }
   },
   "outputs": [],
   "source": [
    "FeaturePlot(seurat_nurr_merged, c(\"SLC6A3\", \"TH\", \"DDC\", \"NR4A2\"))"
   ]
  },
  {
   "cell_type": "code",
   "execution_count": null,
   "metadata": {
    "vscode": {
     "languageId": "r"
    }
   },
   "outputs": [],
   "source": [
    "ndonors = list()\n",
    "for (i in 0:(length(unique(seurat_nurr_merged$seurat_clusters))-1)){\n",
    "    this_cluster = seurat_nurr_merged[, seurat_nurr_merged$seurat_clusters == paste0(i)]\n",
    "    ndonors[[i+1]] = length(unique(this_cluster$short_donor_id))\n",
    "}"
   ]
  },
  {
   "cell_type": "code",
   "execution_count": null,
   "metadata": {
    "vscode": {
     "languageId": "r"
    }
   },
   "outputs": [],
   "source": [
    "names(ndonors) = sapply((0:(length(ndonors)-1)), paste0)\n",
    "ndonors_gt1 = ndonors[ndonors > 1]\n",
    "ndonors_gt1_clusters = names(ndonors_gt1)\n",
    "ndonors_gt1_clusters"
   ]
  },
  {
   "cell_type": "code",
   "execution_count": null,
   "metadata": {
    "vscode": {
     "languageId": "r"
    }
   },
   "outputs": [],
   "source": [
    "# remove donor_specific clusters \n",
    "seurat_nurr_merged_multidonor_clusters = seurat_nurr_merged[, seurat_nurr_merged$seurat_clusters %in% ndonors_gt1_clusters]"
   ]
  },
  {
   "cell_type": "code",
   "execution_count": null,
   "metadata": {
    "vscode": {
     "languageId": "r"
    }
   },
   "outputs": [],
   "source": [
    "dim(seurat_nurr_merged)\n",
    "dim(seurat_nurr_merged_multidonor_clusters)"
   ]
  },
  {
   "cell_type": "code",
   "execution_count": null,
   "metadata": {
    "vscode": {
     "languageId": "r"
    }
   },
   "outputs": [],
   "source": [
    "seurat_dapi_merged = rawSceToHarmonizedSeurat(cb_sce_dapi_donor_list)"
   ]
  },
  {
   "cell_type": "code",
   "execution_count": null,
   "metadata": {
    "vscode": {
     "languageId": "r"
    }
   },
   "outputs": [],
   "source": [
    "DimPlot(seurat_dapi_merged, label=TRUE)"
   ]
  },
  {
   "cell_type": "code",
   "execution_count": null,
   "metadata": {
    "vscode": {
     "languageId": "r"
    }
   },
   "outputs": [],
   "source": [
    "seurat_nurr_merged = readRDS(file.path(BASE_PATH, \"seurat_nurr_merged_initial_harmonized_20240119.rds\"))\n",
    "seurat_dapi_merged = readRDS(file.path(BASE_PATH, \"seurat_dapi_merged_initial_harmonized_20240119.rds\"))\n"
   ]
  },
  {
   "cell_type": "code",
   "execution_count": null,
   "metadata": {
    "vscode": {
     "languageId": "r"
    }
   },
   "outputs": [],
   "source": []
  },
  {
   "cell_type": "code",
   "execution_count": null,
   "metadata": {
    "vscode": {
     "languageId": "r"
    }
   },
   "outputs": [],
   "source": [
    "# (10) Find markers\n",
    "plan(strategy = \"multicore\", workers = 28)\n",
    "\n",
    "# Find all markers; adjust parameters as needed\n",
    "nurr_markers = FindAllMarkers(\n",
    "    seurat_nurr_merged, \n",
    "    only.pos=TRUE)\n",
    "\n",
    "saveRDS(nurr_markers, file=file.path(BASE_PATH, \"markers_nurr_initial_harmonized_20240130.rds\"))\n"
   ]
  },
  {
   "cell_type": "code",
   "execution_count": null,
   "metadata": {
    "vscode": {
     "languageId": "r"
    }
   },
   "outputs": [],
   "source": []
  },
  {
   "cell_type": "code",
   "execution_count": null,
   "metadata": {
    "vscode": {
     "languageId": "r"
    }
   },
   "outputs": [],
   "source": [
    "dapi_markers = FindAllMarkers(\n",
    "    seurat_dapi_merged, \n",
    "    only.pos=TRUE)\n",
    "\n",
    "saveRDS(dapi_markers, file=file.path(BASE_PATH, \"markers_dapi_initial_harmonized_20240119.rds\"))"
   ]
  },
  {
   "cell_type": "code",
   "execution_count": null,
   "metadata": {
    "vscode": {
     "languageId": "r"
    }
   },
   "outputs": [],
   "source": [
    "nurr_markers = readRDS(file.path(BASE_PATH, \"markers_nurr_initial_harmonized_20240119.rds\"))\n",
    "dapi_markers = readRDS(file.path(BASE_PATH, \"markers_dapi_initial_harmonized_20240119.rds\"))"
   ]
  },
  {
   "cell_type": "code",
   "execution_count": null,
   "metadata": {
    "vscode": {
     "languageId": "r"
    }
   },
   "outputs": [],
   "source": [
    "astro = \"astro\"\n",
    "endo = \"endo\"\n",
    "mg = \"mg\"\n",
    "da = \"da\"\n",
    "nonda = \"nonda\"\n",
    "oligo = \"oligo\"\n",
    "opc = \"opc\"\n",
    "mix = \"mix\"\n",
    "mito = \"mito\"\n",
    "none = \"none\"\n",
    "immune = \"immune\"\n",
    "ependymal = \"ependymal\""
   ]
  },
  {
   "cell_type": "code",
   "execution_count": null,
   "metadata": {
    "vscode": {
     "languageId": "r"
    }
   },
   "outputs": [],
   "source": [
    "for (i in 1:(max(as.numeric(nurr_markers$cluster))-1)){\n",
    "    print(i)\n",
    "    c = nurr_markers[nurr_markers$cluster == i, ]\n",
    "    # order by pct.1 descending\n",
    "    c = c[order(c$pct.1, decreasing = TRUE),]\n",
    "    print(c[, c(\"gene\", \"avg_log2FC\", \"pct.1\", \"pct.2\")])\n",
    "    print(\"::::::::::::::::::::::\")\n",
    "}"
   ]
  },
  {
   "cell_type": "code",
   "execution_count": null,
   "metadata": {
    "vscode": {
     "languageId": "r"
    }
   },
   "outputs": [],
   "source": [
    "setwh(8, 8)\n",
    "DimPlot(seurat_nurr_merged, label=TRUE)"
   ]
  },
  {
   "cell_type": "code",
   "execution_count": null,
   "metadata": {
    "vscode": {
     "languageId": "r"
    }
   },
   "outputs": [],
   "source": [
    "for (i in 0:max(as.numeric(nurr_markers$cluster)-1)){\n",
    "    printMarkersByCluster(nurr_markers, cluster=i)\n",
    "}\n"
   ]
  },
  {
   "cell_type": "code",
   "execution_count": null,
   "metadata": {
    "vscode": {
     "languageId": "r"
    }
   },
   "outputs": [],
   "source": [
    "\n",
    "getClusterLogFC = function(seurat_obj, cluster){\n",
    "    clust_genesums = rowSums(seurat_obj[, seurat_obj$seurat_clusters==cluster])\n",
    "    non_clust_genesums = rowSums(seurat_obj[, seurat_obj$seurat_clusters!=cluster])\n",
    "    logfc_clust = round(log2((clust_genesums + 1) / (non_clust_genesums + 1)), 3)\n",
    "    return(sort(logfc_clust, decreasing = TRUE))\n",
    "}\n",
    "\n",
    "getClusterLogFC(seurat_nurr_merged, 24)[1:20]"
   ]
  },
  {
   "cell_type": "code",
   "execution_count": null,
   "metadata": {
    "vscode": {
     "languageId": "r"
    }
   },
   "outputs": [],
   "source": [
    "ndonors_gt1_clusters"
   ]
  },
  {
   "cell_type": "code",
   "execution_count": null,
   "metadata": {
    "vscode": {
     "languageId": "r"
    }
   },
   "outputs": [],
   "source": [
    "for (i in 30:63){\n",
    "    if (! paste0(i) %in% ndonors_gt1_clusters){next}\n",
    "    print(i)\n",
    "    print(getClusterLogFC(seurat_nurr_merged, i)[1:15])\n",
    "}"
   ]
  },
  {
   "cell_type": "code",
   "execution_count": null,
   "metadata": {
    "vscode": {
     "languageId": "r"
    }
   },
   "outputs": [],
   "source": [
    "\n",
    "nurr_classes = list(\n",
    "    \"immune\", \"da\", 'nonda', 'nonda', 'oligo' #0-4\n",
    "    , \"nonda\", 'nonda', 'nonda', 'da', 'nonda' #5-9 \n",
    "    , 'nonda', 'nonda', 'astro', 'nonda', 'da' #10-14\n",
    "    , 'nonda', 'nonda', 'da', 'endo', 'none' #15-19\n",
    "    , 'endo', 'da', 'nonda', 'mix', 'none' #20-24\n",
    "    , 'nonda', 'endo', 'nonda', 'opc', 'nonda' #25-29\n",
    "    , 'immune', 'none', 'nonda' #30-32\n",
    ")\n",
    "nurr_classes[33:64] = 'none'\n",
    "\n"
   ]
  },
  {
   "cell_type": "code",
   "execution_count": null,
   "metadata": {
    "vscode": {
     "languageId": "r"
    }
   },
   "outputs": [],
   "source": [
    "nurr_classes"
   ]
  },
  {
   "cell_type": "code",
   "execution_count": null,
   "metadata": {
    "vscode": {
     "languageId": "r"
    }
   },
   "outputs": [],
   "source": [
    "seurat_nurr_merged = assignCellClasses(seurat_nurr_merged, nurr_classes)\n",
    "#DimPlot(seurat_nurr_merged, group.by=\"cell_class\")\n",
    "DimPlot(seurat_nurr_merged[, ! seurat_nurr_merged$cell_class %in% c(\"none\", \"mix\")], group.by=\"cell_class\")"
   ]
  },
  {
   "cell_type": "code",
   "execution_count": null,
   "metadata": {
    "vscode": {
     "languageId": "r"
    }
   },
   "outputs": [],
   "source": [
    "dim(seurat_nurr_merged_clean)"
   ]
  },
  {
   "cell_type": "code",
   "execution_count": null,
   "metadata": {
    "vscode": {
     "languageId": "r"
    }
   },
   "outputs": [],
   "source": [
    "length(seurat_nurr_merged@meta.data$donor_id_barcode) - length(unique(seurat_nurr_merged@meta.data$donor_id_barcode))"
   ]
  },
  {
   "cell_type": "code",
   "execution_count": null,
   "metadata": {
    "vscode": {
     "languageId": "r"
    }
   },
   "outputs": [],
   "source": [
    "seurat_nurr_merged@meta.data[rownames(seurat_nurr_merged@meta.data) != seurat_nurr_merged@meta.data$donor_id_barcode, ]"
   ]
  },
  {
   "cell_type": "code",
   "execution_count": null,
   "metadata": {
    "vscode": {
     "languageId": "r"
    }
   },
   "outputs": [],
   "source": [
    "head(seurat_nurr_merged_clean@meta.data[\"206954930010_R02C01_AAACGCTCAATCTGCA-1\", ])"
   ]
  },
  {
   "cell_type": "code",
   "execution_count": null,
   "metadata": {
    "vscode": {
     "languageId": "r"
    }
   },
   "outputs": [],
   "source": [
    "head(md)"
   ]
  },
  {
   "cell_type": "code",
   "execution_count": null,
   "metadata": {
    "vscode": {
     "languageId": "r"
    }
   },
   "outputs": [],
   "source": [
    "head(new_md)"
   ]
  },
  {
   "cell_type": "code",
   "execution_count": null,
   "metadata": {
    "vscode": {
     "languageId": "r"
    }
   },
   "outputs": [],
   "source": [
    "head(seurat_nurr_merged_clean@meta.data)"
   ]
  },
  {
   "cell_type": "code",
   "execution_count": null,
   "metadata": {
    "vscode": {
     "languageId": "r"
    }
   },
   "outputs": [],
   "source": []
  },
  {
   "cell_type": "code",
   "execution_count": null,
   "metadata": {
    "vscode": {
     "languageId": "r"
    }
   },
   "outputs": [],
   "source": [
    "sum(is.na(seurat_nurr_merged_clean$donor_id))"
   ]
  },
  {
   "cell_type": "code",
   "execution_count": null,
   "metadata": {
    "vscode": {
     "languageId": "r"
    }
   },
   "outputs": [],
   "source": []
  },
  {
   "cell_type": "code",
   "execution_count": null,
   "metadata": {
    "vscode": {
     "languageId": "r"
    }
   },
   "outputs": [],
   "source": [
    "# we are now going to clean the seurat_nurr_merged in two ways\n",
    "# 1. remove clusters without a cell class assignment\n",
    "# 2. apply metadata; remove donors without a case-control status\n",
    "\n",
    "seurat_nurr_merged_clean = seurat_nurr_merged[, seurat_nurr_merged$cell_class %in% c(\"astro\", \"da\", \"endo\", \"immune\", \"nonda\", \"oligo\", \"opc\")]\n",
    "\n",
    "# do not know when or how duplicate donor_id_barcodes are being introduced\n",
    "seurat_nurr_merged_clean = seurat_nurr_merged_clean[, !duplicated(seurat_nurr_merged_clean$donor_id_barcode)]\n",
    "seurat_nurr_merged_clean = seurat_nurr_merged_clean[ ,!is.na(seurat_nurr_merged_clean$cell_class)]\n",
    "\n",
    "rows_to_exclude_TMP = list(\n",
    "    \"206954930010_R11C01\",\n",
    "    \"206954930011_R11C01\"\n",
    ")\n",
    "\n",
    "md = read.table(\"/mnt/accessory/seq_data/calico/Calico_Macosko_PD_GSA_Terra_Manifest.tsv\", header = T, sep = \"\\t\")\n",
    "md = md[!md$chip_well_barcode %in% rows_to_exclude_TMP, c(\"chip_well_barcode\", \"Disease\", \"Age\", \"Sex\")]\n",
    "colnames(md) = c(\"donor_id\", \"status\", \"age\", \"sex\")\n",
    "\n",
    "md_clean = md[complete.cases(md),]\n",
    "\n",
    "new_md = merge(\n",
    "        x=seurat_nurr_merged_clean@meta.data,\n",
    "        y=md_clean,\n",
    "        by=\"donor_id\",\n",
    "        all.x = TRUE\n",
    "    )\n",
    "rownames(new_md) = new_md$donor_id_barcode\n",
    "seurat_nurr_merged_clean@meta.data = new_md\n",
    "\n",
    "seurat_nurr_merged_clean = seurat_nurr_merged_clean[, ! is.na(seurat_nurr_merged_clean$status)]\n",
    "seurat_nurr_merged_clean$case_control = 'ctr'\n",
    "seurat_nurr_merged_clean$case_control[seurat_nurr_merged_clean$status != 'Control'] = 'pd'\n",
    "\n",
    "setwh(12,12)\n",
    "DimPlot(seurat_nurr_merged_clean, group.by=\"cell_class\")\n",
    "DimPlot(seurat_nurr_merged_clean, label=T)\n",
    "DimPlot(seurat_nurr_merged_clean, group.by=\"case_control\")"
   ]
  },
  {
   "cell_type": "code",
   "execution_count": null,
   "metadata": {
    "vscode": {
     "languageId": "r"
    }
   },
   "outputs": [],
   "source": [
    "seurat_nurr_merged_clean$case_control = 'ctr'\n",
    "seurat_nurr_merged_clean$case_control[seurat_nurr_merged_clean$status != 'Control'] = 'pd'\n"
   ]
  },
  {
   "cell_type": "code",
   "execution_count": null,
   "metadata": {
    "vscode": {
     "languageId": "r"
    }
   },
   "outputs": [],
   "source": [
    "setwh(14, 14)\n",
    "# DimPlot(seurat_nurr_merged_clean, label=T)\n",
    "# DimPlot(seurat_nurr_merged_clean, group.by=\"cell_class\")\n",
    "DimPlot(seurat_nurr_merged_clean, group.by=\"case_control\")"
   ]
  },
  {
   "cell_type": "code",
   "execution_count": null,
   "metadata": {
    "vscode": {
     "languageId": "r"
    }
   },
   "outputs": [],
   "source": [
    "library(qs)"
   ]
  },
  {
   "cell_type": "code",
   "execution_count": null,
   "metadata": {
    "vscode": {
     "languageId": "r"
    }
   },
   "outputs": [
    {
     "ename": "",
     "evalue": "",
     "output_type": "error",
     "traceback": [
      "\u001b[1;31mThe Kernel crashed while executing code in the the current cell or a previous cell. Please review the code in the cell(s) to identify a possible cause of the failure. Click <a href='https://aka.ms/vscodeJupyterKernelCrash'>here</a> for more info. View Jupyter <a href='command:jupyter.viewOutput'>log</a> for further details."
     ]
    }
   ],
   "source": [
    "qsave(seurat_nurr_merged_clean, \"/mnt/accessory/seq_data/calico/seurat_nurr_merged_initial_harmonized_20240130.qs\")"
   ]
  },
  {
   "cell_type": "code",
   "execution_count": null,
   "metadata": {
    "vscode": {
     "languageId": "r"
    }
   },
   "outputs": [],
   "source": [
    "options(repr.plot.width=16, repr.plot.height=8)\n",
    "DimPlot(seurat_nurr_merged, label=T)\n",
    "options(repr.plot.width=8, repr.plot.height=8)"
   ]
  },
  {
   "cell_type": "code",
   "execution_count": null,
   "metadata": {
    "vscode": {
     "languageId": "r"
    }
   },
   "outputs": [],
   "source": [
    "nurr_classes = list(\n",
    "    none, da, nonda, da, nonda, \n",
    "    nonda, none, nonda, nonda, nonda, \n",
    "    da, nonda, nonda, astro, nonda, #10\n",
    "    nonda, nonda, mito, none, none, \n",
    "    nonda, nonda, da, opc, none,    #20\n",
    "    mito, none, nonda, nonda, nonda, \n",
    "    astro, nonda, none, none, none, #30\n",
    "    none, ependymal, nonda, none, mix, \n",
    "    mix, none, none, nonda, none \n",
    "    )\n",
    "\n",
    "seurat_nurr_merged = assignCellClasses(seurat_nurr_merged, nurr_classes)\n",
    "DimPlot(seurat_nurr_merged[, ! seurat_nurr_merged$cell_class %in% c(none, mix)], group.by=\"cell_class\")"
   ]
  },
  {
   "cell_type": "code",
   "execution_count": null,
   "metadata": {
    "vscode": {
     "languageId": "r"
    }
   },
   "outputs": [],
   "source": [
    "\n",
    "FeaturePlot(seurat_nurr_merged, features = \"QC_MT.pct\")\n"
   ]
  },
  {
   "cell_type": "code",
   "execution_count": null,
   "metadata": {
    "vscode": {
     "languageId": "r"
    }
   },
   "outputs": [],
   "source": [
    "FeaturePlot(seurat_nurr_merged, features = \"log10_nUMI\")"
   ]
  },
  {
   "cell_type": "code",
   "execution_count": null,
   "metadata": {
    "vscode": {
     "languageId": "r"
    }
   },
   "outputs": [],
   "source": [
    "FeaturePlot(seurat_nurr_merged, features = \"SLC17A6\")"
   ]
  },
  {
   "cell_type": "code",
   "execution_count": null,
   "metadata": {
    "vscode": {
     "languageId": "r"
    }
   },
   "outputs": [],
   "source": [
    "FeaturePlot(seurat_nurr_merged, features = \"GAD1\")"
   ]
  },
  {
   "cell_type": "code",
   "execution_count": null,
   "metadata": {
    "vscode": {
     "languageId": "r"
    }
   },
   "outputs": [],
   "source": [
    "FeaturePlot(seurat_nurr_merged, features = \"SLC6A3\")"
   ]
  },
  {
   "cell_type": "code",
   "execution_count": null,
   "metadata": {
    "vscode": {
     "languageId": "r"
    }
   },
   "outputs": [],
   "source": [
    "FeaturePlot(seurat_nurr_merged, features = \"GPNMB\")"
   ]
  },
  {
   "cell_type": "code",
   "execution_count": null,
   "metadata": {
    "vscode": {
     "languageId": "r"
    }
   },
   "outputs": [],
   "source": [
    "FeaturePlot(seurat_nurr_merged, features = \"PLAT\")"
   ]
  },
  {
   "cell_type": "code",
   "execution_count": null,
   "metadata": {
    "vscode": {
     "languageId": "r"
    }
   },
   "outputs": [],
   "source": [
    "FeaturePlot(seurat_nurr_merged, features = \"CX3CR1\")"
   ]
  },
  {
   "cell_type": "code",
   "execution_count": null,
   "metadata": {
    "vscode": {
     "languageId": "r"
    }
   },
   "outputs": [],
   "source": [
    "FeaturePlot(seurat_nurr_merged, features = \"pct_intronic\")"
   ]
  },
  {
   "cell_type": "code",
   "execution_count": null,
   "metadata": {
    "vscode": {
     "languageId": "r"
    }
   },
   "outputs": [],
   "source": [
    "for (i in 0:max(as.numeric(dapi_markers$cluster)-1)){\n",
    "    printMarkersByCluster(dapi_markers, cluster=i)\n",
    "}"
   ]
  },
  {
   "cell_type": "code",
   "execution_count": null,
   "metadata": {
    "vscode": {
     "languageId": "r"
    }
   },
   "outputs": [],
   "source": [
    "DimPlot(seurat_dapi_merged[, ! seurat_dapi_merged$cell_class %in% c(mito, mix, none)], label=T)"
   ]
  },
  {
   "cell_type": "code",
   "execution_count": null,
   "metadata": {
    "vscode": {
     "languageId": "r"
    }
   },
   "outputs": [],
   "source": [
    "sum(! seurat_dapi_merged$cell_class %in% c(mito, mix, none, NA)) / ncol(seurat_dapi_merged)\n",
    "sum(! seurat_nurr_merged$cell_class %in% c(mito, mix, none, NA)) / ncol(seurat_nurr_merged)"
   ]
  },
  {
   "cell_type": "code",
   "execution_count": null,
   "metadata": {
    "vscode": {
     "languageId": "r"
    }
   },
   "outputs": [],
   "source": []
  },
  {
   "cell_type": "code",
   "execution_count": null,
   "metadata": {
    "vscode": {
     "languageId": "r"
    }
   },
   "outputs": [],
   "source": [
    "\n",
    "dapi_classes = list(\n",
    "    oligo, mg, oligo, oligo, astro, #0\n",
    "    oligo, opc, nonda, astro, oligo,#5\n",
    "    da, endo, endo, immune, nonda,#10\n",
    "    astro, nonda, none, mito, none,#15\n",
    "    mg, mg, nonda, opc, oligo,#20\n",
    "    nonda, immune, opc, none#25   \n",
    "    )\n",
    "\n",
    "seurat_dapi_merged = assignCellClasses(seurat_dapi_merged, dapi_classes)\n",
    "DimPlot(seurat_dapi_merged[, ! seurat_dapi_merged$cell_class %in% c(mix, none, NA)], group.by=\"cell_class\")"
   ]
  },
  {
   "cell_type": "code",
   "execution_count": null,
   "metadata": {
    "vscode": {
     "languageId": "r"
    }
   },
   "outputs": [],
   "source": [
    "saveRDS(seurat_dapi_merged, file=file.path(BASE_PATH, \"seurat_dapi_merged_initial_harmonized_20240119.rds\"))"
   ]
  },
  {
   "cell_type": "code",
   "execution_count": null,
   "metadata": {
    "vscode": {
     "languageId": "r"
    }
   },
   "outputs": [],
   "source": [
    "\n"
   ]
  },
  {
   "cell_type": "code",
   "execution_count": null,
   "metadata": {
    "vscode": {
     "languageId": "r"
    }
   },
   "outputs": [],
   "source": [
    "pct_clust1 = (\n",
    "    rowSums(seurat_dapi_merged[, seurat_dapi_merged$seurat_clusters==1] > 0) /\n",
    "    ncol(seurat_dapi_merged[, seurat_dapi_merged$seurat_clusters==1])\n",
    ")"
   ]
  },
  {
   "cell_type": "code",
   "execution_count": null,
   "metadata": {
    "vscode": {
     "languageId": "r"
    }
   },
   "outputs": [],
   "source": [
    "\n",
    "getClusterLogFC = function(seurat_obj, cluster){\n",
    "    clust_genesums = rowSums(seurat_obj[, seurat_obj$seurat_clusters==cluster])\n",
    "    non_clust_genesums = rowSums(seurat_obj[, seurat_obj$seurat_clusters!=cluster])\n",
    "    logfc_clust = log2((clust_genesums + 1) / (non_clust_genesums + 1))\n",
    "    return(sort(logfc_clust, decreasing = TRUE))\n",
    "}\n",
    "\n",
    "getClusterLogFC(seurat_dapi_merged, 1)[1:50]\n",
    "\n"
   ]
  },
  {
   "cell_type": "code",
   "execution_count": null,
   "metadata": {
    "vscode": {
     "languageId": "r"
    }
   },
   "outputs": [],
   "source": [
    "getClusterLogFC(seurat_dapi_merged, 17)[1:100]\n",
    "getClusterLogFC(seurat_dapi_merged, 19)[1:100]\n",
    "getClusterLogFC(seurat_dapi_merged, 28)[1:100]"
   ]
  },
  {
   "cell_type": "code",
   "execution_count": null,
   "metadata": {
    "vscode": {
     "languageId": "r"
    }
   },
   "outputs": [],
   "source": [
    "# what are the genes that have the highest enrichment in cluster 1?\n",
    "log(clust1_genesums) - log(1 + non_clust1_genesums)"
   ]
  },
  {
   "cell_type": "code",
   "execution_count": null,
   "metadata": {
    "vscode": {
     "languageId": "r"
    }
   },
   "outputs": [],
   "source": [
    "DimPlot(seurat_dapi_merged, group.by=\"cell_class\")"
   ]
  },
  {
   "cell_type": "code",
   "execution_count": null,
   "metadata": {
    "vscode": {
     "languageId": "r"
    }
   },
   "outputs": [],
   "source": [
    "FeaturePlot(seurat_dapi_merged,\n",
    "    features=\"log10_nUMI\")"
   ]
  },
  {
   "cell_type": "code",
   "execution_count": null,
   "metadata": {
    "vscode": {
     "languageId": "r"
    }
   },
   "outputs": [],
   "source": [
    "FeaturePlot(seurat_dapi_merged,\n",
    "    features=\"QC_MT.pct\")"
   ]
  },
  {
   "cell_type": "code",
   "execution_count": null,
   "metadata": {
    "vscode": {
     "languageId": "r"
    }
   },
   "outputs": [],
   "source": [
    "FeaturePlot(seurat_dapi_merged,\n",
    "    features=\"pct_intronic\")"
   ]
  },
  {
   "cell_type": "code",
   "execution_count": null,
   "metadata": {
    "vscode": {
     "languageId": "r"
    }
   },
   "outputs": [],
   "source": [
    "FeaturePlot(seurat_dapi_merged[, ! seurat_dapi_merged$cell_class %in% (c(mix, none, NA))],\n",
    "    features=\"SLC6A3\")"
   ]
  },
  {
   "cell_type": "code",
   "execution_count": null,
   "metadata": {
    "vscode": {
     "languageId": "r"
    }
   },
   "outputs": [],
   "source": [
    "FeaturePlot(seurat_dapi_merged[, ! seurat_dapi_merged$cell_class %in% (c(mix, none, NA))],\n",
    "    features=\"SYT1\")"
   ]
  },
  {
   "cell_type": "code",
   "execution_count": null,
   "metadata": {
    "vscode": {
     "languageId": "r"
    }
   },
   "outputs": [],
   "source": [
    "FeaturePlot(seurat_dapi_merged[, ! seurat_dapi_merged$cell_class %in% (c(mix, none, NA))],\n",
    "    features=\"GAD1\")"
   ]
  },
  {
   "cell_type": "code",
   "execution_count": null,
   "metadata": {
    "vscode": {
     "languageId": "r"
    }
   },
   "outputs": [],
   "source": [
    "FeaturePlot(seurat_dapi_merged[, ! seurat_dapi_merged$cell_class %in% (c(mix, none, NA))],\n",
    "    features=\"GPNMB\")"
   ]
  },
  {
   "cell_type": "code",
   "execution_count": null,
   "metadata": {
    "vscode": {
     "languageId": "r"
    }
   },
   "outputs": [],
   "source": [
    "FeaturePlot(seurat_dapi_merged[, ! seurat_dapi_merged$cell_class %in% (c(mix, none, NA))],\n",
    "    features=\"GFAP\")"
   ]
  },
  {
   "cell_type": "code",
   "execution_count": null,
   "metadata": {
    "vscode": {
     "languageId": "r"
    }
   },
   "outputs": [],
   "source": [
    "FeaturePlot(seurat_dapi_merged[, ! seurat_dapi_merged$cell_class %in% (c(mix, none, NA))],\n",
    "    features=\"OLIG1\")"
   ]
  },
  {
   "cell_type": "code",
   "execution_count": null,
   "metadata": {
    "vscode": {
     "languageId": "r"
    }
   },
   "outputs": [],
   "source": [
    "FeaturePlot(seurat_dapi_merged[, ! seurat_dapi_merged$cell_class %in% (c(mix, none, NA))],\n",
    "    features=\"OLIG2\")"
   ]
  },
  {
   "cell_type": "code",
   "execution_count": null,
   "metadata": {
    "vscode": {
     "languageId": "r"
    }
   },
   "outputs": [],
   "source": [
    "FeaturePlot(seurat_dapi_merged[, ! seurat_dapi_merged$cell_class %in% (c(mix, none, NA))],\n",
    "    features=\"THEMIS\")"
   ]
  },
  {
   "cell_type": "code",
   "execution_count": null,
   "metadata": {
    "vscode": {
     "languageId": "r"
    }
   },
   "outputs": [],
   "source": [
    "FeaturePlot(seurat_dapi_merged[, ! seurat_dapi_merged$cell_class %in% (c(mix, none, NA))],\n",
    "    features=\"SPP1\")"
   ]
  },
  {
   "cell_type": "code",
   "execution_count": null,
   "metadata": {
    "vscode": {
     "languageId": "r"
    }
   },
   "outputs": [],
   "source": [
    "# 20240119 markers\n",
    "# nurr_classes = list(\n",
    "#     none, da, nonda, da, nonda, \n",
    "#     nonda, none, nonda, nonda, nonda, \n",
    "#     da, nonda, nonda, astro, nonda, #10\n",
    "#     nonda, nonda, mito, none, none, \n",
    "#     nonda, nonda, da, opc, none,    #20\n",
    "#     mito, none, nonda, nonda, nonda, \n",
    "#     astro, nonda, none, none, none, #30\n",
    "#     none, ependymal, nonda, none, mix, \n",
    "#     mix, none, none, nonda, none \n",
    "#     )"
   ]
  }
 ],
 "metadata": {
  "kernelspec": {
   "display_name": "R",
   "language": "R",
   "name": "ir"
  },
  "language_info": {
   "codemirror_mode": "r",
   "file_extension": ".r",
   "mimetype": "text/x-r-source",
   "name": "R",
   "pygments_lexer": "r",
   "version": "4.0.4"
  }
 },
 "nbformat": 4,
 "nbformat_minor": 2
}
