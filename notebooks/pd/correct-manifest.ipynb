{
 "cells": [
  {
   "cell_type": "code",
   "execution_count": 13,
   "metadata": {
    "vscode": {
     "languageId": "r"
    }
   },
   "outputs": [
    {
     "name": "stderr",
     "output_type": "stream",
     "text": [
      "\n",
      "Attaching package: ‘dplyr’\n",
      "\n",
      "\n",
      "The following objects are masked from ‘package:stats’:\n",
      "\n",
      "    filter, lag\n",
      "\n",
      "\n",
      "The following objects are masked from ‘package:base’:\n",
      "\n",
      "    intersect, setdiff, setequal, union\n",
      "\n",
      "\n"
     ]
    }
   ],
   "source": [
    "library(dplyr)"
   ]
  },
  {
   "cell_type": "code",
   "execution_count": 61,
   "metadata": {
    "vscode": {
     "languageId": "r"
    }
   },
   "outputs": [
    {
     "name": "stderr",
     "output_type": "stream",
     "text": [
      "Warning message in scan(file = file, what = what, sep = sep, quote = quote, dec = dec, :\n",
      "“EOF within quoted string”\n"
     ]
    },
    {
     "data": {
      "text/html": [
       "<table class=\"dataframe\">\n",
       "<caption>A data.frame: 6 × 6</caption>\n",
       "<thead>\n",
       "\t<tr><th></th><th scope=col>participant_id</th><th scope=col>age</th><th scope=col>country</th><th scope=col>sex</th><th scope=col>disease</th><th scope=col>case_control</th></tr>\n",
       "\t<tr><th></th><th scope=col>&lt;chr&gt;</th><th scope=col>&lt;int&gt;</th><th scope=col>&lt;chr&gt;</th><th scope=col>&lt;chr&gt;</th><th scope=col>&lt;chr&gt;</th><th scope=col>&lt;chr&gt;</th></tr>\n",
       "</thead>\n",
       "<tbody>\n",
       "\t<tr><th scope=row>1</th><td>1995-078</td><td>80</td><td>Netherlands</td><td>Female</td><td>Control</td><td>ctr</td></tr>\n",
       "\t<tr><th scope=row>2</th><td>1997-115</td><td>89</td><td>Netherlands</td><td>Female</td><td>Control</td><td>ctr</td></tr>\n",
       "\t<tr><th scope=row>3</th><td>1998-016</td><td>82</td><td>Netherlands</td><td>Female</td><td>Control</td><td>ctr</td></tr>\n",
       "\t<tr><th scope=row>4</th><td>1998-051</td><td>94</td><td>Netherlands</td><td>Female</td><td>Control</td><td>ctr</td></tr>\n",
       "\t<tr><th scope=row>5</th><td>2002-086</td><td>74</td><td>Netherlands</td><td>Female</td><td>Control</td><td>ctr</td></tr>\n",
       "\t<tr><th scope=row>6</th><td>2007-020</td><td>74</td><td>Netherlands</td><td>Male  </td><td>Control</td><td>ctr</td></tr>\n",
       "</tbody>\n",
       "</table>\n"
      ],
      "text/latex": [
       "A data.frame: 6 × 6\n",
       "\\begin{tabular}{r|llllll}\n",
       "  & participant\\_id & age & country & sex & disease & case\\_control\\\\\n",
       "  & <chr> & <int> & <chr> & <chr> & <chr> & <chr>\\\\\n",
       "\\hline\n",
       "\t1 & 1995-078 & 80 & Netherlands & Female & Control & ctr\\\\\n",
       "\t2 & 1997-115 & 89 & Netherlands & Female & Control & ctr\\\\\n",
       "\t3 & 1998-016 & 82 & Netherlands & Female & Control & ctr\\\\\n",
       "\t4 & 1998-051 & 94 & Netherlands & Female & Control & ctr\\\\\n",
       "\t5 & 2002-086 & 74 & Netherlands & Female & Control & ctr\\\\\n",
       "\t6 & 2007-020 & 74 & Netherlands & Male   & Control & ctr\\\\\n",
       "\\end{tabular}\n"
      ],
      "text/markdown": [
       "\n",
       "A data.frame: 6 × 6\n",
       "\n",
       "| <!--/--> | participant_id &lt;chr&gt; | age &lt;int&gt; | country &lt;chr&gt; | sex &lt;chr&gt; | disease &lt;chr&gt; | case_control &lt;chr&gt; |\n",
       "|---|---|---|---|---|---|---|\n",
       "| 1 | 1995-078 | 80 | Netherlands | Female | Control | ctr |\n",
       "| 2 | 1997-115 | 89 | Netherlands | Female | Control | ctr |\n",
       "| 3 | 1998-016 | 82 | Netherlands | Female | Control | ctr |\n",
       "| 4 | 1998-051 | 94 | Netherlands | Female | Control | ctr |\n",
       "| 5 | 2002-086 | 74 | Netherlands | Female | Control | ctr |\n",
       "| 6 | 2007-020 | 74 | Netherlands | Male   | Control | ctr |\n",
       "\n"
      ],
      "text/plain": [
       "  participant_id age country     sex    disease case_control\n",
       "1 1995-078       80  Netherlands Female Control ctr         \n",
       "2 1997-115       89  Netherlands Female Control ctr         \n",
       "3 1998-016       82  Netherlands Female Control ctr         \n",
       "4 1998-051       94  Netherlands Female Control ctr         \n",
       "5 2002-086       74  Netherlands Female Control ctr         \n",
       "6 2007-020       74  Netherlands Male   Control ctr         "
      ]
     },
     "metadata": {},
     "output_type": "display_data"
    }
   ],
   "source": [
    "participant_metadata = read.table(\"~/sc-online/notebook_data/pd/calico_donor_metadata.tsv\", sep=\"\\t\", header=T)\n",
    "participant_metadata$case_control = ifelse(\n",
    "    participant_metadata$disease == \"Control\", \"ctr\", \"pd\"\n",
    ")\n",
    "head(participant_metadata)"
   ]
  },
  {
   "cell_type": "code",
   "execution_count": 62,
   "metadata": {
    "vscode": {
     "languageId": "r"
    }
   },
   "outputs": [],
   "source": [
    "manifest_orig = read.table(\"~/sc-online/notebook_data/pd/Calico_Macosko_PD_GSA_Terra_Manifest_20240220.tsv\", sep=\"\\t\", header=TRUE)\n",
    "manifest_orig = manifest_orig[complete.cases(manifest_orig),]\n",
    "manifest_orig$age = manifest_orig$Age \n",
    "manifest_orig$sex = manifest_orig$Sex\n",
    "manifest_orig$case_control = ifelse(\n",
    "    manifest_orig$Disease == \"Control\", \"ctr\", \"pd\"\n",
    ")\n",
    "manifest_orig$participant_id = manifest_orig$collaborator_participant_id\n"
   ]
  },
  {
   "cell_type": "code",
   "execution_count": 63,
   "metadata": {
    "vscode": {
     "languageId": "r"
    }
   },
   "outputs": [],
   "source": [
    "repatient = read.table(\"~/sc-online/notebook_data/pd/calico_repatient_20240304.tsv\", sep=\"\\t\", header=FALSE)\n",
    "repatient$chip_well_barcode = repatient$V2\n",
    "repatient$old_participant_id = repatient$V5\n",
    "repatient$participant_id = repatient$V6"
   ]
  },
  {
   "cell_type": "code",
   "execution_count": 64,
   "metadata": {
    "vscode": {
     "languageId": "r"
    }
   },
   "outputs": [],
   "source": [
    "manifest = (\n",
    "    manifest_orig \n",
    "    %>% left_join(repatient, by=\"chip_well_barcode\", suffix=c(\"_orig\", \"_repatient\"))\n",
    "    %>% mutate(\n",
    "        participant_id = ifelse(\n",
    "            is.na(participant_id_repatient), participant_id_orig, participant_id_repatient\n",
    "        )\n",
    "    )\n",
    ")"
   ]
  },
  {
   "cell_type": "code",
   "execution_count": 65,
   "metadata": {
    "vscode": {
     "languageId": "r"
    }
   },
   "outputs": [
    {
     "data": {
      "text/html": [
       "<table class=\"dataframe\">\n",
       "<caption>A data.frame: 6 × 5</caption>\n",
       "<thead>\n",
       "\t<tr><th></th><th scope=col>participant_id</th><th scope=col>chip_well_barcode</th><th scope=col>age</th><th scope=col>sex</th><th scope=col>case_control</th></tr>\n",
       "\t<tr><th></th><th scope=col>&lt;chr&gt;</th><th scope=col>&lt;chr&gt;</th><th scope=col>&lt;int&gt;</th><th scope=col>&lt;chr&gt;</th><th scope=col>&lt;chr&gt;</th></tr>\n",
       "</thead>\n",
       "<tbody>\n",
       "\t<tr><th scope=row>1</th><td>PDC091  </td><td>206954930010_R05C02</td><td>85</td><td>Male  </td><td>ctr</td></tr>\n",
       "\t<tr><th scope=row>2</th><td>PDC110  </td><td>206954930060_R11C02</td><td>94</td><td>Female</td><td>ctr</td></tr>\n",
       "\t<tr><th scope=row>3</th><td>PDC078  </td><td>206954930093_R05C02</td><td>91</td><td>Male  </td><td>ctr</td></tr>\n",
       "\t<tr><th scope=row>4</th><td>PDC078  </td><td>207762950055_R07C02</td><td>91</td><td>Male  </td><td>ctr</td></tr>\n",
       "\t<tr><th scope=row>5</th><td>2019-102</td><td>207762950055_R11C01</td><td>58</td><td>Male  </td><td>pd </td></tr>\n",
       "\t<tr><th scope=row>6</th><td>PD0878  </td><td>207762950086_R02C01</td><td>71</td><td>Male  </td><td>pd </td></tr>\n",
       "</tbody>\n",
       "</table>\n"
      ],
      "text/latex": [
       "A data.frame: 6 × 5\n",
       "\\begin{tabular}{r|lllll}\n",
       "  & participant\\_id & chip\\_well\\_barcode & age & sex & case\\_control\\\\\n",
       "  & <chr> & <chr> & <int> & <chr> & <chr>\\\\\n",
       "\\hline\n",
       "\t1 & PDC091   & 206954930010\\_R05C02 & 85 & Male   & ctr\\\\\n",
       "\t2 & PDC110   & 206954930060\\_R11C02 & 94 & Female & ctr\\\\\n",
       "\t3 & PDC078   & 206954930093\\_R05C02 & 91 & Male   & ctr\\\\\n",
       "\t4 & PDC078   & 207762950055\\_R07C02 & 91 & Male   & ctr\\\\\n",
       "\t5 & 2019-102 & 207762950055\\_R11C01 & 58 & Male   & pd \\\\\n",
       "\t6 & PD0878   & 207762950086\\_R02C01 & 71 & Male   & pd \\\\\n",
       "\\end{tabular}\n"
      ],
      "text/markdown": [
       "\n",
       "A data.frame: 6 × 5\n",
       "\n",
       "| <!--/--> | participant_id &lt;chr&gt; | chip_well_barcode &lt;chr&gt; | age &lt;int&gt; | sex &lt;chr&gt; | case_control &lt;chr&gt; |\n",
       "|---|---|---|---|---|---|\n",
       "| 1 | PDC091   | 206954930010_R05C02 | 85 | Male   | ctr |\n",
       "| 2 | PDC110   | 206954930060_R11C02 | 94 | Female | ctr |\n",
       "| 3 | PDC078   | 206954930093_R05C02 | 91 | Male   | ctr |\n",
       "| 4 | PDC078   | 207762950055_R07C02 | 91 | Male   | ctr |\n",
       "| 5 | 2019-102 | 207762950055_R11C01 | 58 | Male   | pd  |\n",
       "| 6 | PD0878   | 207762950086_R02C01 | 71 | Male   | pd  |\n",
       "\n"
      ],
      "text/plain": [
       "  participant_id chip_well_barcode   age sex    case_control\n",
       "1 PDC091         206954930010_R05C02 85  Male   ctr         \n",
       "2 PDC110         206954930060_R11C02 94  Female ctr         \n",
       "3 PDC078         206954930093_R05C02 91  Male   ctr         \n",
       "4 PDC078         207762950055_R07C02 91  Male   ctr         \n",
       "5 2019-102       207762950055_R11C01 58  Male   pd          \n",
       "6 PD0878         207762950086_R02C01 71  Male   pd          "
      ]
     },
     "metadata": {},
     "output_type": "display_data"
    }
   ],
   "source": [
    "head(manifest[,c(\"participant_id\", \"chip_well_barcode\", \"age\", \"sex\", \"case_control\")])"
   ]
  },
  {
   "cell_type": "code",
   "execution_count": 68,
   "metadata": {
    "vscode": {
     "languageId": "r"
    }
   },
   "outputs": [],
   "source": [
    "# write manifest to a tsv \n",
    "write.table(manifest, \"~/sc-online/notebook_data/pd/calico_donor_corrected_manifest_20240306.tsv\", sep=\"\\t\", quote=FALSE, row.names=FALSE)"
   ]
  },
  {
   "cell_type": "code",
   "execution_count": null,
   "metadata": {
    "vscode": {
     "languageId": "r"
    }
   },
   "outputs": [],
   "source": []
  }
 ],
 "metadata": {
  "kernelspec": {
   "display_name": "R",
   "language": "R",
   "name": "ir"
  },
  "language_info": {
   "codemirror_mode": "r",
   "file_extension": ".r",
   "mimetype": "text/x-r-source",
   "name": "R",
   "pygments_lexer": "r",
   "version": "4.0.4"
  }
 },
 "nbformat": 4,
 "nbformat_minor": 2
}
