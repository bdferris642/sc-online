{
 "cells": [
  {
   "cell_type": "code",
   "execution_count": null,
   "metadata": {
    "vscode": {
     "languageId": "r"
    }
   },
   "outputs": [],
   "source": [
    "library(dplyr)"
   ]
  },
  {
   "cell_type": "code",
   "execution_count": null,
   "metadata": {
    "vscode": {
     "languageId": "r"
    }
   },
   "outputs": [],
   "source": [
    "participant_metadata = read.table(\"~/sc-online/notebook_data/pd/calico_donor_metadata.tsv\", sep=\"\\t\", header=T)\n",
    "participant_metadata$case_control = ifelse(\n",
    "    participant_metadata$disease == \"Control\", \"ctr\", \"pd\"\n",
    ")\n",
    "head(participant_metadata)"
   ]
  },
  {
   "cell_type": "code",
   "execution_count": null,
   "metadata": {
    "vscode": {
     "languageId": "r"
    }
   },
   "outputs": [],
   "source": [
    "manifest_orig = read.table(\"~/sc-online/notebook_data/pd/Calico_Macosko_PD_GSA_Terra_Manifest_20240220.tsv\", sep=\"\\t\", header=TRUE)\n",
    "manifest_orig = manifest_orig[complete.cases(manifest_orig),]\n",
    "manifest_orig$age = manifest_orig$Age \n",
    "manifest_orig$sex = manifest_orig$Sex\n",
    "manifest_orig$case_control = ifelse(\n",
    "    manifest_orig$Disease == \"Control\", \"ctr\", \"pd\"\n",
    ")\n",
    "manifest_orig$participant_id = manifest_orig$collaborator_participant_id\n",
    "head(manifest_orig)\n"
   ]
  },
  {
   "cell_type": "code",
   "execution_count": null,
   "metadata": {
    "vscode": {
     "languageId": "r"
    }
   },
   "outputs": [],
   "source": [
    "repatient = read.table(\"~/sc-online/notebook_data/pd/calico_repatient_20240307.tsv\", sep=\"\\t\", header=FALSE)\n",
    "repatient$chip_well_barcode = repatient$V2\n",
    "repatient$old_participant_id = repatient$V4\n",
    "repatient$participant_id = repatient$V5\n",
    "head(repatient)"
   ]
  },
  {
   "cell_type": "code",
   "execution_count": null,
   "metadata": {
    "vscode": {
     "languageId": "r"
    }
   },
   "outputs": [],
   "source": [
    "manifest = (\n",
    "    manifest_orig\n",
    "    %>% select(chip_well_barcode, participant_id, age, sex, case_control) \n",
    "    %>% left_join(repatient, by=\"chip_well_barcode\", suffix=c(\"_orig\", \"_repatient\"))\n",
    "    %>% mutate(\n",
    "        participant_id = ifelse(\n",
    "            is.na(participant_id_repatient)\n",
    "            , participant_id_orig\n",
    "            , participant_id_repatient\n",
    "        )\n",
    "    )\n",
    ")\n",
    "unique(manifest$participant_id_repatient)"
   ]
  },
  {
   "cell_type": "code",
   "execution_count": null,
   "metadata": {
    "vscode": {
     "languageId": "r"
    }
   },
   "outputs": [],
   "source": [
    "manifest[manifest$participant_id %in% c(\"PDC091\", \"PDC110\"),\n",
    "    c(\"chip_well_barcode\", \"participant_id\")\n",
    "]"
   ]
  },
  {
   "cell_type": "code",
   "execution_count": null,
   "metadata": {
    "vscode": {
     "languageId": "r"
    }
   },
   "outputs": [],
   "source": [
    "head(manifest[,\n",
    "    #manifest$participant_id %in% c(\"PDC091\", \"PDC110\"),\n",
    "    c(\"participant_id\", \"chip_well_barcode\", \"age\", \"sex\", \"case_control\")])"
   ]
  },
  {
   "cell_type": "code",
   "execution_count": null,
   "metadata": {
    "vscode": {
     "languageId": "r"
    }
   },
   "outputs": [],
   "source": [
    "# write manifest to a tsv \n",
    "write.table(manifest[,c(\"participant_id\", \"chip_well_barcode\", \"age\", \"sex\", \"case_control\")], \"~/sc-online/notebook_data/pd/calico_donor_corrected_manifest_20240306.tsv\", sep=\"\\t\", quote=FALSE, row.names=FALSE)"
   ]
  },
  {
   "cell_type": "code",
   "execution_count": null,
   "metadata": {
    "vscode": {
     "languageId": "r"
    }
   },
   "outputs": [],
   "source": []
  }
 ],
 "metadata": {
  "kernelspec": {
   "display_name": "R",
   "language": "R",
   "name": "ir"
  },
  "language_info": {
   "codemirror_mode": "r",
   "file_extension": ".r",
   "mimetype": "text/x-r-source",
   "name": "R",
   "pygments_lexer": "r",
   "version": "4.0.4"
  }
 },
 "nbformat": 4,
 "nbformat_minor": 2
}
