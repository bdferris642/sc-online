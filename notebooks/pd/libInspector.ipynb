{
 "cells": [
  {
   "cell_type": "code",
   "execution_count": null,
   "metadata": {
    "vscode": {
     "languageId": "r"
    }
   },
   "outputs": [],
   "source": [
    "source(\"~/sc-online/extraGenes.R\")\n",
    "source(\"~/sc-online/myExpSetCreatorFn.R\")\n",
    "source(\"~/sc-online/utils.R\")\n",
    "source(\"~/sc-online/labelTransfer.R\")\n",
    "\n",
    "library(caret)\n",
    "library(\"DropletUtils\")\n",
    "library(dplyr)\n",
    "library(ggplot2)\n",
    "library(grid)\n",
    "library(gridExtra)\n",
    "library(gtable)\n",
    "library(lisi)\n",
    "library(Matrix)\n",
    "library(patchwork)\n",
    "library(pheatmap)\n",
    "library(RColorBrewer)\n",
    "library(rhdf5)\n",
    "library(rlang)\n",
    "\n",
    "library(Seurat)\n",
    "library(tidyr)\n",
    "library(xml2)\n",
    "\n",
    "library(viridis)\n",
    "library(viridisLite)"
   ]
  },
  {
   "cell_type": "code",
   "execution_count": null,
   "metadata": {
    "vscode": {
     "languageId": "r"
    }
   },
   "outputs": [],
   "source": [
    "READ_RAW_READS = TRUE\n",
    "WRITE_RAW_READS = FALSE\n",
    "\n",
    "BASE_PATH = \"/mnt/accessory/seq_data\"\n",
    "VIREO_DONOR_IDS_BASENAME = 'vireo_outs/donor_list/donor_ids.tsv'\n",
    "CB_SCE_BASENAME = \"ingested_data/cb_data_sce_FPR_0.01.rds\"\n",
    "DATA_ING_DIR = \"ingested_data\"\n",
    "RAW_COUNTS_MATRIX_BASENAME = \"raw_feature_bc_matrix.rds\"\n",
    "\n",
    "calico_libs_long = readLines(\"~/calico-libs-long.txt\")\n",
    "calico_libs_long = calico_libs_long[calico_libs_long != \"\"]\n",
    "calico_libs = lapply(calico_libs_long, function(x) {\n",
    "    split = strsplit(x, split = \"_\")[[1]]\n",
    "    return(paste(split[2:length(split)], collapse = \"_\"))\n",
    "})\n",
    "names(calico_libs_long) = calico_libs\n",
    "\n",
    "gtex_libs_long = readLines(\"~/gtex-libs-long.txt\")\n",
    "gtex_libs_long = gtex_libs_long[gtex_libs_long != \"\"]\n",
    "gtex_libs = lapply(gtex_libs_long, function(x) {\n",
    "    split = strsplit(x, split = \"_\")[[1]]\n",
    "    return(paste(split[2:length(split)], collapse = \"_\"))\n",
    "})\n",
    "names(gtex_libs_long) = gtex_libs\n",
    "\n",
    "libs_long = c(calico_libs_long, gtex_libs_long)\n",
    "libs = c(calico_libs, gtex_libs)\n",
    "\n",
    "lib_info = read.table(\"~/sc-online/notebook_data/pd/pd_lib_info_20240301.tsv\", header = TRUE, sep = \"\\t\", stringsAsFactors = FALSE)\n",
    "dapi_nurr = setNames(lib_info$sort, lib_info$library)\n"
   ]
  },
  {
   "cell_type": "code",
   "execution_count": null,
   "metadata": {
    "vscode": {
     "languageId": "r"
    }
   },
   "outputs": [],
   "source": [
    "donor_ids_list=list()\n",
    "sce_list=list()\n",
    "\n",
    "print('Reading donor_ids and sce files...')\n",
    "for (lib in libs){\n",
    "    if (lib %in% calico_libs){\n",
    "        this_base_path = paste0(BASE_PATH, \"/calico\")\n",
    "    } else if (lib %in% gtex_libs){\n",
    "        this_base_path = paste0(BASE_PATH, \"/gtex\")\n",
    "    } else {\n",
    "        stop(\"Unknown library: \", lib)\n",
    "    }\n",
    "\n",
    "    \n",
    "    donor_ids_path = file.path(this_base_path, lib, VIREO_DONOR_IDS_BASENAME)\n",
    "    sce_path = file.path(this_base_path, lib, CB_SCE_BASENAME)\n",
    "\n",
    "    tryCatch({\n",
    "        donor_ids = read.table(donor_ids_path, header = TRUE, sep = \"\\t\")\n",
    "        donor_ids_list[[lib]] = donor_ids\n",
    "        \n",
    "        sce = readRDS(sce_path)\n",
    "        sce_list[[lib]] = sce\n",
    "    }, error = function(e) {\n",
    "        message(\"Failed to read \", lib, \": \", e$message)\n",
    "    })\n",
    "}\n"
   ]
  },
  {
   "cell_type": "code",
   "execution_count": null,
   "metadata": {
    "vscode": {
     "languageId": "r"
    }
   },
   "outputs": [],
   "source": [
    "if (READ_RAW_READS) {\n",
    "\n",
    "    print(\"Reading raw data...\")\n",
    "    raw_data_list = list()\n",
    "    raw_col_data_list = list()\n",
    "    for (name in names(donor_ids_list)){\n",
    "        print(name)\n",
    "        if (name %in% calico_libs){\n",
    "            this_base_path = paste0(BASE_PATH, \"/calico\")\n",
    "        } else if (name %in% gtex_libs){\n",
    "            this_base_path = paste0(BASE_PATH, \"/gtex\")\n",
    "        } else {\n",
    "            stop(\"Unknown library: \", name)\n",
    "        }\n",
    "            \n",
    "        raw_file_path = file.path(this_base_path, name, DATA_ING_DIR, RAW_COUNTS_MATRIX_BASENAME)\n",
    "\n",
    "        raw_data_dcg = readRDS(raw_file_path)\n",
    "        raw_data_list[[name]] = raw_data_dcg\n",
    "        cd = data.frame(\n",
    "            row.names=colnames(raw_data_dcg),\n",
    "            nUMI=colSums(raw_data_dcg),\n",
    "            log10_nUMI = log10(colSums(raw_data_dcg) + 1),\n",
    "            nGene=colSums(raw_data_dcg > 0),\n",
    "            is_in_filtered=colnames(raw_data_dcg) %in% colnames(sce_list[[name]])\n",
    "        )\n",
    "        raw_col_data_list[[name]] = cd\n",
    "\n",
    "        if(WRITE_RAW_READS){\n",
    "            saveRDS(cd, file.path(this_base_path, name,  DATA_ING_DIR, 'raw_feature_bc_matrix_col_data.rds'))\n",
    "        }\n",
    "    }\n",
    "}\n",
    "\n",
    "cd_list = list()\n",
    "for (name in names(donor_ids_list)){\n",
    "    cd = as.data.frame(colData(sce_list[[name]]))\n",
    "    cd$log10_nUMI = log10(cd$nUMI + 1)\n",
    "    cd$log10_nGene = log10(cd$nGene + 1)\n",
    "    cd$log10_nRead = log10(cd$nRead + 1)\n",
    "    cd_list[[name]] = cd\n",
    "}"
   ]
  },
  {
   "cell_type": "code",
   "execution_count": null,
   "metadata": {
    "vscode": {
     "languageId": "r"
    }
   },
   "outputs": [],
   "source": [
    "source(\"~/sc-online/plot.R\")\n",
    "\n",
    "# For every library, plot the following\n",
    "\n",
    "# 1. Display a df of\n",
    "#   (a) num cells\n",
    "#   (b) Med num genes\n",
    "#   (c) Med num UMIs\n",
    "#   (d) Min num UMIs\n",
    "#   (e) Med Reads / UMI\n",
    "\n",
    "# 2. Knee Plot\n",
    "# 3. Hist of Doublet Probabilities\n",
    "# 4. Hist of nUMI colored by Assignable\n",
    "# 5. Hist of Reads / UMI colored by assignable\n",
    "# 6. Scatter of Pct Intronic vs nUMI, colored by assignable\n",
    "\n",
    "plot_base_dir = '/mnt/accessory/analysis/plots/pd/20240304'\n",
    "\n",
    "for (name in names(donor_ids_list)){\n",
    "\n",
    "    print(name)\n",
    "\n",
    "    vireo_donors = donor_ids_list[[name]]\n",
    "    sce = sce_list[[name]]\n",
    "    raw_data = raw_data_list[[name]]\n",
    "    raw_col_data = raw_col_data_list[[name]]\n",
    "\n",
    "    df_plot_path = file.path(plot_base_dir, paste0(name, '_01_df_plot.png'))\n",
    "    knee_plot_path = file.path(plot_base_dir, paste0(name, '_02_knee_plot.png'))\n",
    "    doublet_prob_hist_path = file.path(plot_base_dir, paste0(name, '_03_doublet_prob_hist.png'))\n",
    "    num_umi_hist_path = file.path(plot_base_dir, paste0(name, '_04_num_umi_hist.png'))\n",
    "    reads_per_umi_hist_path = file.path(plot_base_dir, paste0(name, '_05_reads_per_umi_hist.png'))\n",
    "    pct_intronic_vs_num_umi_path = file.path(plot_base_dir, paste0(name, '_06_pct_intronic_vs_num_umi.png'))\n",
    "\n",
    "    raw_col_data$log10_nUMI = log10(raw_col_data$nUMI + 1)\n",
    "    cd = as.data.frame(colData(sce))\n",
    "    cd$log10_nUMI = log10(cd$nUMI + 1)\n",
    "    cd$log10_nGene = log10(cd$nGene + 1)\n",
    "    cd$log10_nRead = log10(cd$nRead + 1)\n",
    "    cd$prob_max = cd$prob_donor # this is just for compatibility with other functions\n",
    "    cd$reads_per_umi = cd$nRead / cd$nUMI\n",
    "\n",
    "    cd_singlet = cd[cd$prob_doublet < (1/3), ]\n",
    "\n",
    "    # build a df that is the merger of demuxlet and vireo, and change column names for ease of use\n",
    "    rownames(vireo_donors) = vireo_donors$cell \n",
    "    \n",
    "    vireo_donors['is_singlet_vireo'] = as.numeric(vireo_donors$prob_doublet < (1/3))\n",
    "    vireo_donors['prob_donor_vireo'] = vireo_donors$prob_max\n",
    "    \n",
    "\n",
    "    # NOTE: THERE ARE CASES WHEN VIREO'S `DONOR_ID` IS 'UNASSIGNED' EVEN WHEN `PROB_MAX` >= 0.9\n",
    "    # IN CASES WITH FEWER THAN 10 SNPS. BEST_SINGLET IGNORES THIS CUTOFF\n",
    "    vireo_donors['id_donor_vireo'] = vireo_donors$donor_id\n",
    "    vireo_donors['library'] = name\n",
    "\n",
    "    # summary df to plot\n",
    "    summary_df = data.frame(\n",
    "        'Library' = name,\n",
    "        'Sort' = dapi_nurr[[name]],\n",
    "        'Num_Cells' = nrow(cd),\n",
    "        'Frac_Assignable_Vireo' = round(getFracAssignableVireo(vireo_donors), 2),\n",
    "        \n",
    "        'Min_nReads' = min(cd$nRead),\n",
    "        'Median_nReads' = median(cd$nRead),\n",
    "        'Mean_nReads' = round(mean(cd$nRead), 2),\n",
    "\n",
    "        'Min_nUMI' = min(cd$nUMI),\n",
    "        'Median_nUMI' = median(cd$nUMI),\n",
    "        'Mean_nUMI' = round(mean(cd$nUMI), 2),\n",
    "\n",
    "        'Min_nGenes' = min(cd$nGene),\n",
    "        'Median_nGenes' = median(cd$nGene),\n",
    "        'Mean_nGenes' = round(mean(cd$nGene), 2),\n",
    "\n",
    "        'Min_Reads_per_UMI' = round(min(cd$reads_per_umi), 2),\n",
    "        'Median_Reads_per_UMI' = round(median(cd$reads_per_umi), 2),\n",
    "        'Mean_Reads_per_UMI' = round(mean(cd$reads_per_umi), 2),\n",
    "\n",
    "        'Min_frac_intronic' = round(min(cd$pct_intronic), 2),\n",
    "        'Median_frac_intronic' = round(median(cd$pct_intronic), 2),\n",
    "        'Mean_frac_intronic' = round(mean(cd$pct_intronic), 2),\n",
    "        'Max_frac_intronic' = round(max(cd$pct_intronic), 2),\n",
    "\n",
    "        'Frac_Singlet_Vireo' = round(nrow(cd_singlet) / nrow(cd), 2),\n",
    "        'Frac_Singlet_Vireo_Assignable' = round(getFracAssignableVireo(vireo_donors[vireo_donors$prob_doublet < (1/3), ]), 2)\n",
    "    )\n",
    "\n",
    "    # 1. display DF\n",
    "    plotDfSummary(\n",
    "        df=as.data.frame(t(summary_df)),\n",
    "        fig_filename=df_plot_path\n",
    "    )\n",
    "\n",
    "    # 2. Knee\n",
    "    plotKneeSingle(\n",
    "        df=raw_col_data,\n",
    "        name=name,\n",
    "        title=paste0(\n",
    "            'Knee Plot: ', name,\n",
    "            '\\nNum Cells: ', sum(raw_col_data$is_in_filtered),\n",
    "            '\\nFraction of Cells Assignable: ', round(getFracAssignableVireo(cd), 2)),\n",
    "        ylim=c(0.5, 6),\n",
    "        clim=c(.15, .8),\n",
    "        \n",
    "        fig_filename=knee_plot_path\n",
    "    )\n",
    "\n",
    "    # 3. Doublet Prob Hist\n",
    "    plotHistColorSingle(\n",
    "        df=vireo_donors,\n",
    "        name=name,\n",
    "        plot_col='prob_doublet',\n",
    "        color_col='prob_max',\n",
    "        title=paste0(\n",
    "            'Vireo Doublet Probability: ', name,\n",
    "            \"\\nFrac Predicted Doublet: \", round(sum(vireo_donors$prob_doublet >= (1/3)) / nrow(vireo_donors), 2)), \n",
    "        xlim=c(0, 1),\n",
    "        ylim=c(0, 1),\n",
    "        bin_width=0.1,\n",
    "        fig_filename=doublet_prob_hist_path\n",
    "    )\n",
    "\n",
    "    # 4. Num UMI Hist\n",
    "    plotHistColorSingle(\n",
    "        df=cd_singlet,\n",
    "        name=name,\n",
    "        plot_col='log10_nUMI',\n",
    "        color_col='prob_donor',\n",
    "        bin_width=0.2,\n",
    "    xlim=c(2.6, 5),\n",
    "    ylim=c(0, 0.5),\n",
    "        title=paste0(\n",
    "            'Singlet Log10(nUMI) Histogram -- ', name,\n",
    "            '\\nFraction of Singlets Assignable: ', round(getFracAssignableVireo(cd_singlet), 2),\n",
    "            '\\nUMI -- Min: ', min(cd_singlet$nUMI), ' -- Median: ', median(cd_singlet$nUMI), ' -- Mean: ', mean(cd_singlet$nUMI)),\n",
    "        fig_filename=num_umi_hist_path\n",
    "    )\n",
    "\n",
    "    # 5. Reads / UMI Hist\n",
    "    plotHistColorSingle(\n",
    "        df=cd_singlet,\n",
    "        name=name,\n",
    "        plot_col='reads_per_umi',\n",
    "        color_col='prob_donor',\n",
    "        xlim=c(round(min(cd_singlet$reads_per_umi)), round(max(cd_singlet$reads_per_umi))),\n",
    "        bin_width=round(max(cd_singlet$reads_per_umi) - min(cd_singlet$reads_per_umi)) / 20,\n",
    "        ylim=c(0, 0.5),\n",
    "        title=paste0(\n",
    "            'Singlet nReads/nUMI Histogram -- ', name,\n",
    "            '\\nFraction of Singlets Assignable: ', round(getFracAssignableVireo(cd_singlet), 2),\n",
    "            '\\nUMI -- Min: ', round(min(cd_singlet$reads_per_umi), 1), \n",
    "            ' -- Median: ', round(median(cd_singlet$reads_per_umi), 1),\n",
    "            ' -- Mean: ', round(mean(cd_singlet$reads_per_umi), 1)),\n",
    "        fig_filename=reads_per_umi_hist_path\n",
    "    )\n",
    "\n",
    "    #6. Pct Intronic vs Num UMI Scatter\n",
    "    plotScatterColorSingle(\n",
    "        df=cd_singlet,\n",
    "        name=name,\n",
    "        x_col='log10_nUMI',\n",
    "        y_col='pct_intronic',\n",
    "        color_col='prob_donor',\n",
    "        xlim=c(2.5, 6),\n",
    "        ylim=c(0, 1),\n",
    "        plot_height=8,\n",
    "        plot_width=8,\n",
    "        fig_filename=pct_intronic_vs_num_umi_path\n",
    "    )\n",
    "    \n",
    "}\n"
   ]
  },
  {
   "cell_type": "code",
   "execution_count": null,
   "metadata": {
    "vscode": {
     "languageId": "r"
    }
   },
   "outputs": [],
   "source": [
    "name"
   ]
  },
  {
   "cell_type": "code",
   "execution_count": null,
   "metadata": {
    "vscode": {
     "languageId": "r"
    }
   },
   "outputs": [],
   "source": [
    "gtex_libs"
   ]
  },
  {
   "cell_type": "code",
   "execution_count": null,
   "metadata": {
    "vscode": {
     "languageId": "r"
    }
   },
   "outputs": [],
   "source": [
    "head(libs)"
   ]
  },
  {
   "cell_type": "code",
   "execution_count": null,
   "metadata": {
    "vscode": {
     "languageId": "r"
    }
   },
   "outputs": [],
   "source": [
    "head(donor_ids_list[[\"pCalicoPDsHSrSNSN_VTAiPoold230719G1\"]])"
   ]
  },
  {
   "cell_type": "code",
   "execution_count": null,
   "metadata": {
    "vscode": {
     "languageId": "r"
    }
   },
   "outputs": [],
   "source": [
    "name"
   ]
  },
  {
   "cell_type": "code",
   "execution_count": null,
   "metadata": {
    "vscode": {
     "languageId": "r"
    }
   },
   "outputs": [],
   "source": [
    "faulty"
   ]
  },
  {
   "cell_type": "code",
   "execution_count": null,
   "metadata": {
    "vscode": {
     "languageId": "r"
    }
   },
   "outputs": [],
   "source": [
    "faulty = c()\n",
    "for (name in names(donor_ids_list)){\n",
    "    cd = as.data.frame(colData(sce_list[[name]]))\n",
    "    if (all(is.na(cd$prob_max))){\n",
    "        faulty = c(faulty, name)\n",
    "    }\n",
    "}"
   ]
  },
  {
   "cell_type": "code",
   "execution_count": null,
   "metadata": {
    "vscode": {
     "languageId": "r"
    }
   },
   "outputs": [],
   "source": [
    "length(faulty)"
   ]
  },
  {
   "cell_type": "code",
   "execution_count": null,
   "metadata": {
    "vscode": {
     "languageId": "r"
    }
   },
   "outputs": [],
   "source": [
    "faulty"
   ]
  },
  {
   "cell_type": "code",
   "execution_count": null,
   "metadata": {
    "vscode": {
     "languageId": "r"
    }
   },
   "outputs": [],
   "source": [
    "test_cd = cd_list[[name]]\n",
    "test_v = donor_ids_list[[name]]\n",
    "head(test_cd)\n",
    "head(test_v)\n",
    "rownames(test_v) = test_v$cell\n",
    "test_v = test_v[match(rownames(test_cd), rownames(test_v)), ]\n",
    "head(test_v)"
   ]
  },
  {
   "cell_type": "code",
   "execution_count": null,
   "metadata": {
    "vscode": {
     "languageId": "r"
    }
   },
   "outputs": [],
   "source": [
    "test_v$prob_max"
   ]
  },
  {
   "cell_type": "code",
   "execution_count": null,
   "metadata": {
    "vscode": {
     "languageId": "r"
    }
   },
   "outputs": [],
   "source": [
    "some(test_v$prob_max == test_cd$prob_donor)"
   ]
  },
  {
   "cell_type": "code",
   "execution_count": null,
   "metadata": {
    "vscode": {
     "languageId": "r"
    }
   },
   "outputs": [],
   "source": [
    "colnames(cd)"
   ]
  },
  {
   "cell_type": "code",
   "execution_count": null,
   "metadata": {
    "vscode": {
     "languageId": "r"
    }
   },
   "outputs": [],
   "source": [
    "head(vireo_donors)"
   ]
  },
  {
   "cell_type": "code",
   "execution_count": null,
   "metadata": {
    "vscode": {
     "languageId": "r"
    }
   },
   "outputs": [],
   "source": [
    "cd$prob_singlet"
   ]
  },
  {
   "cell_type": "code",
   "execution_count": null,
   "metadata": {
    "vscode": {
     "languageId": "r"
    }
   },
   "outputs": [],
   "source": []
  }
 ],
 "metadata": {
  "kernelspec": {
   "display_name": "R",
   "language": "R",
   "name": "ir"
  },
  "language_info": {
   "codemirror_mode": "r",
   "file_extension": ".r",
   "mimetype": "text/x-r-source",
   "name": "R",
   "pygments_lexer": "r",
   "version": "4.0.4"
  }
 },
 "nbformat": 4,
 "nbformat_minor": 2
}
