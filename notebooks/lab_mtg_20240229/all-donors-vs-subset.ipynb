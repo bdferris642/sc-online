{
 "cells": [
  {
   "cell_type": "code",
   "execution_count": 1,
   "metadata": {
    "vscode": {
     "languageId": "r"
    }
   },
   "outputs": [],
   "source": [
    "a=3"
   ]
  },
  {
   "cell_type": "code",
   "execution_count": 5,
   "metadata": {
    "vscode": {
     "languageId": "r"
    }
   },
   "outputs": [],
   "source": [
    "calico_libs = list.dirs(\"/mnt/accessory/seq_data/calico\", full.names = TRUE, recursive = FALSE)\n",
    "# subset to libs starting with pCalico\n",
    "calico_libs = calico_libs[grep(\"pCalico\", calico_libs)]\n",
    "BASE_PATH = \"/mnt/accessory/seq_data/calico\""
   ]
  },
  {
   "cell_type": "code",
   "execution_count": 14,
   "metadata": {
    "vscode": {
     "languageId": "r"
    }
   },
   "outputs": [
    {
     "data": {
      "text/html": [
       "<ol>\n",
       "\t<li>'/mnt/accessory/seq_data/calico/pCalicoPDsHSrSNC9id230921C9'</li>\n",
       "\t<li>'/mnt/accessory/seq_data/calico/pCalicoPDsHSrSNiPoold230719B'</li>\n",
       "\t<li>'/mnt/accessory/seq_data/calico/pCalicoPDsHSrSNiPoold230719CD'</li>\n",
       "\t<li>'/mnt/accessory/seq_data/calico/pCalicoPDsHSrSNiPoold230719D2'</li>\n",
       "\t<li>'/mnt/accessory/seq_data/calico/pCalicoPDsHSrSNiPoold230719DD'</li>\n",
       "\t<li>'/mnt/accessory/seq_data/calico/pCalicoPDsHSrSNiPoold230719E1'</li>\n",
       "\t<li>'/mnt/accessory/seq_data/calico/pCalicoPDsHSrSNiPoold230719E2'</li>\n",
       "\t<li>'/mnt/accessory/seq_data/calico/pCalicoPDsHSrSNiPoold230719ED'</li>\n",
       "\t<li>'/mnt/accessory/seq_data/calico/pCalicoPDsHSrSNiPoold230719FD'</li>\n",
       "\t<li>'/mnt/accessory/seq_data/calico/pCalicoPDsHSrSNiPoold230719G1'</li>\n",
       "\t<li>'/mnt/accessory/seq_data/calico/pCalicoPDsHSrSNiPoold230719GD'</li>\n",
       "\t<li>'/mnt/accessory/seq_data/calico/pCalicoPDsHSrSNiPoold230719ID'</li>\n",
       "\t<li>'/mnt/accessory/seq_data/calico/pCalicoPDsHSrSNiPoold230719J1'</li>\n",
       "\t<li>'/mnt/accessory/seq_data/calico/pCalicoPDsHSrSNiPoold230719J2'</li>\n",
       "\t<li>'/mnt/accessory/seq_data/calico/pCalicoPDsHSrSNiPoold230719K2'</li>\n",
       "</ol>\n"
      ],
      "text/latex": [
       "\\begin{enumerate}\n",
       "\\item '/mnt/accessory/seq\\_data/calico/pCalicoPDsHSrSNC9id230921C9'\n",
       "\\item '/mnt/accessory/seq\\_data/calico/pCalicoPDsHSrSNiPoold230719B'\n",
       "\\item '/mnt/accessory/seq\\_data/calico/pCalicoPDsHSrSNiPoold230719CD'\n",
       "\\item '/mnt/accessory/seq\\_data/calico/pCalicoPDsHSrSNiPoold230719D2'\n",
       "\\item '/mnt/accessory/seq\\_data/calico/pCalicoPDsHSrSNiPoold230719DD'\n",
       "\\item '/mnt/accessory/seq\\_data/calico/pCalicoPDsHSrSNiPoold230719E1'\n",
       "\\item '/mnt/accessory/seq\\_data/calico/pCalicoPDsHSrSNiPoold230719E2'\n",
       "\\item '/mnt/accessory/seq\\_data/calico/pCalicoPDsHSrSNiPoold230719ED'\n",
       "\\item '/mnt/accessory/seq\\_data/calico/pCalicoPDsHSrSNiPoold230719FD'\n",
       "\\item '/mnt/accessory/seq\\_data/calico/pCalicoPDsHSrSNiPoold230719G1'\n",
       "\\item '/mnt/accessory/seq\\_data/calico/pCalicoPDsHSrSNiPoold230719GD'\n",
       "\\item '/mnt/accessory/seq\\_data/calico/pCalicoPDsHSrSNiPoold230719ID'\n",
       "\\item '/mnt/accessory/seq\\_data/calico/pCalicoPDsHSrSNiPoold230719J1'\n",
       "\\item '/mnt/accessory/seq\\_data/calico/pCalicoPDsHSrSNiPoold230719J2'\n",
       "\\item '/mnt/accessory/seq\\_data/calico/pCalicoPDsHSrSNiPoold230719K2'\n",
       "\\end{enumerate}\n"
      ],
      "text/markdown": [
       "1. '/mnt/accessory/seq_data/calico/pCalicoPDsHSrSNC9id230921C9'\n",
       "2. '/mnt/accessory/seq_data/calico/pCalicoPDsHSrSNiPoold230719B'\n",
       "3. '/mnt/accessory/seq_data/calico/pCalicoPDsHSrSNiPoold230719CD'\n",
       "4. '/mnt/accessory/seq_data/calico/pCalicoPDsHSrSNiPoold230719D2'\n",
       "5. '/mnt/accessory/seq_data/calico/pCalicoPDsHSrSNiPoold230719DD'\n",
       "6. '/mnt/accessory/seq_data/calico/pCalicoPDsHSrSNiPoold230719E1'\n",
       "7. '/mnt/accessory/seq_data/calico/pCalicoPDsHSrSNiPoold230719E2'\n",
       "8. '/mnt/accessory/seq_data/calico/pCalicoPDsHSrSNiPoold230719ED'\n",
       "9. '/mnt/accessory/seq_data/calico/pCalicoPDsHSrSNiPoold230719FD'\n",
       "10. '/mnt/accessory/seq_data/calico/pCalicoPDsHSrSNiPoold230719G1'\n",
       "11. '/mnt/accessory/seq_data/calico/pCalicoPDsHSrSNiPoold230719GD'\n",
       "12. '/mnt/accessory/seq_data/calico/pCalicoPDsHSrSNiPoold230719ID'\n",
       "13. '/mnt/accessory/seq_data/calico/pCalicoPDsHSrSNiPoold230719J1'\n",
       "14. '/mnt/accessory/seq_data/calico/pCalicoPDsHSrSNiPoold230719J2'\n",
       "15. '/mnt/accessory/seq_data/calico/pCalicoPDsHSrSNiPoold230719K2'\n",
       "\n",
       "\n"
      ],
      "text/plain": [
       "[[1]]\n",
       "[1] \"/mnt/accessory/seq_data/calico/pCalicoPDsHSrSNC9id230921C9\"\n",
       "\n",
       "[[2]]\n",
       "[1] \"/mnt/accessory/seq_data/calico/pCalicoPDsHSrSNiPoold230719B\"\n",
       "\n",
       "[[3]]\n",
       "[1] \"/mnt/accessory/seq_data/calico/pCalicoPDsHSrSNiPoold230719CD\"\n",
       "\n",
       "[[4]]\n",
       "[1] \"/mnt/accessory/seq_data/calico/pCalicoPDsHSrSNiPoold230719D2\"\n",
       "\n",
       "[[5]]\n",
       "[1] \"/mnt/accessory/seq_data/calico/pCalicoPDsHSrSNiPoold230719DD\"\n",
       "\n",
       "[[6]]\n",
       "[1] \"/mnt/accessory/seq_data/calico/pCalicoPDsHSrSNiPoold230719E1\"\n",
       "\n",
       "[[7]]\n",
       "[1] \"/mnt/accessory/seq_data/calico/pCalicoPDsHSrSNiPoold230719E2\"\n",
       "\n",
       "[[8]]\n",
       "[1] \"/mnt/accessory/seq_data/calico/pCalicoPDsHSrSNiPoold230719ED\"\n",
       "\n",
       "[[9]]\n",
       "[1] \"/mnt/accessory/seq_data/calico/pCalicoPDsHSrSNiPoold230719FD\"\n",
       "\n",
       "[[10]]\n",
       "[1] \"/mnt/accessory/seq_data/calico/pCalicoPDsHSrSNiPoold230719G1\"\n",
       "\n",
       "[[11]]\n",
       "[1] \"/mnt/accessory/seq_data/calico/pCalicoPDsHSrSNiPoold230719GD\"\n",
       "\n",
       "[[12]]\n",
       "[1] \"/mnt/accessory/seq_data/calico/pCalicoPDsHSrSNiPoold230719ID\"\n",
       "\n",
       "[[13]]\n",
       "[1] \"/mnt/accessory/seq_data/calico/pCalicoPDsHSrSNiPoold230719J1\"\n",
       "\n",
       "[[14]]\n",
       "[1] \"/mnt/accessory/seq_data/calico/pCalicoPDsHSrSNiPoold230719J2\"\n",
       "\n",
       "[[15]]\n",
       "[1] \"/mnt/accessory/seq_data/calico/pCalicoPDsHSrSNiPoold230719K2\"\n"
      ]
     },
     "metadata": {},
     "output_type": "display_data"
    }
   ],
   "source": [
    "vireo_dirs = list()\n",
    "for (calico_lib in calico_libs) {\n",
    "    files = list.files(calico_lib, recursive = FALSE)\n",
    "    if (\"donor_ids_no_subsetting.tsv\" %in% files) {\n",
    "        vireo_dirs = c(vireo_dirs, calico_lib)\n",
    "    }\n",
    "}\n",
    "vireo_dirs\n",
    "array_tsvs = list()\n",
    "imputed_tsvs = list()\n",
    "imputed_nosub_tsvs = list()\n",
    "for (name in calico_libs){\n",
    "    if (name %in% vireo_dirs) {\n",
    "        filtered_imputed_nosub = read.table(file.path(name, \"donor_ids_no_subsetting.tsv\"), sep=\"\\t\", header=T)\n",
    "        raw_array = read.table(file.path(name, \"donor_ids.tsv\"), sep=\"\\t\", header=T)\n",
    "        raw_imputed = read.table(file.path(name, \"GEX_vireo/donor_ids.tsv\"), sep=\"\\t\", header=T)\n",
    "        array_tsvs[[name]] = raw_array[raw_array$cell %in% filtered_imputed_nosub$cell,]\n",
    "        imputed_tsvs[[name]] = raw_imputed[raw_imputed$cell %in% filtered_imputed_nosub$cell,]\n",
    "        imputed_nosub_tsvs[[name]] = filtered_imputed_nosub[filtered_imputed_nosub$cell %in% raw_imputed$cell,]\n",
    "    } else {\n",
    "        array_tsvs[[name]] = read.table(file.path(name, \"donor_ids.tsv\"), sep=\"\\t\", header=T)\n",
    "        imputed_tsvs[[name]] = read.table(file.path(name, \"GEX_vireo/donor_ids.tsv\"), sep=\"\\t\", header=T)\n",
    "    }\n",
    "}"
   ]
  },
  {
   "cell_type": "code",
   "execution_count": 17,
   "metadata": {
    "vscode": {
     "languageId": "r"
    }
   },
   "outputs": [],
   "source": [
    "source(\"~/sc-online/utils.R\")"
   ]
  },
  {
   "cell_type": "code",
   "execution_count": 22,
   "metadata": {
    "vscode": {
     "languageId": "r"
    }
   },
   "outputs": [
    {
     "name": "stdout",
     "output_type": "stream",
     "text": [
      "[1] \"Lib: pCalicoPDsHSrSNC9id230921C9\"\n",
      "[1] \"Total cells: 5271\"\n",
      "[1] \"frac assig WITH donor subsetting 0.92\"\n",
      "[1] \"frac assig NO donor subsetting 0.88\"\n",
      "[1] \"::::::::::::::::::::::::::::::::::\"\n",
      "[1] \"Lib: pCalicoPDsHSrSNiPoold230719B\"\n",
      "[1] \"Total cells: 1918\"\n",
      "[1] \"frac assig WITH donor subsetting 0.79\"\n",
      "[1] \"frac assig NO donor subsetting 0.78\"\n",
      "[1] \"::::::::::::::::::::::::::::::::::\"\n",
      "[1] \"Lib: pCalicoPDsHSrSNiPoold230719CD\"\n",
      "[1] \"Total cells: 4573\"\n",
      "[1] \"frac assig WITH donor subsetting 0.73\"\n",
      "[1] \"frac assig NO donor subsetting 0.84\"\n",
      "[1] \"::::::::::::::::::::::::::::::::::\"\n",
      "[1] \"Lib: pCalicoPDsHSrSNiPoold230719D2\"\n",
      "[1] \"Total cells: 3529\"\n",
      "[1] \"frac assig WITH donor subsetting 0.75\"\n",
      "[1] \"frac assig NO donor subsetting 0.92\"\n",
      "[1] \"::::::::::::::::::::::::::::::::::\"\n",
      "[1] \"Lib: pCalicoPDsHSrSNiPoold230719DD\"\n",
      "[1] \"Total cells: 5914\"\n",
      "[1] \"frac assig WITH donor subsetting 0.55\"\n",
      "[1] \"frac assig NO donor subsetting 0.87\"\n",
      "[1] \"::::::::::::::::::::::::::::::::::\"\n",
      "[1] \"Lib: pCalicoPDsHSrSNiPoold230719E1\"\n",
      "[1] \"Total cells: 3618\"\n",
      "[1] \"frac assig WITH donor subsetting 0.95\"\n",
      "[1] \"frac assig NO donor subsetting 0.93\"\n",
      "[1] \"::::::::::::::::::::::::::::::::::\"\n",
      "[1] \"Lib: pCalicoPDsHSrSNiPoold230719E2\"\n",
      "[1] \"Total cells: 3959\"\n",
      "[1] \"frac assig WITH donor subsetting 0.95\"\n",
      "[1] \"frac assig NO donor subsetting 0.94\"\n",
      "[1] \"::::::::::::::::::::::::::::::::::\"\n",
      "[1] \"Lib: pCalicoPDsHSrSNiPoold230719ED\"\n",
      "[1] \"Total cells: 5952\"\n",
      "[1] \"frac assig WITH donor subsetting 0.95\"\n",
      "[1] \"frac assig NO donor subsetting 0.94\"\n",
      "[1] \"::::::::::::::::::::::::::::::::::\"\n",
      "[1] \"Lib: pCalicoPDsHSrSNiPoold230719FD\"\n",
      "[1] \"Total cells: 7876\"\n",
      "[1] \"frac assig WITH donor subsetting 0.95\"\n",
      "[1] \"frac assig NO donor subsetting 0.95\"\n",
      "[1] \"::::::::::::::::::::::::::::::::::\"\n",
      "[1] \"Lib: pCalicoPDsHSrSNiPoold230719G1\"\n",
      "[1] \"Total cells: 5426\"\n",
      "[1] \"frac assig WITH donor subsetting 0.95\"\n",
      "[1] \"frac assig NO donor subsetting 0.93\"\n",
      "[1] \"::::::::::::::::::::::::::::::::::\"\n",
      "[1] \"Lib: pCalicoPDsHSrSNiPoold230719GD\"\n",
      "[1] \"Total cells: 7887\"\n",
      "[1] \"frac assig WITH donor subsetting 0.94\"\n",
      "[1] \"frac assig NO donor subsetting 0.93\"\n",
      "[1] \"::::::::::::::::::::::::::::::::::\"\n",
      "[1] \"Lib: pCalicoPDsHSrSNiPoold230719ID\"\n",
      "[1] \"Total cells: 8091\"\n",
      "[1] \"frac assig WITH donor subsetting 0.95\"\n",
      "[1] \"frac assig NO donor subsetting 0.94\"\n",
      "[1] \"::::::::::::::::::::::::::::::::::\"\n",
      "[1] \"Lib: pCalicoPDsHSrSNiPoold230719J1\"\n",
      "[1] \"Total cells: 3113\"\n",
      "[1] \"frac assig WITH donor subsetting 0.86\"\n",
      "[1] \"frac assig NO donor subsetting 0.81\"\n",
      "[1] \"::::::::::::::::::::::::::::::::::\"\n",
      "[1] \"Lib: pCalicoPDsHSrSNiPoold230719J2\"\n",
      "[1] \"Total cells: 3229\"\n",
      "[1] \"frac assig WITH donor subsetting 0.88\"\n",
      "[1] \"frac assig NO donor subsetting 0.83\"\n",
      "[1] \"::::::::::::::::::::::::::::::::::\"\n",
      "[1] \"Lib: pCalicoPDsHSrSNiPoold230719K2\"\n",
      "[1] \"Total cells: 4043\"\n",
      "[1] \"frac assig WITH donor subsetting 0.73\"\n",
      "[1] \"frac assig NO donor subsetting 0.92\"\n",
      "[1] \"::::::::::::::::::::::::::::::::::\"\n"
     ]
    }
   ],
   "source": [
    "# A few questions\n",
    "# 1. How many change ID overall? For each donor?\n",
    "# 2. How many go from unassingned to assigned? For each donor?\n",
    "# 3. How many go from assigned to unassigned? For each donor?\n",
    "\n",
    "for (path in vireo_dirs){\n",
    "    lib = strsplit(path, '/')[[1]][6]\n",
    "\n",
    "    nosub = imputed_nosub_tsvs[[path]]\n",
    "    yessub = imputed_tsvs[[path]]\n",
    "\n",
    "    print(paste(\"Lib:\", lib))\n",
    "    print(paste(\"Total cells:\", nrow(nosub)))\n",
    "    print(paste(\"frac assig WITH donor subsetting\", round(getFracAssignableVireo(yessub), 2)))\n",
    "    print(paste(\"frac assig NO donor subsetting\", round(getFracAssignableVireo(nosub), 2)))\n",
    "    print(\"::::::::::::::::::::::::::::::::::\")\n",
    "}\n",
    "\n"
   ]
  },
  {
   "cell_type": "code",
   "execution_count": null,
   "metadata": {
    "vscode": {
     "languageId": "r"
    }
   },
   "outputs": [],
   "source": []
  }
 ],
 "metadata": {
  "kernelspec": {
   "display_name": "R",
   "language": "R",
   "name": "ir"
  },
  "language_info": {
   "codemirror_mode": "r",
   "file_extension": ".r",
   "mimetype": "text/x-r-source",
   "name": "R",
   "pygments_lexer": "r",
   "version": "4.0.4"
  }
 },
 "nbformat": 4,
 "nbformat_minor": 2
}
