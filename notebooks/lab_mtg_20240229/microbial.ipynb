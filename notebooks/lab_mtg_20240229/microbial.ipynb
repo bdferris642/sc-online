{
 "cells": [
  {
   "cell_type": "code",
   "execution_count": 20,
   "metadata": {
    "vscode": {
     "languageId": "r"
    }
   },
   "outputs": [],
   "source": [
    "library(dplyr)\n",
    "source(\"~/sc-online/utils.R\")\n",
    "\n",
    "manifest = read.table(\"~/Calico_Macosko_PD_GSA_Terra_Manifest_20240220.tsv\", sep='\\t',header=T,skip=0)\n",
    "\n",
    "manifest$donor_id = sapply(manifest$entity.sample_id, function(x) gsub(\"_1$\", \"\", x))\n",
    "manifest$sex = manifest$Sex\n",
    "manifest$age = manifest$Age \n",
    "manifest$participant_id = ifelse(\n",
    "    manifest$CORRECT.donor =='', \n",
    "    manifest$collaborator_participant_id,\n",
    "    manifest$CORRECT.donor\n",
    ")\n",
    "manifest$case_control = ifelse(manifest$Disease == 'Control', 'ctr', 'pd')\n",
    "\n",
    "donor_disease_map = setNames(manifest$case_control, manifest$donor_id)\n"
   ]
  },
  {
   "cell_type": "markdown",
   "metadata": {},
   "source": [
    "The task here is simple <br>\n",
    "\n",
    "(1) load all the `Expression_table.tsv`s for each library <br>\n",
    "(2) Get the donor IDs for these cell barcodes. <br>\n",
    "    (a) Toss the ones that are unassignable <br>\n",
    "    (b) get fraction assignable overall, compare to fraction of droples with viral transcripts that are assignable <br>\n",
    "(3) For each virus of interest, do the PD patients have a higher ratio of than control? "
   ]
  },
  {
   "cell_type": "code",
   "execution_count": 2,
   "metadata": {
    "vscode": {
     "languageId": "r"
    }
   },
   "outputs": [
    {
     "name": "stdout",
     "output_type": "stream",
     "text": [
      "[1] \"/mnt/accessory/seq_data/calico/pCalicoPDsHSrSNiPoold230719CD\"\n",
      "[2] \"/mnt/accessory/seq_data/calico/pCalicoPDsHSrSNiPoold230719ED\"\n",
      "[3] \"/mnt/accessory/seq_data/calico/pCalicoPDsHSrSNiPoold230719GD\"\n",
      "[4] \"/mnt/accessory/seq_data/calico/pCalicoPDsHSrSNiPoold230719ID\"\n",
      "[5] \"/mnt/accessory/seq_data/calico/pCalicoPDsHSrSNiPoold230719J1\"\n",
      "[6] \"/mnt/accessory/seq_data/calico/pCalicoPDsHSrSNiPoold230719J2\"\n",
      "[7] \"/mnt/accessory/seq_data/calico/pCalicoPDsHSrSNiPoold230719JD\"\n",
      "[8] \"/mnt/accessory/seq_data/calico/pCalicoPDsHSrSNiPoold230719K1\"\n"
     ]
    }
   ],
   "source": [
    "base_dir = '/mnt/accessory/seq_data/calico'\n",
    "file_pattern = 'Expression_table.tsv'\n",
    "\n",
    "# refseq|NC_043329|12859nt|Bracoviriform\n",
    "# refseq|NC_022518|9472nt|Human\n",
    "# refseq|NC_003630|6357nt|Pepper\n",
    "# refseq|NC_008168|104710nt|Choristoneura\n",
    "# refseq|NC_032111|163005nt|BeAn\n",
    "# refseq|NC_001550|8557nt|Mason-Pfizer\n",
    "# refseq|NC_005856|94800nt|Escherichia\n",
    "# refseq|NC_018464|927nt|Shamonda\n",
    "\n",
    "microbes_of_interest = list(\n",
    "    'NC_043329'\n",
    "    , 'NC_022518'\n",
    "    , 'NC_003630'\n",
    "    , 'NC_008168'\n",
    "    , 'NC_032111'\n",
    "    , 'NC_001550'\n",
    "    , 'NC_005856'\n",
    "    , 'NC_018464'\n",
    ")\n",
    "\n",
    "# List all files in the directory and its subdirectories\n",
    "all_files = list.files(path = base_dir, pattern = file_pattern, recursive = TRUE, full.names = TRUE)\n",
    "\n",
    "# Print the directories containing the file\n",
    "dirs_with_file <- dirname(all_files)\n",
    "print(dirs_with_file)\n",
    "\n",
    "names(all_files) = sapply(all_files, function(x){return(basename(dirname(x)))})"
   ]
  },
  {
   "cell_type": "code",
   "execution_count": 3,
   "metadata": {
    "vscode": {
     "languageId": "r"
    }
   },
   "outputs": [],
   "source": [
    "expr_dfs = list()\n",
    "vireo_dfs = list()\n",
    "grouped_dfs = list()\n",
    "for (lib in names(all_files)){\n",
    "    vireo_df = read.table(file.path(base_dir, lib, \"GEX_vireo/donor_ids.tsv\"), header = TRUE, sep = '\\t')\n",
    "\n",
    "    vireo_df = vireo_df[!vireo_df$donor_id %in% c('unassigned', 'doublet'),]\n",
    "    vireo_df = vireo_df[vireo_df$prob_max >= 0.9,]\n",
    "    rownames(vireo_df) = vireo_df$cell\n",
    "\n",
    "    expr_df_orig = read.table(all_files[[lib]], header = TRUE, sep = '\\t')\n",
    "    colnames(expr_df_orig) = sapply(colnames(expr_df_orig), function(x){paste0(x, \"-1\")})\n",
    "    expr_df_orig$virus_id = sapply(expr_df_orig$gene, function(x){return(strsplit(x, split = '\\\\|')[[1]][[2]])})\n",
    "    expr_df = expr_df_orig[expr_df_orig$virus_id %in% microbes_of_interest, ]\n",
    "    rownames(expr_df) = expr_df$gene\n",
    "    expr_df = expr_df[, colnames(expr_df) %in% vireo_df$cell]\n",
    "\n",
    "    expr_dfs[[lib]] = expr_df\n",
    "    vireo_dfs[[lib]] = vireo_df\n",
    "}\n"
   ]
  },
  {
   "cell_type": "code",
   "execution_count": 37,
   "metadata": {
    "vscode": {
     "languageId": "r"
    }
   },
   "outputs": [],
   "source": [
    "# now for each library, for each donor, \n",
    "# count the viruses of each type \n",
    "\n",
    "for (lib in names(all_files)){\n",
    "    vireo_df_orig = vireo_dfs[[lib]]\n",
    "    \n",
    "    donor_cell_map = setNames(vireo_df$donor_id, vireo_df$cell)\n",
    "    \n",
    "    expr_df = expr_dfs[[lib]]\n",
    "    #expr_df$virus_id = sapply(rownames(expr_df), function(x){return(strsplit(x, split = '\\\\|')[[1]][[2]])})\n",
    "    expr_df_t = as.data.frame(t(expr_df))\n",
    "    #expr_df_t$donor_id = sapply(rownames(expr_df_t), function(x){return(donor_cell_map[[x]])})\n",
    "\n",
    "\n",
    "    vireo_df = vireo_df_orig[rownames(expr_df_t),]\n",
    "    merged_df = cbind(expr_df_t, vireo_df)\n",
    "\n",
    "    # columns should be donor_id, an anything beginning with the string refseq\n",
    "    virus_cols = colnames(expr_df_t)\n",
    "    cols = c('donor_id', virus_cols)\n",
    "\n",
    "    grouped_df = (\n",
    "            merged_df[, cols]\n",
    "            %>% group_by(donor_id)\n",
    "            %>% summarise(\n",
    "                across(everything(), \n",
    "                    list(\n",
    "                        sum = sum, \n",
    "                        frac = ~round(sum(.)/n(), 2)), \n",
    "                        .names = \"{.col}_{.fn}\"), \n",
    "                n_cells_with_virus= n()\n",
    "            )\n",
    "    )\n",
    "\n",
    "    sum_cols = colnames(grouped_df)[grepl('_sum$', colnames(grouped_df))]\n",
    "    herv_cols = sum_cols[grepl('NC_022518',sum_cols)]\n",
    "    grouped_df$sum_herv = rowSums(grouped_df[herv_cols])\n",
    "\n",
    "    grouped_df$n_cells = sapply(grouped_df$donor_id, function(x){\n",
    "        return(nrow(vireo_df_orig[vireo_df_orig$donor_id == x,]))\n",
    "    })\n",
    "    grouped_df$case_control = donor_disease_map[grouped_df$donor_id]\n",
    "    grouped_df$count_herv_gte0 = sapply(grouped_df$donor_id, function(x){\n",
    "        herv_cols_merged = colnames(merged_df)[grepl('NC_022518',colnames(merged_df))]\n",
    "        if (length(herv_cols_merged) == 0 | is.null(herv_cols_merged)){\n",
    "            return(0)\n",
    "        }\n",
    "        return(sum(merged_df[merged_df$donor_id == x, herv_cols_merged] > 0))\n",
    "    })\n",
    "    grouped_df$frac_herv_gte0 = round(grouped_df$count_herv_gte0 / grouped_df$n_cells, 3)\n",
    "    grouped_df$library = lib\n",
    "    grouped_dfs[[lib]] = grouped_df[,\n",
    "        c('library', 'donor_id', 'case_control', 'n_cells', 'sum_herv', 'count_herv_gte0', 'frac_herv_gte0')\n",
    "    ]\n",
    "}\n"
   ]
  },
  {
   "cell_type": "code",
   "execution_count": 38,
   "metadata": {
    "vscode": {
     "languageId": "r"
    }
   },
   "outputs": [],
   "source": [
    "herv_df = do.call(rbind, grouped_dfs)"
   ]
  },
  {
   "cell_type": "code",
   "execution_count": 39,
   "metadata": {
    "vscode": {
     "languageId": "r"
    }
   },
   "outputs": [
    {
     "data": {
      "text/html": [
       "<table class=\"dataframe\">\n",
       "<caption>A tibble: 45 × 7</caption>\n",
       "<thead>\n",
       "\t<tr><th></th><th scope=col>library</th><th scope=col>donor_id</th><th scope=col>case_control</th><th scope=col>n_cells</th><th scope=col>sum_herv</th><th scope=col>count_herv_gte0</th><th scope=col>frac_herv_gte0</th></tr>\n",
       "\t<tr><th></th><th scope=col>&lt;chr&gt;</th><th scope=col>&lt;chr&gt;</th><th scope=col>&lt;chr&gt;</th><th scope=col>&lt;int&gt;</th><th scope=col>&lt;dbl&gt;</th><th scope=col>&lt;int&gt;</th><th scope=col>&lt;dbl&gt;</th></tr>\n",
       "</thead>\n",
       "<tbody>\n",
       "\t<tr><th scope=row>pCalicoPDsHSrSNiPoold230719CD.1</th><td>pCalicoPDsHSrSNiPoold230719CD</td><td>206954930010_R03C02</td><td>pd </td><td>   4</td><td> 0</td><td> 0</td><td>0.000</td></tr>\n",
       "\t<tr><th scope=row>pCalicoPDsHSrSNiPoold230719CD.2</th><td>pCalicoPDsHSrSNiPoold230719CD</td><td>206954930010_R07C01</td><td>pd </td><td> 440</td><td> 0</td><td> 0</td><td>0.000</td></tr>\n",
       "\t<tr><th scope=row>pCalicoPDsHSrSNiPoold230719CD.3</th><td>pCalicoPDsHSrSNiPoold230719CD</td><td>206954930010_R08C01</td><td>pd </td><td>1354</td><td>43</td><td>43</td><td>0.032</td></tr>\n",
       "\t<tr><th scope=row>pCalicoPDsHSrSNiPoold230719CD.4</th><td>pCalicoPDsHSrSNiPoold230719CD</td><td>206954930011_R11C01</td><td>pd </td><td>   9</td><td> 0</td><td> 0</td><td>0.000</td></tr>\n",
       "\t<tr><th scope=row>pCalicoPDsHSrSNiPoold230719CD.5</th><td>pCalicoPDsHSrSNiPoold230719CD</td><td>206954930011_R11C02</td><td>ctr</td><td> 399</td><td> 0</td><td> 0</td><td>0.000</td></tr>\n",
       "\t<tr><th scope=row>pCalicoPDsHSrSNiPoold230719CD.6</th><td>pCalicoPDsHSrSNiPoold230719CD</td><td>206954930060_R07C01</td><td>pd </td><td>1134</td><td>28</td><td>25</td><td>0.022</td></tr>\n",
       "\t<tr><th scope=row>pCalicoPDsHSrSNiPoold230719ED.1</th><td>pCalicoPDsHSrSNiPoold230719ED</td><td>206954930010_R06C01</td><td>ctr</td><td> 929</td><td> 0</td><td> 0</td><td>0.000</td></tr>\n",
       "\t<tr><th scope=row>pCalicoPDsHSrSNiPoold230719ED.2</th><td>pCalicoPDsHSrSNiPoold230719ED</td><td>206954930093_R10C01</td><td>pd </td><td> 620</td><td> 2</td><td> 2</td><td>0.003</td></tr>\n",
       "\t<tr><th scope=row>pCalicoPDsHSrSNiPoold230719ED.3</th><td>pCalicoPDsHSrSNiPoold230719ED</td><td>207758480019_R01C01</td><td>pd </td><td>1095</td><td>35</td><td>33</td><td>0.030</td></tr>\n",
       "\t<tr><th scope=row>pCalicoPDsHSrSNiPoold230719ED.4</th><td>pCalicoPDsHSrSNiPoold230719ED</td><td>207762950055_R04C01</td><td>ctr</td><td> 882</td><td>10</td><td>10</td><td>0.011</td></tr>\n",
       "\t<tr><th scope=row>pCalicoPDsHSrSNiPoold230719ED.5</th><td>pCalicoPDsHSrSNiPoold230719ED</td><td>207762950055_R08C02</td><td>pd </td><td>1261</td><td>13</td><td>12</td><td>0.010</td></tr>\n",
       "\t<tr><th scope=row>pCalicoPDsHSrSNiPoold230719ED.6</th><td>pCalicoPDsHSrSNiPoold230719ED</td><td>207762960003_R01C02</td><td>pd </td><td> 919</td><td> 2</td><td> 2</td><td>0.002</td></tr>\n",
       "\t<tr><th scope=row>pCalicoPDsHSrSNiPoold230719GD.1</th><td>pCalicoPDsHSrSNiPoold230719GD</td><td>206954930011_R02C02</td><td>pd </td><td>1549</td><td>19</td><td>19</td><td>0.012</td></tr>\n",
       "\t<tr><th scope=row>pCalicoPDsHSrSNiPoold230719GD.2</th><td>pCalicoPDsHSrSNiPoold230719GD</td><td>206954930011_R12C01</td><td>pd </td><td>1404</td><td> 1</td><td> 1</td><td>0.001</td></tr>\n",
       "\t<tr><th scope=row>pCalicoPDsHSrSNiPoold230719GD.3</th><td>pCalicoPDsHSrSNiPoold230719GD</td><td>206954930093_R08C02</td><td>pd </td><td> 849</td><td> 0</td><td> 0</td><td>0.000</td></tr>\n",
       "\t<tr><th scope=row>pCalicoPDsHSrSNiPoold230719GD.4</th><td>pCalicoPDsHSrSNiPoold230719GD</td><td>206954930093_R09C01</td><td>ctr</td><td>1117</td><td> 0</td><td> 0</td><td>0.000</td></tr>\n",
       "\t<tr><th scope=row>pCalicoPDsHSrSNiPoold230719GD.5</th><td>pCalicoPDsHSrSNiPoold230719GD</td><td>207762950086_R12C02</td><td>pd </td><td>1762</td><td>28</td><td>26</td><td>0.015</td></tr>\n",
       "\t<tr><th scope=row>pCalicoPDsHSrSNiPoold230719GD.6</th><td>pCalicoPDsHSrSNiPoold230719GD</td><td>207762960003_R05C02</td><td>pd </td><td> 715</td><td> 2</td><td> 2</td><td>0.003</td></tr>\n",
       "\t<tr><th scope=row>pCalicoPDsHSrSNiPoold230719ID.1</th><td>pCalicoPDsHSrSNiPoold230719ID</td><td>206954930010_R03C01</td><td>pd </td><td>1576</td><td> 0</td><td> 0</td><td>0.000</td></tr>\n",
       "\t<tr><th scope=row>pCalicoPDsHSrSNiPoold230719ID.2</th><td>pCalicoPDsHSrSNiPoold230719ID</td><td>206954930010_R05C01</td><td>pd </td><td> 575</td><td> 1</td><td> 1</td><td>0.002</td></tr>\n",
       "\t<tr><th scope=row>pCalicoPDsHSrSNiPoold230719ID.3</th><td>pCalicoPDsHSrSNiPoold230719ID</td><td>206954930093_R01C02</td><td>ctr</td><td>1615</td><td> 3</td><td> 3</td><td>0.002</td></tr>\n",
       "\t<tr><th scope=row>pCalicoPDsHSrSNiPoold230719ID.4</th><td>pCalicoPDsHSrSNiPoold230719ID</td><td>206954930093_R03C01</td><td>ctr</td><td>1333</td><td> 0</td><td> 0</td><td>0.000</td></tr>\n",
       "\t<tr><th scope=row>pCalicoPDsHSrSNiPoold230719ID.5</th><td>pCalicoPDsHSrSNiPoold230719ID</td><td>207762950086_R02C01</td><td>pd </td><td>1031</td><td> 0</td><td> 0</td><td>0.000</td></tr>\n",
       "\t<tr><th scope=row>pCalicoPDsHSrSNiPoold230719ID.6</th><td>pCalicoPDsHSrSNiPoold230719ID</td><td>207762950086_R08C02</td><td>pd </td><td>1534</td><td> 1</td><td> 1</td><td>0.001</td></tr>\n",
       "\t<tr><th scope=row>pCalicoPDsHSrSNiPoold230719J1.1</th><td>pCalicoPDsHSrSNiPoold230719J1</td><td>206954930010_R05C01</td><td>pd </td><td> 127</td><td> 0</td><td> 0</td><td>0.000</td></tr>\n",
       "\t<tr><th scope=row>pCalicoPDsHSrSNiPoold230719J1.2</th><td>pCalicoPDsHSrSNiPoold230719J1</td><td>206954930060_R04C01</td><td>pd </td><td> 370</td><td> 0</td><td> 0</td><td>0.000</td></tr>\n",
       "\t<tr><th scope=row>pCalicoPDsHSrSNiPoold230719J1.3</th><td>pCalicoPDsHSrSNiPoold230719J1</td><td>206954930093_R07C01</td><td>pd </td><td> 381</td><td> 0</td><td> 0</td><td>0.000</td></tr>\n",
       "\t<tr><th scope=row>pCalicoPDsHSrSNiPoold230719J1.4</th><td>pCalicoPDsHSrSNiPoold230719J1</td><td>206954930093_R11C02</td><td>ctr</td><td> 657</td><td> 4</td><td> 4</td><td>0.006</td></tr>\n",
       "\t<tr><th scope=row>pCalicoPDsHSrSNiPoold230719J1.5</th><td>pCalicoPDsHSrSNiPoold230719J1</td><td>207762950086_R04C01</td><td>pd </td><td> 585</td><td> 4</td><td> 4</td><td>0.007</td></tr>\n",
       "\t<tr><th scope=row>pCalicoPDsHSrSNiPoold230719J1.6</th><td>pCalicoPDsHSrSNiPoold230719J1</td><td>207762950086_R08C02</td><td>pd </td><td> 553</td><td> 0</td><td> 0</td><td>0.000</td></tr>\n",
       "\t<tr><th scope=row>pCalicoPDsHSrSNiPoold230719J2.1</th><td>pCalicoPDsHSrSNiPoold230719J2</td><td>206954930060_R04C01</td><td>pd </td><td> 462</td><td> 0</td><td> 0</td><td>0.000</td></tr>\n",
       "\t<tr><th scope=row>pCalicoPDsHSrSNiPoold230719J2.2</th><td>pCalicoPDsHSrSNiPoold230719J2</td><td>206954930093_R07C01</td><td>pd </td><td> 391</td><td> 0</td><td> 0</td><td>0.000</td></tr>\n",
       "\t<tr><th scope=row>pCalicoPDsHSrSNiPoold230719J2.3</th><td>pCalicoPDsHSrSNiPoold230719J2</td><td>206954930093_R11C02</td><td>ctr</td><td> 646</td><td>14</td><td>14</td><td>0.022</td></tr>\n",
       "\t<tr><th scope=row>pCalicoPDsHSrSNiPoold230719J2.4</th><td>pCalicoPDsHSrSNiPoold230719J2</td><td>207762950086_R04C01</td><td>pd </td><td> 600</td><td> 8</td><td> 8</td><td>0.013</td></tr>\n",
       "\t<tr><th scope=row>pCalicoPDsHSrSNiPoold230719J2.5</th><td>pCalicoPDsHSrSNiPoold230719J2</td><td>207762950086_R08C02</td><td>pd </td><td> 581</td><td> 0</td><td> 0</td><td>0.000</td></tr>\n",
       "\t<tr><th scope=row>pCalicoPDsHSrSNiPoold230719JD.1</th><td>pCalicoPDsHSrSNiPoold230719JD</td><td>206954930093_R07C01</td><td>pd </td><td>1193</td><td> 5</td><td> 5</td><td>0.004</td></tr>\n",
       "\t<tr><th scope=row>pCalicoPDsHSrSNiPoold230719JD.2</th><td>pCalicoPDsHSrSNiPoold230719JD</td><td>206954930093_R11C02</td><td>ctr</td><td>1981</td><td>23</td><td>23</td><td>0.012</td></tr>\n",
       "\t<tr><th scope=row>pCalicoPDsHSrSNiPoold230719JD.3</th><td>pCalicoPDsHSrSNiPoold230719JD</td><td>207762950086_R04C01</td><td>pd </td><td>2250</td><td> 8</td><td> 8</td><td>0.004</td></tr>\n",
       "\t<tr><th scope=row>pCalicoPDsHSrSNiPoold230719JD.4</th><td>pCalicoPDsHSrSNiPoold230719JD</td><td>207762950086_R08C02</td><td>pd </td><td>1636</td><td> 3</td><td> 3</td><td>0.002</td></tr>\n",
       "\t<tr><th scope=row>pCalicoPDsHSrSNiPoold230719K1.1</th><td>pCalicoPDsHSrSNiPoold230719K1</td><td>206954930010_R03C01</td><td>pd </td><td>1121</td><td> 2</td><td> 2</td><td>0.002</td></tr>\n",
       "\t<tr><th scope=row>pCalicoPDsHSrSNiPoold230719K1.2</th><td>pCalicoPDsHSrSNiPoold230719K1</td><td>206954930010_R05C02</td><td>ctr</td><td>   4</td><td> 0</td><td> 0</td><td>0.000</td></tr>\n",
       "\t<tr><th scope=row>pCalicoPDsHSrSNiPoold230719K1.3</th><td>pCalicoPDsHSrSNiPoold230719K1</td><td>206954930093_R04C02</td><td>pd </td><td> 819</td><td>14</td><td>13</td><td>0.016</td></tr>\n",
       "\t<tr><th scope=row>pCalicoPDsHSrSNiPoold230719K1.4</th><td>pCalicoPDsHSrSNiPoold230719K1</td><td>206954930093_R07C01</td><td>pd </td><td> 167</td><td> 1</td><td> 1</td><td>0.006</td></tr>\n",
       "\t<tr><th scope=row>pCalicoPDsHSrSNiPoold230719K1.5</th><td>pCalicoPDsHSrSNiPoold230719K1</td><td>207762950055_R12C02</td><td>ctr</td><td> 747</td><td> 2</td><td> 2</td><td>0.003</td></tr>\n",
       "\t<tr><th scope=row>pCalicoPDsHSrSNiPoold230719K1.6</th><td>pCalicoPDsHSrSNiPoold230719K1</td><td>207762950108_R10C02</td><td>pd </td><td> 282</td><td> 0</td><td> 0</td><td>0.000</td></tr>\n",
       "</tbody>\n",
       "</table>\n"
      ],
      "text/latex": [
       "A tibble: 45 × 7\n",
       "\\begin{tabular}{r|lllllll}\n",
       "  & library & donor\\_id & case\\_control & n\\_cells & sum\\_herv & count\\_herv\\_gte0 & frac\\_herv\\_gte0\\\\\n",
       "  & <chr> & <chr> & <chr> & <int> & <dbl> & <int> & <dbl>\\\\\n",
       "\\hline\n",
       "\tpCalicoPDsHSrSNiPoold230719CD.1 & pCalicoPDsHSrSNiPoold230719CD & 206954930010\\_R03C02 & pd  &    4 &  0 &  0 & 0.000\\\\\n",
       "\tpCalicoPDsHSrSNiPoold230719CD.2 & pCalicoPDsHSrSNiPoold230719CD & 206954930010\\_R07C01 & pd  &  440 &  0 &  0 & 0.000\\\\\n",
       "\tpCalicoPDsHSrSNiPoold230719CD.3 & pCalicoPDsHSrSNiPoold230719CD & 206954930010\\_R08C01 & pd  & 1354 & 43 & 43 & 0.032\\\\\n",
       "\tpCalicoPDsHSrSNiPoold230719CD.4 & pCalicoPDsHSrSNiPoold230719CD & 206954930011\\_R11C01 & pd  &    9 &  0 &  0 & 0.000\\\\\n",
       "\tpCalicoPDsHSrSNiPoold230719CD.5 & pCalicoPDsHSrSNiPoold230719CD & 206954930011\\_R11C02 & ctr &  399 &  0 &  0 & 0.000\\\\\n",
       "\tpCalicoPDsHSrSNiPoold230719CD.6 & pCalicoPDsHSrSNiPoold230719CD & 206954930060\\_R07C01 & pd  & 1134 & 28 & 25 & 0.022\\\\\n",
       "\tpCalicoPDsHSrSNiPoold230719ED.1 & pCalicoPDsHSrSNiPoold230719ED & 206954930010\\_R06C01 & ctr &  929 &  0 &  0 & 0.000\\\\\n",
       "\tpCalicoPDsHSrSNiPoold230719ED.2 & pCalicoPDsHSrSNiPoold230719ED & 206954930093\\_R10C01 & pd  &  620 &  2 &  2 & 0.003\\\\\n",
       "\tpCalicoPDsHSrSNiPoold230719ED.3 & pCalicoPDsHSrSNiPoold230719ED & 207758480019\\_R01C01 & pd  & 1095 & 35 & 33 & 0.030\\\\\n",
       "\tpCalicoPDsHSrSNiPoold230719ED.4 & pCalicoPDsHSrSNiPoold230719ED & 207762950055\\_R04C01 & ctr &  882 & 10 & 10 & 0.011\\\\\n",
       "\tpCalicoPDsHSrSNiPoold230719ED.5 & pCalicoPDsHSrSNiPoold230719ED & 207762950055\\_R08C02 & pd  & 1261 & 13 & 12 & 0.010\\\\\n",
       "\tpCalicoPDsHSrSNiPoold230719ED.6 & pCalicoPDsHSrSNiPoold230719ED & 207762960003\\_R01C02 & pd  &  919 &  2 &  2 & 0.002\\\\\n",
       "\tpCalicoPDsHSrSNiPoold230719GD.1 & pCalicoPDsHSrSNiPoold230719GD & 206954930011\\_R02C02 & pd  & 1549 & 19 & 19 & 0.012\\\\\n",
       "\tpCalicoPDsHSrSNiPoold230719GD.2 & pCalicoPDsHSrSNiPoold230719GD & 206954930011\\_R12C01 & pd  & 1404 &  1 &  1 & 0.001\\\\\n",
       "\tpCalicoPDsHSrSNiPoold230719GD.3 & pCalicoPDsHSrSNiPoold230719GD & 206954930093\\_R08C02 & pd  &  849 &  0 &  0 & 0.000\\\\\n",
       "\tpCalicoPDsHSrSNiPoold230719GD.4 & pCalicoPDsHSrSNiPoold230719GD & 206954930093\\_R09C01 & ctr & 1117 &  0 &  0 & 0.000\\\\\n",
       "\tpCalicoPDsHSrSNiPoold230719GD.5 & pCalicoPDsHSrSNiPoold230719GD & 207762950086\\_R12C02 & pd  & 1762 & 28 & 26 & 0.015\\\\\n",
       "\tpCalicoPDsHSrSNiPoold230719GD.6 & pCalicoPDsHSrSNiPoold230719GD & 207762960003\\_R05C02 & pd  &  715 &  2 &  2 & 0.003\\\\\n",
       "\tpCalicoPDsHSrSNiPoold230719ID.1 & pCalicoPDsHSrSNiPoold230719ID & 206954930010\\_R03C01 & pd  & 1576 &  0 &  0 & 0.000\\\\\n",
       "\tpCalicoPDsHSrSNiPoold230719ID.2 & pCalicoPDsHSrSNiPoold230719ID & 206954930010\\_R05C01 & pd  &  575 &  1 &  1 & 0.002\\\\\n",
       "\tpCalicoPDsHSrSNiPoold230719ID.3 & pCalicoPDsHSrSNiPoold230719ID & 206954930093\\_R01C02 & ctr & 1615 &  3 &  3 & 0.002\\\\\n",
       "\tpCalicoPDsHSrSNiPoold230719ID.4 & pCalicoPDsHSrSNiPoold230719ID & 206954930093\\_R03C01 & ctr & 1333 &  0 &  0 & 0.000\\\\\n",
       "\tpCalicoPDsHSrSNiPoold230719ID.5 & pCalicoPDsHSrSNiPoold230719ID & 207762950086\\_R02C01 & pd  & 1031 &  0 &  0 & 0.000\\\\\n",
       "\tpCalicoPDsHSrSNiPoold230719ID.6 & pCalicoPDsHSrSNiPoold230719ID & 207762950086\\_R08C02 & pd  & 1534 &  1 &  1 & 0.001\\\\\n",
       "\tpCalicoPDsHSrSNiPoold230719J1.1 & pCalicoPDsHSrSNiPoold230719J1 & 206954930010\\_R05C01 & pd  &  127 &  0 &  0 & 0.000\\\\\n",
       "\tpCalicoPDsHSrSNiPoold230719J1.2 & pCalicoPDsHSrSNiPoold230719J1 & 206954930060\\_R04C01 & pd  &  370 &  0 &  0 & 0.000\\\\\n",
       "\tpCalicoPDsHSrSNiPoold230719J1.3 & pCalicoPDsHSrSNiPoold230719J1 & 206954930093\\_R07C01 & pd  &  381 &  0 &  0 & 0.000\\\\\n",
       "\tpCalicoPDsHSrSNiPoold230719J1.4 & pCalicoPDsHSrSNiPoold230719J1 & 206954930093\\_R11C02 & ctr &  657 &  4 &  4 & 0.006\\\\\n",
       "\tpCalicoPDsHSrSNiPoold230719J1.5 & pCalicoPDsHSrSNiPoold230719J1 & 207762950086\\_R04C01 & pd  &  585 &  4 &  4 & 0.007\\\\\n",
       "\tpCalicoPDsHSrSNiPoold230719J1.6 & pCalicoPDsHSrSNiPoold230719J1 & 207762950086\\_R08C02 & pd  &  553 &  0 &  0 & 0.000\\\\\n",
       "\tpCalicoPDsHSrSNiPoold230719J2.1 & pCalicoPDsHSrSNiPoold230719J2 & 206954930060\\_R04C01 & pd  &  462 &  0 &  0 & 0.000\\\\\n",
       "\tpCalicoPDsHSrSNiPoold230719J2.2 & pCalicoPDsHSrSNiPoold230719J2 & 206954930093\\_R07C01 & pd  &  391 &  0 &  0 & 0.000\\\\\n",
       "\tpCalicoPDsHSrSNiPoold230719J2.3 & pCalicoPDsHSrSNiPoold230719J2 & 206954930093\\_R11C02 & ctr &  646 & 14 & 14 & 0.022\\\\\n",
       "\tpCalicoPDsHSrSNiPoold230719J2.4 & pCalicoPDsHSrSNiPoold230719J2 & 207762950086\\_R04C01 & pd  &  600 &  8 &  8 & 0.013\\\\\n",
       "\tpCalicoPDsHSrSNiPoold230719J2.5 & pCalicoPDsHSrSNiPoold230719J2 & 207762950086\\_R08C02 & pd  &  581 &  0 &  0 & 0.000\\\\\n",
       "\tpCalicoPDsHSrSNiPoold230719JD.1 & pCalicoPDsHSrSNiPoold230719JD & 206954930093\\_R07C01 & pd  & 1193 &  5 &  5 & 0.004\\\\\n",
       "\tpCalicoPDsHSrSNiPoold230719JD.2 & pCalicoPDsHSrSNiPoold230719JD & 206954930093\\_R11C02 & ctr & 1981 & 23 & 23 & 0.012\\\\\n",
       "\tpCalicoPDsHSrSNiPoold230719JD.3 & pCalicoPDsHSrSNiPoold230719JD & 207762950086\\_R04C01 & pd  & 2250 &  8 &  8 & 0.004\\\\\n",
       "\tpCalicoPDsHSrSNiPoold230719JD.4 & pCalicoPDsHSrSNiPoold230719JD & 207762950086\\_R08C02 & pd  & 1636 &  3 &  3 & 0.002\\\\\n",
       "\tpCalicoPDsHSrSNiPoold230719K1.1 & pCalicoPDsHSrSNiPoold230719K1 & 206954930010\\_R03C01 & pd  & 1121 &  2 &  2 & 0.002\\\\\n",
       "\tpCalicoPDsHSrSNiPoold230719K1.2 & pCalicoPDsHSrSNiPoold230719K1 & 206954930010\\_R05C02 & ctr &    4 &  0 &  0 & 0.000\\\\\n",
       "\tpCalicoPDsHSrSNiPoold230719K1.3 & pCalicoPDsHSrSNiPoold230719K1 & 206954930093\\_R04C02 & pd  &  819 & 14 & 13 & 0.016\\\\\n",
       "\tpCalicoPDsHSrSNiPoold230719K1.4 & pCalicoPDsHSrSNiPoold230719K1 & 206954930093\\_R07C01 & pd  &  167 &  1 &  1 & 0.006\\\\\n",
       "\tpCalicoPDsHSrSNiPoold230719K1.5 & pCalicoPDsHSrSNiPoold230719K1 & 207762950055\\_R12C02 & ctr &  747 &  2 &  2 & 0.003\\\\\n",
       "\tpCalicoPDsHSrSNiPoold230719K1.6 & pCalicoPDsHSrSNiPoold230719K1 & 207762950108\\_R10C02 & pd  &  282 &  0 &  0 & 0.000\\\\\n",
       "\\end{tabular}\n"
      ],
      "text/markdown": [
       "\n",
       "A tibble: 45 × 7\n",
       "\n",
       "| <!--/--> | library &lt;chr&gt; | donor_id &lt;chr&gt; | case_control &lt;chr&gt; | n_cells &lt;int&gt; | sum_herv &lt;dbl&gt; | count_herv_gte0 &lt;int&gt; | frac_herv_gte0 &lt;dbl&gt; |\n",
       "|---|---|---|---|---|---|---|---|\n",
       "| pCalicoPDsHSrSNiPoold230719CD.1 | pCalicoPDsHSrSNiPoold230719CD | 206954930010_R03C02 | pd  |    4 |  0 |  0 | 0.000 |\n",
       "| pCalicoPDsHSrSNiPoold230719CD.2 | pCalicoPDsHSrSNiPoold230719CD | 206954930010_R07C01 | pd  |  440 |  0 |  0 | 0.000 |\n",
       "| pCalicoPDsHSrSNiPoold230719CD.3 | pCalicoPDsHSrSNiPoold230719CD | 206954930010_R08C01 | pd  | 1354 | 43 | 43 | 0.032 |\n",
       "| pCalicoPDsHSrSNiPoold230719CD.4 | pCalicoPDsHSrSNiPoold230719CD | 206954930011_R11C01 | pd  |    9 |  0 |  0 | 0.000 |\n",
       "| pCalicoPDsHSrSNiPoold230719CD.5 | pCalicoPDsHSrSNiPoold230719CD | 206954930011_R11C02 | ctr |  399 |  0 |  0 | 0.000 |\n",
       "| pCalicoPDsHSrSNiPoold230719CD.6 | pCalicoPDsHSrSNiPoold230719CD | 206954930060_R07C01 | pd  | 1134 | 28 | 25 | 0.022 |\n",
       "| pCalicoPDsHSrSNiPoold230719ED.1 | pCalicoPDsHSrSNiPoold230719ED | 206954930010_R06C01 | ctr |  929 |  0 |  0 | 0.000 |\n",
       "| pCalicoPDsHSrSNiPoold230719ED.2 | pCalicoPDsHSrSNiPoold230719ED | 206954930093_R10C01 | pd  |  620 |  2 |  2 | 0.003 |\n",
       "| pCalicoPDsHSrSNiPoold230719ED.3 | pCalicoPDsHSrSNiPoold230719ED | 207758480019_R01C01 | pd  | 1095 | 35 | 33 | 0.030 |\n",
       "| pCalicoPDsHSrSNiPoold230719ED.4 | pCalicoPDsHSrSNiPoold230719ED | 207762950055_R04C01 | ctr |  882 | 10 | 10 | 0.011 |\n",
       "| pCalicoPDsHSrSNiPoold230719ED.5 | pCalicoPDsHSrSNiPoold230719ED | 207762950055_R08C02 | pd  | 1261 | 13 | 12 | 0.010 |\n",
       "| pCalicoPDsHSrSNiPoold230719ED.6 | pCalicoPDsHSrSNiPoold230719ED | 207762960003_R01C02 | pd  |  919 |  2 |  2 | 0.002 |\n",
       "| pCalicoPDsHSrSNiPoold230719GD.1 | pCalicoPDsHSrSNiPoold230719GD | 206954930011_R02C02 | pd  | 1549 | 19 | 19 | 0.012 |\n",
       "| pCalicoPDsHSrSNiPoold230719GD.2 | pCalicoPDsHSrSNiPoold230719GD | 206954930011_R12C01 | pd  | 1404 |  1 |  1 | 0.001 |\n",
       "| pCalicoPDsHSrSNiPoold230719GD.3 | pCalicoPDsHSrSNiPoold230719GD | 206954930093_R08C02 | pd  |  849 |  0 |  0 | 0.000 |\n",
       "| pCalicoPDsHSrSNiPoold230719GD.4 | pCalicoPDsHSrSNiPoold230719GD | 206954930093_R09C01 | ctr | 1117 |  0 |  0 | 0.000 |\n",
       "| pCalicoPDsHSrSNiPoold230719GD.5 | pCalicoPDsHSrSNiPoold230719GD | 207762950086_R12C02 | pd  | 1762 | 28 | 26 | 0.015 |\n",
       "| pCalicoPDsHSrSNiPoold230719GD.6 | pCalicoPDsHSrSNiPoold230719GD | 207762960003_R05C02 | pd  |  715 |  2 |  2 | 0.003 |\n",
       "| pCalicoPDsHSrSNiPoold230719ID.1 | pCalicoPDsHSrSNiPoold230719ID | 206954930010_R03C01 | pd  | 1576 |  0 |  0 | 0.000 |\n",
       "| pCalicoPDsHSrSNiPoold230719ID.2 | pCalicoPDsHSrSNiPoold230719ID | 206954930010_R05C01 | pd  |  575 |  1 |  1 | 0.002 |\n",
       "| pCalicoPDsHSrSNiPoold230719ID.3 | pCalicoPDsHSrSNiPoold230719ID | 206954930093_R01C02 | ctr | 1615 |  3 |  3 | 0.002 |\n",
       "| pCalicoPDsHSrSNiPoold230719ID.4 | pCalicoPDsHSrSNiPoold230719ID | 206954930093_R03C01 | ctr | 1333 |  0 |  0 | 0.000 |\n",
       "| pCalicoPDsHSrSNiPoold230719ID.5 | pCalicoPDsHSrSNiPoold230719ID | 207762950086_R02C01 | pd  | 1031 |  0 |  0 | 0.000 |\n",
       "| pCalicoPDsHSrSNiPoold230719ID.6 | pCalicoPDsHSrSNiPoold230719ID | 207762950086_R08C02 | pd  | 1534 |  1 |  1 | 0.001 |\n",
       "| pCalicoPDsHSrSNiPoold230719J1.1 | pCalicoPDsHSrSNiPoold230719J1 | 206954930010_R05C01 | pd  |  127 |  0 |  0 | 0.000 |\n",
       "| pCalicoPDsHSrSNiPoold230719J1.2 | pCalicoPDsHSrSNiPoold230719J1 | 206954930060_R04C01 | pd  |  370 |  0 |  0 | 0.000 |\n",
       "| pCalicoPDsHSrSNiPoold230719J1.3 | pCalicoPDsHSrSNiPoold230719J1 | 206954930093_R07C01 | pd  |  381 |  0 |  0 | 0.000 |\n",
       "| pCalicoPDsHSrSNiPoold230719J1.4 | pCalicoPDsHSrSNiPoold230719J1 | 206954930093_R11C02 | ctr |  657 |  4 |  4 | 0.006 |\n",
       "| pCalicoPDsHSrSNiPoold230719J1.5 | pCalicoPDsHSrSNiPoold230719J1 | 207762950086_R04C01 | pd  |  585 |  4 |  4 | 0.007 |\n",
       "| pCalicoPDsHSrSNiPoold230719J1.6 | pCalicoPDsHSrSNiPoold230719J1 | 207762950086_R08C02 | pd  |  553 |  0 |  0 | 0.000 |\n",
       "| pCalicoPDsHSrSNiPoold230719J2.1 | pCalicoPDsHSrSNiPoold230719J2 | 206954930060_R04C01 | pd  |  462 |  0 |  0 | 0.000 |\n",
       "| pCalicoPDsHSrSNiPoold230719J2.2 | pCalicoPDsHSrSNiPoold230719J2 | 206954930093_R07C01 | pd  |  391 |  0 |  0 | 0.000 |\n",
       "| pCalicoPDsHSrSNiPoold230719J2.3 | pCalicoPDsHSrSNiPoold230719J2 | 206954930093_R11C02 | ctr |  646 | 14 | 14 | 0.022 |\n",
       "| pCalicoPDsHSrSNiPoold230719J2.4 | pCalicoPDsHSrSNiPoold230719J2 | 207762950086_R04C01 | pd  |  600 |  8 |  8 | 0.013 |\n",
       "| pCalicoPDsHSrSNiPoold230719J2.5 | pCalicoPDsHSrSNiPoold230719J2 | 207762950086_R08C02 | pd  |  581 |  0 |  0 | 0.000 |\n",
       "| pCalicoPDsHSrSNiPoold230719JD.1 | pCalicoPDsHSrSNiPoold230719JD | 206954930093_R07C01 | pd  | 1193 |  5 |  5 | 0.004 |\n",
       "| pCalicoPDsHSrSNiPoold230719JD.2 | pCalicoPDsHSrSNiPoold230719JD | 206954930093_R11C02 | ctr | 1981 | 23 | 23 | 0.012 |\n",
       "| pCalicoPDsHSrSNiPoold230719JD.3 | pCalicoPDsHSrSNiPoold230719JD | 207762950086_R04C01 | pd  | 2250 |  8 |  8 | 0.004 |\n",
       "| pCalicoPDsHSrSNiPoold230719JD.4 | pCalicoPDsHSrSNiPoold230719JD | 207762950086_R08C02 | pd  | 1636 |  3 |  3 | 0.002 |\n",
       "| pCalicoPDsHSrSNiPoold230719K1.1 | pCalicoPDsHSrSNiPoold230719K1 | 206954930010_R03C01 | pd  | 1121 |  2 |  2 | 0.002 |\n",
       "| pCalicoPDsHSrSNiPoold230719K1.2 | pCalicoPDsHSrSNiPoold230719K1 | 206954930010_R05C02 | ctr |    4 |  0 |  0 | 0.000 |\n",
       "| pCalicoPDsHSrSNiPoold230719K1.3 | pCalicoPDsHSrSNiPoold230719K1 | 206954930093_R04C02 | pd  |  819 | 14 | 13 | 0.016 |\n",
       "| pCalicoPDsHSrSNiPoold230719K1.4 | pCalicoPDsHSrSNiPoold230719K1 | 206954930093_R07C01 | pd  |  167 |  1 |  1 | 0.006 |\n",
       "| pCalicoPDsHSrSNiPoold230719K1.5 | pCalicoPDsHSrSNiPoold230719K1 | 207762950055_R12C02 | ctr |  747 |  2 |  2 | 0.003 |\n",
       "| pCalicoPDsHSrSNiPoold230719K1.6 | pCalicoPDsHSrSNiPoold230719K1 | 207762950108_R10C02 | pd  |  282 |  0 |  0 | 0.000 |\n",
       "\n"
      ],
      "text/plain": [
       "   library                       donor_id            case_control n_cells\n",
       "1  pCalicoPDsHSrSNiPoold230719CD 206954930010_R03C02 pd              4   \n",
       "2  pCalicoPDsHSrSNiPoold230719CD 206954930010_R07C01 pd            440   \n",
       "3  pCalicoPDsHSrSNiPoold230719CD 206954930010_R08C01 pd           1354   \n",
       "4  pCalicoPDsHSrSNiPoold230719CD 206954930011_R11C01 pd              9   \n",
       "5  pCalicoPDsHSrSNiPoold230719CD 206954930011_R11C02 ctr           399   \n",
       "6  pCalicoPDsHSrSNiPoold230719CD 206954930060_R07C01 pd           1134   \n",
       "7  pCalicoPDsHSrSNiPoold230719ED 206954930010_R06C01 ctr           929   \n",
       "8  pCalicoPDsHSrSNiPoold230719ED 206954930093_R10C01 pd            620   \n",
       "9  pCalicoPDsHSrSNiPoold230719ED 207758480019_R01C01 pd           1095   \n",
       "10 pCalicoPDsHSrSNiPoold230719ED 207762950055_R04C01 ctr           882   \n",
       "11 pCalicoPDsHSrSNiPoold230719ED 207762950055_R08C02 pd           1261   \n",
       "12 pCalicoPDsHSrSNiPoold230719ED 207762960003_R01C02 pd            919   \n",
       "13 pCalicoPDsHSrSNiPoold230719GD 206954930011_R02C02 pd           1549   \n",
       "14 pCalicoPDsHSrSNiPoold230719GD 206954930011_R12C01 pd           1404   \n",
       "15 pCalicoPDsHSrSNiPoold230719GD 206954930093_R08C02 pd            849   \n",
       "16 pCalicoPDsHSrSNiPoold230719GD 206954930093_R09C01 ctr          1117   \n",
       "17 pCalicoPDsHSrSNiPoold230719GD 207762950086_R12C02 pd           1762   \n",
       "18 pCalicoPDsHSrSNiPoold230719GD 207762960003_R05C02 pd            715   \n",
       "19 pCalicoPDsHSrSNiPoold230719ID 206954930010_R03C01 pd           1576   \n",
       "20 pCalicoPDsHSrSNiPoold230719ID 206954930010_R05C01 pd            575   \n",
       "21 pCalicoPDsHSrSNiPoold230719ID 206954930093_R01C02 ctr          1615   \n",
       "22 pCalicoPDsHSrSNiPoold230719ID 206954930093_R03C01 ctr          1333   \n",
       "23 pCalicoPDsHSrSNiPoold230719ID 207762950086_R02C01 pd           1031   \n",
       "24 pCalicoPDsHSrSNiPoold230719ID 207762950086_R08C02 pd           1534   \n",
       "25 pCalicoPDsHSrSNiPoold230719J1 206954930010_R05C01 pd            127   \n",
       "26 pCalicoPDsHSrSNiPoold230719J1 206954930060_R04C01 pd            370   \n",
       "27 pCalicoPDsHSrSNiPoold230719J1 206954930093_R07C01 pd            381   \n",
       "28 pCalicoPDsHSrSNiPoold230719J1 206954930093_R11C02 ctr           657   \n",
       "29 pCalicoPDsHSrSNiPoold230719J1 207762950086_R04C01 pd            585   \n",
       "30 pCalicoPDsHSrSNiPoold230719J1 207762950086_R08C02 pd            553   \n",
       "31 pCalicoPDsHSrSNiPoold230719J2 206954930060_R04C01 pd            462   \n",
       "32 pCalicoPDsHSrSNiPoold230719J2 206954930093_R07C01 pd            391   \n",
       "33 pCalicoPDsHSrSNiPoold230719J2 206954930093_R11C02 ctr           646   \n",
       "34 pCalicoPDsHSrSNiPoold230719J2 207762950086_R04C01 pd            600   \n",
       "35 pCalicoPDsHSrSNiPoold230719J2 207762950086_R08C02 pd            581   \n",
       "36 pCalicoPDsHSrSNiPoold230719JD 206954930093_R07C01 pd           1193   \n",
       "37 pCalicoPDsHSrSNiPoold230719JD 206954930093_R11C02 ctr          1981   \n",
       "38 pCalicoPDsHSrSNiPoold230719JD 207762950086_R04C01 pd           2250   \n",
       "39 pCalicoPDsHSrSNiPoold230719JD 207762950086_R08C02 pd           1636   \n",
       "40 pCalicoPDsHSrSNiPoold230719K1 206954930010_R03C01 pd           1121   \n",
       "41 pCalicoPDsHSrSNiPoold230719K1 206954930010_R05C02 ctr             4   \n",
       "42 pCalicoPDsHSrSNiPoold230719K1 206954930093_R04C02 pd            819   \n",
       "43 pCalicoPDsHSrSNiPoold230719K1 206954930093_R07C01 pd            167   \n",
       "44 pCalicoPDsHSrSNiPoold230719K1 207762950055_R12C02 ctr           747   \n",
       "45 pCalicoPDsHSrSNiPoold230719K1 207762950108_R10C02 pd            282   \n",
       "   sum_herv count_herv_gte0 frac_herv_gte0\n",
       "1   0        0              0.000         \n",
       "2   0        0              0.000         \n",
       "3  43       43              0.032         \n",
       "4   0        0              0.000         \n",
       "5   0        0              0.000         \n",
       "6  28       25              0.022         \n",
       "7   0        0              0.000         \n",
       "8   2        2              0.003         \n",
       "9  35       33              0.030         \n",
       "10 10       10              0.011         \n",
       "11 13       12              0.010         \n",
       "12  2        2              0.002         \n",
       "13 19       19              0.012         \n",
       "14  1        1              0.001         \n",
       "15  0        0              0.000         \n",
       "16  0        0              0.000         \n",
       "17 28       26              0.015         \n",
       "18  2        2              0.003         \n",
       "19  0        0              0.000         \n",
       "20  1        1              0.002         \n",
       "21  3        3              0.002         \n",
       "22  0        0              0.000         \n",
       "23  0        0              0.000         \n",
       "24  1        1              0.001         \n",
       "25  0        0              0.000         \n",
       "26  0        0              0.000         \n",
       "27  0        0              0.000         \n",
       "28  4        4              0.006         \n",
       "29  4        4              0.007         \n",
       "30  0        0              0.000         \n",
       "31  0        0              0.000         \n",
       "32  0        0              0.000         \n",
       "33 14       14              0.022         \n",
       "34  8        8              0.013         \n",
       "35  0        0              0.000         \n",
       "36  5        5              0.004         \n",
       "37 23       23              0.012         \n",
       "38  8        8              0.004         \n",
       "39  3        3              0.002         \n",
       "40  2        2              0.002         \n",
       "41  0        0              0.000         \n",
       "42 14       13              0.016         \n",
       "43  1        1              0.006         \n",
       "44  2        2              0.003         \n",
       "45  0        0              0.000         "
      ]
     },
     "metadata": {},
     "output_type": "display_data"
    }
   ],
   "source": [
    "herv_df"
   ]
  },
  {
   "cell_type": "code",
   "execution_count": 45,
   "metadata": {
    "vscode": {
     "languageId": "r"
    }
   },
   "outputs": [
    {
     "data": {
      "text/html": [
       "0.0054"
      ],
      "text/latex": [
       "0.0054"
      ],
      "text/markdown": [
       "0.0054"
      ],
      "text/plain": [
       "[1] 0.0054"
      ]
     },
     "metadata": {},
     "output_type": "display_data"
    },
    {
     "data": {
      "text/html": [
       "0.00509090909090909"
      ],
      "text/latex": [
       "0.00509090909090909"
      ],
      "text/markdown": [
       "0.00509090909090909"
      ],
      "text/plain": [
       "[1] 0.005090909"
      ]
     },
     "metadata": {},
     "output_type": "display_data"
    },
    {
     "data": {
      "text/html": [
       "0.0055"
      ],
      "text/latex": [
       "0.0055"
      ],
      "text/markdown": [
       "0.0055"
      ],
      "text/plain": [
       "[1] 0.0055"
      ]
     },
     "metadata": {},
     "output_type": "display_data"
    }
   ],
   "source": [
    "herv_df_ctr = herv_df[herv_df$case_control == 'ctr',]\n",
    "herv_df_pd = herv_df[herv_df$case_control == 'pd',]\n",
    "\n",
    "mean(herv_df$frac_herv_gte0)\n",
    "mean(herv_df_ctr$frac_herv_gte0)\n",
    "mean(herv_df_pd$frac_herv_gte0)\n"
   ]
  },
  {
   "cell_type": "code",
   "execution_count": 42,
   "metadata": {
    "vscode": {
     "languageId": "r"
    }
   },
   "outputs": [
    {
     "data": {
      "text/html": [
       "937.272727272727"
      ],
      "text/latex": [
       "937.272727272727"
      ],
      "text/markdown": [
       "937.272727272727"
      ],
      "text/plain": [
       "[1] 937.2727"
      ]
     },
     "metadata": {},
     "output_type": "display_data"
    },
    {
     "data": {
      "text/html": [
       "863.205882352941"
      ],
      "text/latex": [
       "863.205882352941"
      ],
      "text/markdown": [
       "863.205882352941"
      ],
      "text/plain": [
       "[1] 863.2059"
      ]
     },
     "metadata": {},
     "output_type": "display_data"
    }
   ],
   "source": [
    "mean(herv_df[herv_df$case_control == 'ctr',]$n_cells)\n",
    "mean(herv_df[herv_df$case_control == 'pd',]$n_cells)"
   ]
  },
  {
   "cell_type": "code",
   "execution_count": 46,
   "metadata": {
    "vscode": {
     "languageId": "r"
    }
   },
   "outputs": [
    {
     "data": {
      "text/html": [
       "0.577777777777778"
      ],
      "text/latex": [
       "0.577777777777778"
      ],
      "text/markdown": [
       "0.577777777777778"
      ],
      "text/plain": [
       "[1] 0.5777778"
      ]
     },
     "metadata": {},
     "output_type": "display_data"
    },
    {
     "data": {
      "text/html": [
       "0.545454545454545"
      ],
      "text/latex": [
       "0.545454545454545"
      ],
      "text/markdown": [
       "0.545454545454545"
      ],
      "text/plain": [
       "[1] 0.5454545"
      ]
     },
     "metadata": {},
     "output_type": "display_data"
    },
    {
     "data": {
      "text/html": [
       "0.588235294117647"
      ],
      "text/latex": [
       "0.588235294117647"
      ],
      "text/markdown": [
       "0.588235294117647"
      ],
      "text/plain": [
       "[1] 0.5882353"
      ]
     },
     "metadata": {},
     "output_type": "display_data"
    }
   ],
   "source": [
    "sum(herv_df$sum_herv > 0) / nrow(herv_df)\n",
    "sum(herv_df_ctr$sum_herv > 0) / nrow(herv_df_ctr)\n",
    "sum(herv_df_pd$sum_herv > 0) / nrow(herv_df_pd)"
   ]
  },
  {
   "cell_type": "code",
   "execution_count": 47,
   "metadata": {
    "vscode": {
     "languageId": "r"
    }
   },
   "outputs": [],
   "source": [
    "lib_ctr_fracs = list()\n",
    "lib_pd_fracs = list()\n",
    "for (lib in unique(herv_df$library)){\n",
    "    herv_df_lib = herv_df[herv_df$library == lib,]\n",
    "    herv_df_lib_ctr = herv_df_ctr[herv_df_ctr$library == lib,]\n",
    "    herv_df_lib_pd = herv_df_pd[herv_df_pd$library == lib,]\n",
    "    lib_ctr_fracs[[lib]] = mean(herv_df_lib_ctr$frac_herv_gte0)\n",
    "    lib_pd_fracs[[lib]] = mean(herv_df_lib_pd$frac_herv_gte0)\n",
    "}"
   ]
  },
  {
   "cell_type": "code",
   "execution_count": 51,
   "metadata": {
    "vscode": {
     "languageId": "r"
    }
   },
   "outputs": [
    {
     "data": {
      "text/html": [
       "0.006"
      ],
      "text/latex": [
       "0.006"
      ],
      "text/markdown": [
       "0.006"
      ],
      "text/plain": [
       "[1] 0.006"
      ]
     },
     "metadata": {},
     "output_type": "display_data"
    },
    {
     "data": {
      "text/html": [
       "0.00537291666666667"
      ],
      "text/latex": [
       "0.00537291666666667"
      ],
      "text/markdown": [
       "0.00537291666666667"
      ],
      "text/plain": [
       "[1] 0.005372917"
      ]
     },
     "metadata": {},
     "output_type": "display_data"
    }
   ],
   "source": [
    "mean(as.numeric(lib_ctr_fracs))\n",
    "mean(as.numeric(lib_pd_fracs))"
   ]
  },
  {
   "cell_type": "code",
   "execution_count": 52,
   "metadata": {
    "vscode": {
     "languageId": "r"
    }
   },
   "outputs": [
    {
     "data": {
      "image/png": "[encoded data removed]",
      "text/plain": [
       "Plot with title “Donor Avg. Fraction of cells with HERV, by library”"
      ]
     },
     "metadata": {
      "image/png": {
       "height": 420,
       "width": 420
      }
     },
     "output_type": "display_data"
    }
   ],
   "source": [
    "boxplot(\n",
    "    as.numeric(lib_ctr_fracs), as.numeric(lib_pd_fracs), names = c('ctr', 'pd'), \n",
    "    ylab = 'Fraction of cells with HERV', xlab = 'Library', main = 'Donor Avg. Fraction of cells with HERV, by library')"
   ]
  },
  {
   "cell_type": "code",
   "execution_count": 53,
   "metadata": {
    "vscode": {
     "languageId": "r"
    }
   },
   "outputs": [
    {
     "name": "stderr",
     "output_type": "stream",
     "text": [
      "Warning message in wilcox.test.default(as.numeric(lib_ctr_fracs), as.numeric(lib_pd_fracs)):\n",
      "“cannot compute exact p-value with ties”\n"
     ]
    },
    {
     "data": {
      "text/plain": [
       "\n",
       "\tWilcoxon rank sum test with continuity correction\n",
       "\n",
       "data:  as.numeric(lib_ctr_fracs) and as.numeric(lib_pd_fracs)\n",
       "W = 27.5, p-value = 0.674\n",
       "alternative hypothesis: true location shift is not equal to 0\n"
      ]
     },
     "metadata": {},
     "output_type": "display_data"
    }
   ],
   "source": [
    "wilcox.test(as.numeric(lib_ctr_fracs), as.numeric(lib_pd_fracs))"
   ]
  },
  {
   "cell_type": "code",
   "execution_count": 54,
   "metadata": {
    "vscode": {
     "languageId": "r"
    }
   },
   "outputs": [
    {
     "data": {
      "text/html": [
       "1550"
      ],
      "text/latex": [
       "1550"
      ],
      "text/markdown": [
       "1550"
      ],
      "text/plain": [
       "[1] 1550"
      ]
     },
     "metadata": {},
     "output_type": "display_data"
    }
   ],
   "source": [
    "sum(c(475,\n",
    "163,\n",
    "20,\n",
    "146,\n",
    "263,\n",
    "483))"
   ]
  },
  {
   "cell_type": "code",
   "execution_count": 55,
   "metadata": {
    "vscode": {
     "languageId": "r"
    }
   },
   "outputs": [
    {
     "data": {
      "text/html": [
       "0.710032065964269"
      ],
      "text/latex": [
       "0.710032065964269"
      ],
      "text/markdown": [
       "0.710032065964269"
      ],
      "text/plain": [
       "[1] 0.7100321"
      ]
     },
     "metadata": {},
     "output_type": "display_data"
    }
   ],
   "source": [
    "1550 / (1550 + 334 + 299)"
   ]
  },
  {
   "cell_type": "code",
   "execution_count": null,
   "metadata": {
    "vscode": {
     "languageId": "r"
    }
   },
   "outputs": [],
   "source": [
    "206954930010_R02C01\t522\n",
    "206954930011_R11C02\t225\n",
    "206954930093_R08C01\t81\n",
    "207762950086_R06C02\t153\n",
    "207762950086_R07C02\t273\n",
    "207762950086_R11C01\t513\n",
    "doublet\t39\n",
    "unassigned\t640"
   ]
  },
  {
   "cell_type": "code",
   "execution_count": 57,
   "metadata": {
    "vscode": {
     "languageId": "r"
    }
   },
   "outputs": [
    {
     "data": {
      "text/html": [
       "1767"
      ],
      "text/latex": [
       "1767"
      ],
      "text/markdown": [
       "1767"
      ],
      "text/plain": [
       "[1] 1767"
      ]
     },
     "metadata": {},
     "output_type": "display_data"
    }
   ],
   "source": [
    "(513 + 273 + 153 + 81 + 225 + 522)"
   ]
  },
  {
   "cell_type": "code",
   "execution_count": 56,
   "metadata": {
    "vscode": {
     "languageId": "r"
    }
   },
   "outputs": [
    {
     "data": {
      "text/html": [
       "0.722403924775143"
      ],
      "text/latex": [
       "0.722403924775143"
      ],
      "text/markdown": [
       "0.722403924775143"
      ],
      "text/plain": [
       "[1] 0.7224039"
      ]
     },
     "metadata": {},
     "output_type": "display_data"
    }
   ],
   "source": [
    "(513 + 273 + 153 + 81 + 225 + 522) / (513 + 273 + 153 + 81 + 225 + 522 + 679)"
   ]
  },
  {
   "cell_type": "code",
   "execution_count": null,
   "metadata": {
    "vscode": {
     "languageId": "r"
    }
   },
   "outputs": [],
   "source": []
  }
 ],
 "metadata": {
  "kernelspec": {
   "display_name": "R",
   "language": "R",
   "name": "ir"
  },
  "language_info": {
   "codemirror_mode": "r",
   "file_extension": ".r",
   "mimetype": "text/x-r-source",
   "name": "R",
   "pygments_lexer": "r",
   "version": "4.0.4"
  }
 },
 "nbformat": 4,
 "nbformat_minor": 2
}
