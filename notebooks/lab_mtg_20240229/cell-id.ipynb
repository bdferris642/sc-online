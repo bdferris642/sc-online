{
 "cells": [
  {
   "cell_type": "code",
   "execution_count": 1,
   "metadata": {
    "vscode": {
     "languageId": "r"
    }
   },
   "outputs": [
    {
     "name": "stderr",
     "output_type": "stream",
     "text": [
      "qs 0.25.7\n",
      "\n",
      "Attaching SeuratObject\n",
      "\n"
     ]
    }
   ],
   "source": [
    "library(qs)\n",
    "library(Seurat)\n",
    "library(ggplot2)"
   ]
  },
  {
   "cell_type": "code",
   "execution_count": 1,
   "metadata": {
    "vscode": {
     "languageId": "r"
    }
   },
   "outputs": [],
   "source": [
    "manifest = read.table(\"/mnt/accessory/seq_data/calico/Calico_Macosko_PD_GSA_Terra_Manifest.tsv\", sep='\\t',header=T,skip=0)\n",
    "manifest$donor_id = sapply(manifest$entity.sample_id, function(x) gsub(\"_1$\", \"\", x))\n",
    "manifest$participant_id = manifest$collaborator_participant_id\n",
    "manifest$age = manifest$Age \n",
    "manifest$sex = manifest$Sex\n",
    "manifest$case_control = ifelse(manifest$Disease == \"Control\", \"ctr\", \"pd\")\n",
    "manifest = manifest[, c('donor_id', 'participant_id', 'age', 'sex', 'case_control')]\n"
   ]
  },
  {
   "cell_type": "code",
   "execution_count": 4,
   "metadata": {
    "vscode": {
     "languageId": "r"
    }
   },
   "outputs": [],
   "source": [
    "data_seurat_nurr_all = qread(\"/mnt/accessory/seq_data/calico/seurat_nurr_merged_initial_harmonized_20240130.qs\")\n",
    "data_seurat_dapi = readRDS(\"/mnt/accessory/seq_data/calico/seurat_dapi_merged_initial_harmonized_20240119.rds\")"
   ]
  },
  {
   "cell_type": "code",
   "execution_count": 5,
   "metadata": {
    "vscode": {
     "languageId": "r"
    }
   },
   "outputs": [
    {
     "name": "stderr",
     "output_type": "stream",
     "text": [
      "Warning message in gzfile(file, \"rb\"):\n",
      "“cannot open compressed file '/mnt/accessory/seq_data/calico/markers_nurr_initial_harmonized_20240130', probable reason 'No such file or directory'”\n"
     ]
    },
    {
     "ename": "ERROR",
     "evalue": "Error in gzfile(file, \"rb\"): cannot open the connection\n",
     "output_type": "error",
     "traceback": [
      "Error in gzfile(file, \"rb\"): cannot open the connection\nTraceback:\n",
      "1. readRDS(\"/mnt/accessory/seq_data/calico/markers_nurr_initial_harmonized_20240130\")",
      "2. gzfile(file, \"rb\")"
     ]
    }
   ],
   "source": [
    "nurr_markers = readRDS(\"/mnt/accessory/seq_data/calico/markers_nurr_initial_harmonized_20240130\")\n",
    "dapi_markers = readRDS(\"/mnt/accessory/seq_data/calico/markers_dapi_initial_harmonized_20240119\")"
   ]
  },
  {
   "cell_type": "code",
   "execution_count": 6,
   "metadata": {
    "vscode": {
     "languageId": "r"
    }
   },
   "outputs": [
    {
     "data": {
      "text/html": [
       "<table class=\"dataframe\">\n",
       "<caption>A data.frame: 120 × 5</caption>\n",
       "<thead>\n",
       "\t<tr><th scope=col>donor_id</th><th scope=col>participant_id</th><th scope=col>age</th><th scope=col>sex</th><th scope=col>case_control</th></tr>\n",
       "\t<tr><th scope=col>&lt;chr&gt;</th><th scope=col>&lt;chr&gt;</th><th scope=col>&lt;int&gt;</th><th scope=col>&lt;chr&gt;</th><th scope=col>&lt;chr&gt;</th></tr>\n",
       "</thead>\n",
       "<tbody>\n",
       "\t<tr><td>206954930010_R05C02</td><td>PDC091  </td><td>85</td><td>Male   </td><td>ctr</td></tr>\n",
       "\t<tr><td>206954930010_R09C01</td><td>PDC164  </td><td>NA</td><td>Unknown</td><td>ctr</td></tr>\n",
       "\t<tr><td>206954930011_R11C02</td><td>PDC165  </td><td>NA</td><td>Unknown</td><td>ctr</td></tr>\n",
       "\t<tr><td>206954930060_R11C02</td><td>PDC110  </td><td>94</td><td>Female </td><td>ctr</td></tr>\n",
       "\t<tr><td>206954930093_R05C02</td><td>PDC094  </td><td>47</td><td>Female </td><td>ctr</td></tr>\n",
       "\t<tr><td>207762950055_R07C02</td><td>PDC094  </td><td>47</td><td>Female </td><td>ctr</td></tr>\n",
       "\t<tr><td>207762950055_R11C01</td><td>2019-092</td><td>82</td><td>Female </td><td>pd </td></tr>\n",
       "\t<tr><td>207762950086_R02C01</td><td>UnknownB</td><td>NA</td><td>Unknown</td><td>pd </td></tr>\n",
       "\t<tr><td>207762950108_R10C02</td><td>UnknownC</td><td>NA</td><td>Unknown</td><td>pd </td></tr>\n",
       "\t<tr><td>207762960003_R12C02</td><td>UnknownA</td><td>NA</td><td>Unknown</td><td>pd </td></tr>\n",
       "\t<tr><td>206954930010_R01C01</td><td>PDC090  </td><td>83</td><td>Male   </td><td>ctr</td></tr>\n",
       "\t<tr><td>206954930010_R01C02</td><td>PD0717  </td><td>68</td><td>Female </td><td>pd </td></tr>\n",
       "\t<tr><td>206954930010_R02C01</td><td>PDC139  </td><td>90</td><td>Male   </td><td>ctr</td></tr>\n",
       "\t<tr><td>206954930010_R03C01</td><td>PD0730  </td><td>77</td><td>Female </td><td>pd </td></tr>\n",
       "\t<tr><td>206954930010_R03C02</td><td>PD0940  </td><td>81</td><td>Female </td><td>pd </td></tr>\n",
       "\t<tr><td>206954930010_R04C01</td><td>PDC078  </td><td>91</td><td>Male   </td><td>ctr</td></tr>\n",
       "\t<tr><td>206954930010_R05C01</td><td>PD0870  </td><td>88</td><td>Female </td><td>pd </td></tr>\n",
       "\t<tr><td>206954930010_R06C01</td><td>PDC092  </td><td>93</td><td>Female </td><td>ctr</td></tr>\n",
       "\t<tr><td>206954930010_R07C01</td><td>PD0968  </td><td>81</td><td>Male   </td><td>pd </td></tr>\n",
       "\t<tr><td>206954930010_R08C01</td><td>PD0793  </td><td>75</td><td>Female </td><td>pd </td></tr>\n",
       "\t<tr><td>206954930010_R10C01</td><td>PD0875  </td><td>80</td><td>Male   </td><td>pd </td></tr>\n",
       "\t<tr><td>206954930010_R11C01</td><td>PD0927  </td><td>78</td><td>Male   </td><td>pd </td></tr>\n",
       "\t<tr><td>206954930011_R01C02</td><td>PDC131  </td><td>92</td><td>Female </td><td>ctr</td></tr>\n",
       "\t<tr><td>206954930011_R02C01</td><td>PD0954  </td><td>79</td><td>Female </td><td>pd </td></tr>\n",
       "\t<tr><td>206954930011_R02C02</td><td>PD0847  </td><td>82</td><td>Female </td><td>pd </td></tr>\n",
       "\t<tr><td>206954930011_R03C01</td><td>PDC123  </td><td>92</td><td>Male   </td><td>ctr</td></tr>\n",
       "\t<tr><td>206954930011_R03C02</td><td>PD0911  </td><td>68</td><td>Male   </td><td>pd </td></tr>\n",
       "\t<tr><td>206954930011_R04C01</td><td>PD0976  </td><td>78</td><td>Male   </td><td>pd </td></tr>\n",
       "\t<tr><td>206954930011_R04C02</td><td>PD0980  </td><td>78</td><td>Male   </td><td>pd </td></tr>\n",
       "\t<tr><td>206954930011_R05C01</td><td>PD0833  </td><td>70</td><td>Female </td><td>pd </td></tr>\n",
       "\t<tr><td>⋮</td><td>⋮</td><td>⋮</td><td>⋮</td><td>⋮</td></tr>\n",
       "\t<tr><td>207762950086_R03C02</td><td>2018-130</td><td> 66</td><td>Male  </td><td>pd </td></tr>\n",
       "\t<tr><td>207762950086_R04C01</td><td>PD0876  </td><td> 85</td><td>Male  </td><td>pd </td></tr>\n",
       "\t<tr><td>207762950086_R05C02</td><td>PD0878  </td><td> 71</td><td>Male  </td><td>pd </td></tr>\n",
       "\t<tr><td>207762950086_R06C02</td><td>2008-052</td><td> 62</td><td>Female</td><td>ctr</td></tr>\n",
       "\t<tr><td>207762950086_R07C02</td><td>2009-016</td><td> 51</td><td>Female</td><td>ctr</td></tr>\n",
       "\t<tr><td>207762950086_R08C02</td><td>2019-071</td><td> 76</td><td>Female</td><td>pd </td></tr>\n",
       "\t<tr><td>207762950086_R10C02</td><td>PD0825  </td><td> 74</td><td>Male  </td><td>pd </td></tr>\n",
       "\t<tr><td>207762950086_R11C01</td><td>2002-086</td><td> 74</td><td>Female</td><td>ctr</td></tr>\n",
       "\t<tr><td>207762950086_R12C02</td><td>2019-017</td><td> 75</td><td>Male  </td><td>pd </td></tr>\n",
       "\t<tr><td>207762950108_R01C02</td><td>2019-017</td><td> 75</td><td>Male  </td><td>pd </td></tr>\n",
       "\t<tr><td>207762950108_R02C01</td><td>PDC094  </td><td> 47</td><td>Female</td><td>ctr</td></tr>\n",
       "\t<tr><td>207762950108_R03C02</td><td>2019-071</td><td> 76</td><td>Female</td><td>pd </td></tr>\n",
       "\t<tr><td>207762950108_R04C01</td><td>2007-020</td><td> 74</td><td>Male  </td><td>ctr</td></tr>\n",
       "\t<tr><td>207762950108_R05C02</td><td>2014-020</td><td> 92</td><td>Female</td><td>ctr</td></tr>\n",
       "\t<tr><td>207762950108_R06C02</td><td>2019-092</td><td> 82</td><td>Female</td><td>pd </td></tr>\n",
       "\t<tr><td>207762950108_R07C02</td><td>PD0905  </td><td> 87</td><td>Male  </td><td>pd </td></tr>\n",
       "\t<tr><td>207762950108_R08C02</td><td>2019-019</td><td> 87</td><td>Female</td><td>pd </td></tr>\n",
       "\t<tr><td>207762950108_R09C01</td><td>1998-016</td><td> 82</td><td>Female</td><td>ctr</td></tr>\n",
       "\t<tr><td>207762950108_R11C01</td><td>1997-115</td><td> 89</td><td>Female</td><td>ctr</td></tr>\n",
       "\t<tr><td>207762960003_R01C02</td><td>2017-037</td><td> 71</td><td>Male  </td><td>pd </td></tr>\n",
       "\t<tr><td>207762960003_R02C01</td><td>PD0905  </td><td> 87</td><td>Male  </td><td>pd </td></tr>\n",
       "\t<tr><td>207762960003_R03C02</td><td>1998-051</td><td> 94</td><td>Female</td><td>ctr</td></tr>\n",
       "\t<tr><td>207762960003_R04C01</td><td>2019-126</td><td> 77</td><td>Male  </td><td>pd </td></tr>\n",
       "\t<tr><td>207762960003_R05C02</td><td>PD0954  </td><td> 79</td><td>Female</td><td>pd </td></tr>\n",
       "\t<tr><td>207762960003_R06C02</td><td>2007-032</td><td> 87</td><td>Female</td><td>ctr</td></tr>\n",
       "\t<tr><td>207762960003_R07C02</td><td>2020-052</td><td>102</td><td>Female</td><td>ctr</td></tr>\n",
       "\t<tr><td>207762960003_R08C02</td><td>2007-046</td><td> 89</td><td>Male  </td><td>ctr</td></tr>\n",
       "\t<tr><td>207762960003_R09C01</td><td>2017-037</td><td> 71</td><td>Male  </td><td>pd </td></tr>\n",
       "\t<tr><td>207762960003_R10C02</td><td>PD0876  </td><td> 85</td><td>Male  </td><td>pd </td></tr>\n",
       "\t<tr><td>207762960003_R11C01</td><td>2019-082</td><td> 89</td><td>Female</td><td>pd </td></tr>\n",
       "</tbody>\n",
       "</table>\n"
      ],
      "text/latex": [
       "A data.frame: 120 × 5\n",
       "\\begin{tabular}{lllll}\n",
       " donor\\_id & participant\\_id & age & sex & case\\_control\\\\\n",
       " <chr> & <chr> & <int> & <chr> & <chr>\\\\\n",
       "\\hline\n",
       "\t 206954930010\\_R05C02 & PDC091   & 85 & Male    & ctr\\\\\n",
       "\t 206954930010\\_R09C01 & PDC164   & NA & Unknown & ctr\\\\\n",
       "\t 206954930011\\_R11C02 & PDC165   & NA & Unknown & ctr\\\\\n",
       "\t 206954930060\\_R11C02 & PDC110   & 94 & Female  & ctr\\\\\n",
       "\t 206954930093\\_R05C02 & PDC094   & 47 & Female  & ctr\\\\\n",
       "\t 207762950055\\_R07C02 & PDC094   & 47 & Female  & ctr\\\\\n",
       "\t 207762950055\\_R11C01 & 2019-092 & 82 & Female  & pd \\\\\n",
       "\t 207762950086\\_R02C01 & UnknownB & NA & Unknown & pd \\\\\n",
       "\t 207762950108\\_R10C02 & UnknownC & NA & Unknown & pd \\\\\n",
       "\t 207762960003\\_R12C02 & UnknownA & NA & Unknown & pd \\\\\n",
       "\t 206954930010\\_R01C01 & PDC090   & 83 & Male    & ctr\\\\\n",
       "\t 206954930010\\_R01C02 & PD0717   & 68 & Female  & pd \\\\\n",
       "\t 206954930010\\_R02C01 & PDC139   & 90 & Male    & ctr\\\\\n",
       "\t 206954930010\\_R03C01 & PD0730   & 77 & Female  & pd \\\\\n",
       "\t 206954930010\\_R03C02 & PD0940   & 81 & Female  & pd \\\\\n",
       "\t 206954930010\\_R04C01 & PDC078   & 91 & Male    & ctr\\\\\n",
       "\t 206954930010\\_R05C01 & PD0870   & 88 & Female  & pd \\\\\n",
       "\t 206954930010\\_R06C01 & PDC092   & 93 & Female  & ctr\\\\\n",
       "\t 206954930010\\_R07C01 & PD0968   & 81 & Male    & pd \\\\\n",
       "\t 206954930010\\_R08C01 & PD0793   & 75 & Female  & pd \\\\\n",
       "\t 206954930010\\_R10C01 & PD0875   & 80 & Male    & pd \\\\\n",
       "\t 206954930010\\_R11C01 & PD0927   & 78 & Male    & pd \\\\\n",
       "\t 206954930011\\_R01C02 & PDC131   & 92 & Female  & ctr\\\\\n",
       "\t 206954930011\\_R02C01 & PD0954   & 79 & Female  & pd \\\\\n",
       "\t 206954930011\\_R02C02 & PD0847   & 82 & Female  & pd \\\\\n",
       "\t 206954930011\\_R03C01 & PDC123   & 92 & Male    & ctr\\\\\n",
       "\t 206954930011\\_R03C02 & PD0911   & 68 & Male    & pd \\\\\n",
       "\t 206954930011\\_R04C01 & PD0976   & 78 & Male    & pd \\\\\n",
       "\t 206954930011\\_R04C02 & PD0980   & 78 & Male    & pd \\\\\n",
       "\t 206954930011\\_R05C01 & PD0833   & 70 & Female  & pd \\\\\n",
       "\t ⋮ & ⋮ & ⋮ & ⋮ & ⋮\\\\\n",
       "\t 207762950086\\_R03C02 & 2018-130 &  66 & Male   & pd \\\\\n",
       "\t 207762950086\\_R04C01 & PD0876   &  85 & Male   & pd \\\\\n",
       "\t 207762950086\\_R05C02 & PD0878   &  71 & Male   & pd \\\\\n",
       "\t 207762950086\\_R06C02 & 2008-052 &  62 & Female & ctr\\\\\n",
       "\t 207762950086\\_R07C02 & 2009-016 &  51 & Female & ctr\\\\\n",
       "\t 207762950086\\_R08C02 & 2019-071 &  76 & Female & pd \\\\\n",
       "\t 207762950086\\_R10C02 & PD0825   &  74 & Male   & pd \\\\\n",
       "\t 207762950086\\_R11C01 & 2002-086 &  74 & Female & ctr\\\\\n",
       "\t 207762950086\\_R12C02 & 2019-017 &  75 & Male   & pd \\\\\n",
       "\t 207762950108\\_R01C02 & 2019-017 &  75 & Male   & pd \\\\\n",
       "\t 207762950108\\_R02C01 & PDC094   &  47 & Female & ctr\\\\\n",
       "\t 207762950108\\_R03C02 & 2019-071 &  76 & Female & pd \\\\\n",
       "\t 207762950108\\_R04C01 & 2007-020 &  74 & Male   & ctr\\\\\n",
       "\t 207762950108\\_R05C02 & 2014-020 &  92 & Female & ctr\\\\\n",
       "\t 207762950108\\_R06C02 & 2019-092 &  82 & Female & pd \\\\\n",
       "\t 207762950108\\_R07C02 & PD0905   &  87 & Male   & pd \\\\\n",
       "\t 207762950108\\_R08C02 & 2019-019 &  87 & Female & pd \\\\\n",
       "\t 207762950108\\_R09C01 & 1998-016 &  82 & Female & ctr\\\\\n",
       "\t 207762950108\\_R11C01 & 1997-115 &  89 & Female & ctr\\\\\n",
       "\t 207762960003\\_R01C02 & 2017-037 &  71 & Male   & pd \\\\\n",
       "\t 207762960003\\_R02C01 & PD0905   &  87 & Male   & pd \\\\\n",
       "\t 207762960003\\_R03C02 & 1998-051 &  94 & Female & ctr\\\\\n",
       "\t 207762960003\\_R04C01 & 2019-126 &  77 & Male   & pd \\\\\n",
       "\t 207762960003\\_R05C02 & PD0954   &  79 & Female & pd \\\\\n",
       "\t 207762960003\\_R06C02 & 2007-032 &  87 & Female & ctr\\\\\n",
       "\t 207762960003\\_R07C02 & 2020-052 & 102 & Female & ctr\\\\\n",
       "\t 207762960003\\_R08C02 & 2007-046 &  89 & Male   & ctr\\\\\n",
       "\t 207762960003\\_R09C01 & 2017-037 &  71 & Male   & pd \\\\\n",
       "\t 207762960003\\_R10C02 & PD0876   &  85 & Male   & pd \\\\\n",
       "\t 207762960003\\_R11C01 & 2019-082 &  89 & Female & pd \\\\\n",
       "\\end{tabular}\n"
      ],
      "text/markdown": [
       "\n",
       "A data.frame: 120 × 5\n",
       "\n",
       "| donor_id &lt;chr&gt; | participant_id &lt;chr&gt; | age &lt;int&gt; | sex &lt;chr&gt; | case_control &lt;chr&gt; |\n",
       "|---|---|---|---|---|\n",
       "| 206954930010_R05C02 | PDC091   | 85 | Male    | ctr |\n",
       "| 206954930010_R09C01 | PDC164   | NA | Unknown | ctr |\n",
       "| 206954930011_R11C02 | PDC165   | NA | Unknown | ctr |\n",
       "| 206954930060_R11C02 | PDC110   | 94 | Female  | ctr |\n",
       "| 206954930093_R05C02 | PDC094   | 47 | Female  | ctr |\n",
       "| 207762950055_R07C02 | PDC094   | 47 | Female  | ctr |\n",
       "| 207762950055_R11C01 | 2019-092 | 82 | Female  | pd  |\n",
       "| 207762950086_R02C01 | UnknownB | NA | Unknown | pd  |\n",
       "| 207762950108_R10C02 | UnknownC | NA | Unknown | pd  |\n",
       "| 207762960003_R12C02 | UnknownA | NA | Unknown | pd  |\n",
       "| 206954930010_R01C01 | PDC090   | 83 | Male    | ctr |\n",
       "| 206954930010_R01C02 | PD0717   | 68 | Female  | pd  |\n",
       "| 206954930010_R02C01 | PDC139   | 90 | Male    | ctr |\n",
       "| 206954930010_R03C01 | PD0730   | 77 | Female  | pd  |\n",
       "| 206954930010_R03C02 | PD0940   | 81 | Female  | pd  |\n",
       "| 206954930010_R04C01 | PDC078   | 91 | Male    | ctr |\n",
       "| 206954930010_R05C01 | PD0870   | 88 | Female  | pd  |\n",
       "| 206954930010_R06C01 | PDC092   | 93 | Female  | ctr |\n",
       "| 206954930010_R07C01 | PD0968   | 81 | Male    | pd  |\n",
       "| 206954930010_R08C01 | PD0793   | 75 | Female  | pd  |\n",
       "| 206954930010_R10C01 | PD0875   | 80 | Male    | pd  |\n",
       "| 206954930010_R11C01 | PD0927   | 78 | Male    | pd  |\n",
       "| 206954930011_R01C02 | PDC131   | 92 | Female  | ctr |\n",
       "| 206954930011_R02C01 | PD0954   | 79 | Female  | pd  |\n",
       "| 206954930011_R02C02 | PD0847   | 82 | Female  | pd  |\n",
       "| 206954930011_R03C01 | PDC123   | 92 | Male    | ctr |\n",
       "| 206954930011_R03C02 | PD0911   | 68 | Male    | pd  |\n",
       "| 206954930011_R04C01 | PD0976   | 78 | Male    | pd  |\n",
       "| 206954930011_R04C02 | PD0980   | 78 | Male    | pd  |\n",
       "| 206954930011_R05C01 | PD0833   | 70 | Female  | pd  |\n",
       "| ⋮ | ⋮ | ⋮ | ⋮ | ⋮ |\n",
       "| 207762950086_R03C02 | 2018-130 |  66 | Male   | pd  |\n",
       "| 207762950086_R04C01 | PD0876   |  85 | Male   | pd  |\n",
       "| 207762950086_R05C02 | PD0878   |  71 | Male   | pd  |\n",
       "| 207762950086_R06C02 | 2008-052 |  62 | Female | ctr |\n",
       "| 207762950086_R07C02 | 2009-016 |  51 | Female | ctr |\n",
       "| 207762950086_R08C02 | 2019-071 |  76 | Female | pd  |\n",
       "| 207762950086_R10C02 | PD0825   |  74 | Male   | pd  |\n",
       "| 207762950086_R11C01 | 2002-086 |  74 | Female | ctr |\n",
       "| 207762950086_R12C02 | 2019-017 |  75 | Male   | pd  |\n",
       "| 207762950108_R01C02 | 2019-017 |  75 | Male   | pd  |\n",
       "| 207762950108_R02C01 | PDC094   |  47 | Female | ctr |\n",
       "| 207762950108_R03C02 | 2019-071 |  76 | Female | pd  |\n",
       "| 207762950108_R04C01 | 2007-020 |  74 | Male   | ctr |\n",
       "| 207762950108_R05C02 | 2014-020 |  92 | Female | ctr |\n",
       "| 207762950108_R06C02 | 2019-092 |  82 | Female | pd  |\n",
       "| 207762950108_R07C02 | PD0905   |  87 | Male   | pd  |\n",
       "| 207762950108_R08C02 | 2019-019 |  87 | Female | pd  |\n",
       "| 207762950108_R09C01 | 1998-016 |  82 | Female | ctr |\n",
       "| 207762950108_R11C01 | 1997-115 |  89 | Female | ctr |\n",
       "| 207762960003_R01C02 | 2017-037 |  71 | Male   | pd  |\n",
       "| 207762960003_R02C01 | PD0905   |  87 | Male   | pd  |\n",
       "| 207762960003_R03C02 | 1998-051 |  94 | Female | ctr |\n",
       "| 207762960003_R04C01 | 2019-126 |  77 | Male   | pd  |\n",
       "| 207762960003_R05C02 | PD0954   |  79 | Female | pd  |\n",
       "| 207762960003_R06C02 | 2007-032 |  87 | Female | ctr |\n",
       "| 207762960003_R07C02 | 2020-052 | 102 | Female | ctr |\n",
       "| 207762960003_R08C02 | 2007-046 |  89 | Male   | ctr |\n",
       "| 207762960003_R09C01 | 2017-037 |  71 | Male   | pd  |\n",
       "| 207762960003_R10C02 | PD0876   |  85 | Male   | pd  |\n",
       "| 207762960003_R11C01 | 2019-082 |  89 | Female | pd  |\n",
       "\n"
      ],
      "text/plain": [
       "    donor_id            participant_id age sex     case_control\n",
       "1   206954930010_R05C02 PDC091         85  Male    ctr         \n",
       "2   206954930010_R09C01 PDC164         NA  Unknown ctr         \n",
       "3   206954930011_R11C02 PDC165         NA  Unknown ctr         \n",
       "4   206954930060_R11C02 PDC110         94  Female  ctr         \n",
       "5   206954930093_R05C02 PDC094         47  Female  ctr         \n",
       "6   207762950055_R07C02 PDC094         47  Female  ctr         \n",
       "7   207762950055_R11C01 2019-092       82  Female  pd          \n",
       "8   207762950086_R02C01 UnknownB       NA  Unknown pd          \n",
       "9   207762950108_R10C02 UnknownC       NA  Unknown pd          \n",
       "10  207762960003_R12C02 UnknownA       NA  Unknown pd          \n",
       "11  206954930010_R01C01 PDC090         83  Male    ctr         \n",
       "12  206954930010_R01C02 PD0717         68  Female  pd          \n",
       "13  206954930010_R02C01 PDC139         90  Male    ctr         \n",
       "14  206954930010_R03C01 PD0730         77  Female  pd          \n",
       "15  206954930010_R03C02 PD0940         81  Female  pd          \n",
       "16  206954930010_R04C01 PDC078         91  Male    ctr         \n",
       "17  206954930010_R05C01 PD0870         88  Female  pd          \n",
       "18  206954930010_R06C01 PDC092         93  Female  ctr         \n",
       "19  206954930010_R07C01 PD0968         81  Male    pd          \n",
       "20  206954930010_R08C01 PD0793         75  Female  pd          \n",
       "21  206954930010_R10C01 PD0875         80  Male    pd          \n",
       "22  206954930010_R11C01 PD0927         78  Male    pd          \n",
       "23  206954930011_R01C02 PDC131         92  Female  ctr         \n",
       "24  206954930011_R02C01 PD0954         79  Female  pd          \n",
       "25  206954930011_R02C02 PD0847         82  Female  pd          \n",
       "26  206954930011_R03C01 PDC123         92  Male    ctr         \n",
       "27  206954930011_R03C02 PD0911         68  Male    pd          \n",
       "28  206954930011_R04C01 PD0976         78  Male    pd          \n",
       "29  206954930011_R04C02 PD0980         78  Male    pd          \n",
       "30  206954930011_R05C01 PD0833         70  Female  pd          \n",
       "⋮   ⋮                   ⋮              ⋮   ⋮       ⋮           \n",
       "91  207762950086_R03C02 2018-130        66 Male    pd          \n",
       "92  207762950086_R04C01 PD0876          85 Male    pd          \n",
       "93  207762950086_R05C02 PD0878          71 Male    pd          \n",
       "94  207762950086_R06C02 2008-052        62 Female  ctr         \n",
       "95  207762950086_R07C02 2009-016        51 Female  ctr         \n",
       "96  207762950086_R08C02 2019-071        76 Female  pd          \n",
       "97  207762950086_R10C02 PD0825          74 Male    pd          \n",
       "98  207762950086_R11C01 2002-086        74 Female  ctr         \n",
       "99  207762950086_R12C02 2019-017        75 Male    pd          \n",
       "100 207762950108_R01C02 2019-017        75 Male    pd          \n",
       "101 207762950108_R02C01 PDC094          47 Female  ctr         \n",
       "102 207762950108_R03C02 2019-071        76 Female  pd          \n",
       "103 207762950108_R04C01 2007-020        74 Male    ctr         \n",
       "104 207762950108_R05C02 2014-020        92 Female  ctr         \n",
       "105 207762950108_R06C02 2019-092        82 Female  pd          \n",
       "106 207762950108_R07C02 PD0905          87 Male    pd          \n",
       "107 207762950108_R08C02 2019-019        87 Female  pd          \n",
       "108 207762950108_R09C01 1998-016        82 Female  ctr         \n",
       "109 207762950108_R11C01 1997-115        89 Female  ctr         \n",
       "110 207762960003_R01C02 2017-037        71 Male    pd          \n",
       "111 207762960003_R02C01 PD0905          87 Male    pd          \n",
       "112 207762960003_R03C02 1998-051        94 Female  ctr         \n",
       "113 207762960003_R04C01 2019-126        77 Male    pd          \n",
       "114 207762960003_R05C02 PD0954          79 Female  pd          \n",
       "115 207762960003_R06C02 2007-032        87 Female  ctr         \n",
       "116 207762960003_R07C02 2020-052       102 Female  ctr         \n",
       "117 207762960003_R08C02 2007-046        89 Male    ctr         \n",
       "118 207762960003_R09C01 2017-037        71 Male    pd          \n",
       "119 207762960003_R10C02 PD0876          85 Male    pd          \n",
       "120 207762960003_R11C01 2019-082        89 Female  pd          "
      ]
     },
     "metadata": {},
     "output_type": "display_data"
    }
   ],
   "source": [
    "manifest"
   ]
  },
  {
   "cell_type": "code",
   "execution_count": 10,
   "metadata": {
    "vscode": {
     "languageId": "r"
    }
   },
   "outputs": [
    {
     "data": {
      "text/html": [
       "<style>\n",
       ".list-inline {list-style: none; margin:0; padding: 0}\n",
       ".list-inline>li {display: inline-block}\n",
       ".list-inline>li:not(:last-child)::after {content: \"\\00b7\"; padding: 0 .5ex}\n",
       "</style>\n",
       "<ol class=list-inline><li>'Control'</li><li>'Parkinson&amp;apos;s disease'</li><li>''</li><li>'Parkinsons'</li><li>'Parkinson&amp;apos;s disease and dementia'</li></ol>\n"
      ],
      "text/latex": [
       "\\begin{enumerate*}\n",
       "\\item 'Control'\n",
       "\\item 'Parkinson\\&apos;s disease'\n",
       "\\item ''\n",
       "\\item 'Parkinsons'\n",
       "\\item 'Parkinson\\&apos;s disease and dementia'\n",
       "\\end{enumerate*}\n"
      ],
      "text/markdown": [
       "1. 'Control'\n",
       "2. 'Parkinson&amp;apos;s disease'\n",
       "3. ''\n",
       "4. 'Parkinsons'\n",
       "5. 'Parkinson&amp;apos;s disease and dementia'\n",
       "\n",
       "\n"
      ],
      "text/plain": [
       "[1] \"Control\"                              \n",
       "[2] \"Parkinson&apos;s disease\"             \n",
       "[3] \"\"                                     \n",
       "[4] \"Parkinsons\"                           \n",
       "[5] \"Parkinson&apos;s disease and dementia\""
      ]
     },
     "metadata": {},
     "output_type": "display_data"
    }
   ],
   "source": [
    "unique(read.table(\"/mnt/accessory/seq_data/calico/Calico_Macosko_PD_GSA_Terra_Manifest.tsv\", sep='\\t',header=T,skip=0)$Disease)"
   ]
  },
  {
   "cell_type": "code",
   "execution_count": null,
   "metadata": {
    "vscode": {
     "languageId": "r"
    }
   },
   "outputs": [],
   "source": []
  }
 ],
 "metadata": {
  "kernelspec": {
   "display_name": "R",
   "language": "R",
   "name": "ir"
  },
  "language_info": {
   "codemirror_mode": "r",
   "file_extension": ".r",
   "mimetype": "text/x-r-source",
   "name": "R",
   "pygments_lexer": "r",
   "version": "4.0.4"
  }
 },
 "nbformat": 4,
 "nbformat_minor": 2
}
