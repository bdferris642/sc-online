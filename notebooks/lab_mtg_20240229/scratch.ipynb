{
 "cells": [
  {
   "cell_type": "code",
   "execution_count": 1,
   "metadata": {
    "vscode": {
     "languageId": "r"
    }
   },
   "outputs": [
    {
     "name": "stderr",
     "output_type": "stream",
     "text": [
      "Loading required package: SummarizedExperiment\n",
      "\n",
      "Loading required package: MatrixGenerics\n",
      "\n",
      "Loading required package: matrixStats\n",
      "\n",
      "\n",
      "Attaching package: ‘MatrixGenerics’\n",
      "\n",
      "\n",
      "The following objects are masked from ‘package:matrixStats’:\n",
      "\n",
      "    colAlls, colAnyNAs, colAnys, colAvgsPerRowSet, colCollapse,\n",
      "    colCounts, colCummaxs, colCummins, colCumprods, colCumsums,\n",
      "    colDiffs, colIQRDiffs, colIQRs, colLogSumExps, colMadDiffs,\n",
      "    colMads, colMaxs, colMeans2, colMedians, colMins, colOrderStats,\n",
      "    colProds, colQuantiles, colRanges, colRanks, colSdDiffs, colSds,\n",
      "    colSums2, colTabulates, colVarDiffs, colVars, colWeightedMads,\n",
      "    colWeightedMeans, colWeightedMedians, colWeightedSds,\n",
      "    colWeightedVars, rowAlls, rowAnyNAs, rowAnys, rowAvgsPerColSet,\n",
      "    rowCollapse, rowCounts, rowCummaxs, rowCummins, rowCumprods,\n",
      "    rowCumsums, rowDiffs, rowIQRDiffs, rowIQRs, rowLogSumExps,\n",
      "    rowMadDiffs, rowMads, rowMaxs, rowMeans2, rowMedians, rowMins,\n",
      "    rowOrderStats, rowProds, rowQuantiles, rowRanges, rowRanks,\n",
      "    rowSdDiffs, rowSds, rowSums2, rowTabulates, rowVarDiffs, rowVars,\n",
      "    rowWeightedMads, rowWeightedMeans, rowWeightedMedians,\n",
      "    rowWeightedSds, rowWeightedVars\n",
      "\n",
      "\n",
      "Loading required package: GenomicRanges\n",
      "\n",
      "Loading required package: stats4\n",
      "\n",
      "Loading required package: BiocGenerics\n",
      "\n",
      "Loading required package: parallel\n",
      "\n",
      "\n",
      "Attaching package: ‘BiocGenerics’\n",
      "\n",
      "\n",
      "The following objects are masked from ‘package:parallel’:\n",
      "\n",
      "    clusterApply, clusterApplyLB, clusterCall, clusterEvalQ,\n",
      "    clusterExport, clusterMap, parApply, parCapply, parLapply,\n",
      "    parLapplyLB, parRapply, parSapply, parSapplyLB\n",
      "\n",
      "\n",
      "The following objects are masked from ‘package:stats’:\n",
      "\n",
      "    IQR, mad, sd, var, xtabs\n",
      "\n",
      "\n",
      "The following objects are masked from ‘package:base’:\n",
      "\n",
      "    anyDuplicated, append, as.data.frame, basename, cbind, colnames,\n",
      "    dirname, do.call, duplicated, eval, evalq, Filter, Find, get, grep,\n",
      "    grepl, intersect, is.unsorted, lapply, Map, mapply, match, mget,\n",
      "    order, paste, pmax, pmax.int, pmin, pmin.int, Position, rank,\n",
      "    rbind, Reduce, rownames, sapply, setdiff, sort, table, tapply,\n",
      "    union, unique, unsplit, which.max, which.min\n",
      "\n",
      "\n",
      "Loading required package: S4Vectors\n",
      "\n",
      "\n",
      "Attaching package: ‘S4Vectors’\n",
      "\n",
      "\n",
      "The following object is masked from ‘package:base’:\n",
      "\n",
      "    expand.grid\n",
      "\n",
      "\n",
      "Loading required package: IRanges\n",
      "\n",
      "Loading required package: GenomeInfoDb\n",
      "\n",
      "Loading required package: Biobase\n",
      "\n",
      "Welcome to Bioconductor\n",
      "\n",
      "    Vignettes contain introductory material; view with\n",
      "    'browseVignettes()'. To cite Bioconductor, see\n",
      "    'citation(\"Biobase\")', and for packages 'citation(\"pkgname\")'.\n",
      "\n",
      "\n",
      "\n",
      "Attaching package: ‘Biobase’\n",
      "\n",
      "\n",
      "The following object is masked from ‘package:MatrixGenerics’:\n",
      "\n",
      "    rowMedians\n",
      "\n",
      "\n",
      "The following objects are masked from ‘package:matrixStats’:\n",
      "\n",
      "    anyMissing, rowMedians\n",
      "\n",
      "\n",
      "Attaching SeuratObject\n",
      "\n",
      "\n",
      "Attaching package: ‘Seurat’\n",
      "\n",
      "\n",
      "The following object is masked from ‘package:SummarizedExperiment’:\n",
      "\n",
      "    Assays\n",
      "\n",
      "\n",
      "Loading required package: ggplot2\n",
      "\n",
      "Loading required package: lattice\n",
      "\n",
      "\n",
      "Attaching package: ‘dplyr’\n",
      "\n",
      "\n",
      "The following object is masked from ‘package:Biobase’:\n",
      "\n",
      "    combine\n",
      "\n",
      "\n",
      "The following objects are masked from ‘package:GenomicRanges’:\n",
      "\n",
      "    intersect, setdiff, union\n",
      "\n",
      "\n",
      "The following object is masked from ‘package:GenomeInfoDb’:\n",
      "\n",
      "    intersect\n",
      "\n",
      "\n",
      "The following objects are masked from ‘package:IRanges’:\n",
      "\n",
      "    collapse, desc, intersect, setdiff, slice, union\n",
      "\n",
      "\n",
      "The following objects are masked from ‘package:S4Vectors’:\n",
      "\n",
      "    first, intersect, rename, setdiff, setequal, union\n",
      "\n",
      "\n",
      "The following objects are masked from ‘package:BiocGenerics’:\n",
      "\n",
      "    combine, intersect, setdiff, union\n",
      "\n",
      "\n",
      "The following object is masked from ‘package:matrixStats’:\n",
      "\n",
      "    count\n",
      "\n",
      "\n",
      "The following objects are masked from ‘package:stats’:\n",
      "\n",
      "    filter, lag\n",
      "\n",
      "\n",
      "The following objects are masked from ‘package:base’:\n",
      "\n",
      "    intersect, setdiff, setequal, union\n",
      "\n",
      "\n",
      "\n",
      "Attaching package: ‘rlang’\n",
      "\n",
      "\n",
      "The following object is masked from ‘package:Biobase’:\n",
      "\n",
      "    exprs\n",
      "\n",
      "\n",
      "\n",
      "Attaching package: ‘tidyr’\n",
      "\n",
      "\n",
      "The following object is masked from ‘package:S4Vectors’:\n",
      "\n",
      "    expand\n",
      "\n",
      "\n",
      "Loading required package: viridisLite\n",
      "\n",
      "qs 0.25.7\n",
      "\n"
     ]
    }
   ],
   "source": [
    "source(\"~/sc-online/getData.R\")\n",
    "source(\"~/sc-online/utils.R\")\n",
    "source(\"~/sc-online/plot.R\")\n",
    "library(qs)"
   ]
  },
  {
   "cell_type": "code",
   "execution_count": 2,
   "metadata": {
    "vscode": {
     "languageId": "r"
    }
   },
   "outputs": [],
   "source": [
    "# load NURR + DAPI\n",
    "# Count Libs, Participants\n",
    "\n",
    "nurr_seurat_clean = qread(\"/mnt/accessory/seq_data/calico/seurat_nurr_merged_initial_harmonized_20240130.qs\")\n",
    "dapi_seurat_clean = readRDS(\"/mnt/accessory/seq_data/calico/seurat_dapi_merged_initial_harmonized_20240119.rds\")"
   ]
  },
  {
   "cell_type": "code",
   "execution_count": 3,
   "metadata": {
    "vscode": {
     "languageId": "r"
    }
   },
   "outputs": [
    {
     "data": {
      "text/html": [
       "<style>\n",
       ".list-inline {list-style: none; margin:0; padding: 0}\n",
       ".list-inline>li {display: inline-block}\n",
       ".list-inline>li:not(:last-child)::after {content: \"\\00b7\"; padding: 0 .5ex}\n",
       "</style>\n",
       "<ol class=list-inline><li>'Age'</li><li>'autocall_call_rate'</li><li>'autocall_gender'</li><li>'autocall_version'</li><li>'call_date'</li><li>'call_rate'</li><li>'called_infinium_snps'</li><li>'chip'</li><li>'chip_well_barcode'</li><li>'collaborator_participant_id'</li><li>'collaborator_sample_id'</li><li>'CORRECT.donor'</li><li>'Disease'</li><li>'entity.sample_id'</li><li>'fp_gender'</li><li>'fp_lod_score'</li><li>'gender_concordance'</li><li>'green_idat'</li><li>'gtc'</li><li>'hap_map_concordance'</li><li>'het_rate'</li><li>'last_cluster_file'</li><li>'participant'</li><li>'pdo'</li><li>'red_idat'</li><li>'release_date'</li><li>'reported_gender'</li><li>'reported_gender.1'</li><li>'research_project_id'</li><li>'scan_date'</li><li>'Sex'</li><li>'stock_sample'</li><li>'vcf'</li><li>'vcf_index'</li><li>'version'</li><li>'zcall_version'</li></ol>\n"
      ],
      "text/latex": [
       "\\begin{enumerate*}\n",
       "\\item 'Age'\n",
       "\\item 'autocall\\_call\\_rate'\n",
       "\\item 'autocall\\_gender'\n",
       "\\item 'autocall\\_version'\n",
       "\\item 'call\\_date'\n",
       "\\item 'call\\_rate'\n",
       "\\item 'called\\_infinium\\_snps'\n",
       "\\item 'chip'\n",
       "\\item 'chip\\_well\\_barcode'\n",
       "\\item 'collaborator\\_participant\\_id'\n",
       "\\item 'collaborator\\_sample\\_id'\n",
       "\\item 'CORRECT.donor'\n",
       "\\item 'Disease'\n",
       "\\item 'entity.sample\\_id'\n",
       "\\item 'fp\\_gender'\n",
       "\\item 'fp\\_lod\\_score'\n",
       "\\item 'gender\\_concordance'\n",
       "\\item 'green\\_idat'\n",
       "\\item 'gtc'\n",
       "\\item 'hap\\_map\\_concordance'\n",
       "\\item 'het\\_rate'\n",
       "\\item 'last\\_cluster\\_file'\n",
       "\\item 'participant'\n",
       "\\item 'pdo'\n",
       "\\item 'red\\_idat'\n",
       "\\item 'release\\_date'\n",
       "\\item 'reported\\_gender'\n",
       "\\item 'reported\\_gender.1'\n",
       "\\item 'research\\_project\\_id'\n",
       "\\item 'scan\\_date'\n",
       "\\item 'Sex'\n",
       "\\item 'stock\\_sample'\n",
       "\\item 'vcf'\n",
       "\\item 'vcf\\_index'\n",
       "\\item 'version'\n",
       "\\item 'zcall\\_version'\n",
       "\\end{enumerate*}\n"
      ],
      "text/markdown": [
       "1. 'Age'\n",
       "2. 'autocall_call_rate'\n",
       "3. 'autocall_gender'\n",
       "4. 'autocall_version'\n",
       "5. 'call_date'\n",
       "6. 'call_rate'\n",
       "7. 'called_infinium_snps'\n",
       "8. 'chip'\n",
       "9. 'chip_well_barcode'\n",
       "10. 'collaborator_participant_id'\n",
       "11. 'collaborator_sample_id'\n",
       "12. 'CORRECT.donor'\n",
       "13. 'Disease'\n",
       "14. 'entity.sample_id'\n",
       "15. 'fp_gender'\n",
       "16. 'fp_lod_score'\n",
       "17. 'gender_concordance'\n",
       "18. 'green_idat'\n",
       "19. 'gtc'\n",
       "20. 'hap_map_concordance'\n",
       "21. 'het_rate'\n",
       "22. 'last_cluster_file'\n",
       "23. 'participant'\n",
       "24. 'pdo'\n",
       "25. 'red_idat'\n",
       "26. 'release_date'\n",
       "27. 'reported_gender'\n",
       "28. 'reported_gender.1'\n",
       "29. 'research_project_id'\n",
       "30. 'scan_date'\n",
       "31. 'Sex'\n",
       "32. 'stock_sample'\n",
       "33. 'vcf'\n",
       "34. 'vcf_index'\n",
       "35. 'version'\n",
       "36. 'zcall_version'\n",
       "\n",
       "\n"
      ],
      "text/plain": [
       " [1] \"Age\"                         \"autocall_call_rate\"         \n",
       " [3] \"autocall_gender\"             \"autocall_version\"           \n",
       " [5] \"call_date\"                   \"call_rate\"                  \n",
       " [7] \"called_infinium_snps\"        \"chip\"                       \n",
       " [9] \"chip_well_barcode\"           \"collaborator_participant_id\"\n",
       "[11] \"collaborator_sample_id\"      \"CORRECT.donor\"              \n",
       "[13] \"Disease\"                     \"entity.sample_id\"           \n",
       "[15] \"fp_gender\"                   \"fp_lod_score\"               \n",
       "[17] \"gender_concordance\"          \"green_idat\"                 \n",
       "[19] \"gtc\"                         \"hap_map_concordance\"        \n",
       "[21] \"het_rate\"                    \"last_cluster_file\"          \n",
       "[23] \"participant\"                 \"pdo\"                        \n",
       "[25] \"red_idat\"                    \"release_date\"               \n",
       "[27] \"reported_gender\"             \"reported_gender.1\"          \n",
       "[29] \"research_project_id\"         \"scan_date\"                  \n",
       "[31] \"Sex\"                         \"stock_sample\"               \n",
       "[33] \"vcf\"                         \"vcf_index\"                  \n",
       "[35] \"version\"                     \"zcall_version\"              "
      ]
     },
     "metadata": {},
     "output_type": "display_data"
    }
   ],
   "source": [
    "# add participant ID\n",
    "manifest = read.table(\"~/Calico_Macosko_PD_GSA_Terra_Manifest_20240220.tsv\", sep='\\t',header=T,skip=0)\n",
    "sort(colnames(manifest))\n",
    "\n",
    "manifest$donor_id = sapply(manifest$entity.sample_id, function(x) gsub(\"_1$\", \"\", x))\n",
    "manifest$sex = manifest$Sex\n",
    "manifest$age = manifest$Age \n",
    "manifest$participant_id = ifelse(\n",
    "    manifest$CORRECT.donor == '', \n",
    "    manifest$collaborator_participant_id,\n",
    "    manifest$CORRECT.donor\n",
    ")\n",
    "manifest$case_control = ifelse(manifest$Disease == 'Control', 'ctr', 'pd')\n",
    "manifest = manifest[, c('donor_id', 'participant_id', 'case_control', 'sex', 'age')]\n",
    "\n",
    "donor_participant_map = setNames(manifest$participant_id, manifest$donor_id)\n",
    "\n",
    "donor_case_control_map = setNames(manifest$case_control, manifest$donor_id)\n",
    "\n",
    "nurr_seurat_clean$case_control = donor_case_control_map[nurr_seurat_clean$donor_id]\n",
    "dapi_seurat_clean$case_control = donor_case_control_map[dapi_seurat_clean$donor_id]\n",
    "\n",
    "nurr_seurat_clean$participant_id = donor_participant_map[nurr_seurat_clean$donor_id]\n",
    "dapi_seurat_clean$participant_id = donor_participant_map[dapi_seurat_clean$donor_id]"
   ]
  },
  {
   "cell_type": "code",
   "execution_count": 4,
   "metadata": {
    "vscode": {
     "languageId": "r"
    }
   },
   "outputs": [
    {
     "data": {
      "text/html": [
       "<style>\n",
       ".dl-inline {width: auto; margin:0; padding: 0}\n",
       ".dl-inline>dt, .dl-inline>dd {float: none; width: auto; display: inline-block}\n",
       ".dl-inline>dt::after {content: \":\\0020\"; padding-right: .5ex}\n",
       ".dl-inline>dt:not(:first-of-type) {padding-left: .5ex}\n",
       "</style><dl class=dl-inline><dt>206954930010_R05C02</dt><dd>'PDC091'</dd><dt>206954930010_R09C01</dt><dd>'PDC164'</dd><dt>206954930011_R11C02</dt><dd>'PDC165'</dd><dt>206954930060_R11C02</dt><dd>'PDC110'</dd><dt>206954930093_R05C02</dt><dd>'PDC078'</dd><dt>207762950055_R07C02</dt><dd>'PDC078'</dd><dt>207762950055_R11C01</dt><dd>'2019-102'</dd><dt>207762950086_R02C01</dt><dd>'PD0878'</dd><dt>207762950108_R10C02</dt><dd>'PD0985'</dd><dt>207762960003_R12C02</dt><dd>'PD0784'</dd><dt>206954930010_R01C01</dt><dd>'PDC090'</dd><dt>206954930010_R01C02</dt><dd>'PD0717'</dd><dt>206954930010_R02C01</dt><dd>'PDC139'</dd><dt>206954930010_R03C01</dt><dd>'PD0730'</dd><dt>206954930010_R03C02</dt><dd>'PD0940'</dd><dt>206954930010_R04C01</dt><dd>'PDC078'</dd><dt>206954930010_R05C01</dt><dd>'PD0870'</dd><dt>206954930010_R06C01</dt><dd>'PDC092'</dd><dt>206954930010_R07C01</dt><dd>'PD0968'</dd><dt>206954930010_R08C01</dt><dd>'PD0793'</dd><dt>206954930010_R10C01</dt><dd>'PD0875'</dd><dt>206954930010_R11C01</dt><dd>'Uncertain'</dd><dt>206954930011_R01C02</dt><dd>'PDC131'</dd><dt>206954930011_R02C01</dt><dd>'PD0954'</dd><dt>206954930011_R02C02</dt><dd>'PD0847'</dd><dt>206954930011_R03C01</dt><dd>'PDC123'</dd><dt>206954930011_R03C02</dt><dd>'PD0911'</dd><dt>206954930011_R04C01</dt><dd>'PD0976'</dd><dt>206954930011_R04C02</dt><dd>'PD0980'</dd><dt>206954930011_R05C01</dt><dd>'PD0833'</dd><dt>206954930011_R05C02</dt><dd>'PD0959'</dd><dt>206954930011_R06C02</dt><dd>'PD0985'</dd><dt>206954930011_R07C01</dt><dd>'PD0944'</dd><dt>206954930011_R07C02</dt><dd>'PD0775'</dd><dt>206954930011_R08C01</dt><dd>'PDC126'</dd><dt>206954930011_R08C02</dt><dd>'PD0918'</dd><dt>206954930011_R09C01</dt><dd>'PD0981'</dd><dt>206954930011_R09C02</dt><dd>'PDC089'</dd><dt>206954930011_R10C01</dt><dd>'PD0825'</dd><dt>206954930011_R10C02</dt><dd>'PD0935'</dd><dt>206954930011_R11C01</dt><dd>'Uncertain '</dd><dt>206954930011_R12C01</dt><dd>'PD0957'</dd><dt>206954930011_R12C02</dt><dd>'PD0897'</dd><dt>206954930060_R02C01</dt><dd>'PD0876'</dd><dt>206954930060_R02C02</dt><dd>'PD0800'</dd><dt>206954930060_R03C01</dt><dd>'PDC105'</dd><dt>206954930060_R03C02</dt><dd>'PD0792'</dd><dt>206954930060_R04C01</dt><dd>'PD0834'</dd><dt>206954930060_R04C02</dt><dd>'PD0905'</dd><dt>206954930060_R05C01</dt><dd>'PD0765'</dd><dt>206954930060_R05C02</dt><dd>'PD0926'</dd><dt>206954930060_R07C01</dt><dd>'PD0903'</dd><dt>206954930060_R07C02</dt><dd>'PD0902'</dd><dt>206954930060_R08C01</dt><dd>'PDC107'</dd><dt>206954930060_R08C02</dt><dd>'PD0801'</dd><dt>206954930060_R10C01</dt><dd>'PD0746'</dd><dt>206954930060_R10C02</dt><dd>'PD0839'</dd><dt>206954930060_R11C01</dt><dd>'PD0784'</dd><dt>206954930060_R12C01</dt><dd>'PD0904'</dd><dt>206954930060_R12C02</dt><dd>'PD0936'</dd><dt>206954930093_R01C02</dt><dd>'PDC093'</dd><dt>206954930093_R02C01</dt><dd>'PD0970'</dd><dt>206954930093_R02C02</dt><dd>'PD0814'</dd><dt>206954930093_R03C01</dt><dd>'PDC111'</dd><dt>206954930093_R03C02</dt><dd>'PD0878'</dd><dt>206954930093_R04C01</dt><dd>'PD0948'</dd><dt>206954930093_R04C02</dt><dd>'PD0938'</dd><dt>206954930093_R05C01</dt><dd>'PD0808'</dd><dt>206954930093_R06C02</dt><dd>'PDC112'</dd><dt>206954930093_R07C01</dt><dd>'PD0906'</dd><dt>206954930093_R07C02</dt><dd>'PD0736'</dd><dt>206954930093_R08C01</dt><dd>'PDC114'</dd><dt>206954930093_R08C02</dt><dd>'PD0899'</dd><dt>206954930093_R09C01</dt><dd>'PDC088'</dd><dt>206954930093_R10C01</dt><dd>'PD0809'</dd><dt>206954930093_R10C02</dt><dd>'PDC128'</dd><dt>206954930093_R11C01</dt><dd>'PD0816'</dd><dt>206954930093_R11C02</dt><dd>'PDC121'</dd><dt>206954930093_R12C01</dt><dd>'PD0916'</dd><dt>207758480019_R01C01</dt><dd>'2019-114'</dd><dt>207762950055_R01C01</dt><dd>'2007-075'</dd><dt>207762950055_R02C01</dt><dd>'PD0903'</dd><dt>207762950055_R03C02</dt><dd>'2019-114'</dd><dt>207762950055_R04C01</dt><dd>'2008-028'</dd><dt>207762950055_R05C02</dt><dd>'PD0809'</dd><dt>207762950055_R06C01</dt><dd>'1995-078'</dd><dt>207762950055_R08C02</dt><dd>'2018-130'</dd><dt>207762950055_R10C02</dt><dd>'PD0899'</dd><dt>207762950055_R12C02</dt><dd>'PDC089'</dd><dt>207762950086_R01C02</dt><dd>'2019-129'</dd><dt>207762950086_R03C02</dt><dd>'2018-130'</dd><dt>207762950086_R04C01</dt><dd>'PD0876'</dd><dt>207762950086_R05C02</dt><dd>'PD0968'</dd><dt>207762950086_R06C02</dt><dd>'2008-052'</dd><dt>207762950086_R07C02</dt><dd>'2009-016'</dd><dt>207762950086_R08C02</dt><dd>'2019-071'</dd><dt>207762950086_R10C02</dt><dd>'PD0825'</dd><dt>207762950086_R11C01</dt><dd>'2002-086'</dd><dt>207762950086_R12C02</dt><dd>'2019-017'</dd><dt>207762950108_R01C02</dt><dd>'2019-017'</dd><dt>207762950108_R02C01</dt><dd>'PDC094'</dd><dt>207762950108_R03C02</dt><dd>'2019-071'</dd><dt>207762950108_R04C01</dt><dd>'2007-020'</dd><dt>207762950108_R05C02</dt><dd>'2014-020'</dd><dt>207762950108_R06C02</dt><dd>'2019-092'</dd><dt>207762950108_R07C02</dt><dd>'PD0905'</dd><dt>207762950108_R08C02</dt><dd>'2019-019'</dd><dt>207762950108_R09C01</dt><dd>'1998-016'</dd><dt>207762950108_R11C01</dt><dd>'1997-115'</dd><dt>207762960003_R01C02</dt><dd>'2017-037'</dd><dt>207762960003_R02C01</dt><dd>'PD0905'</dd><dt>207762960003_R03C02</dt><dd>'1998-051'</dd><dt>207762960003_R04C01</dt><dd>'2019-126'</dd><dt>207762960003_R05C02</dt><dd>'PD0954'</dd><dt>207762960003_R06C02</dt><dd>'2007-032'</dd><dt>207762960003_R07C02</dt><dd>'2020-052'</dd><dt>207762960003_R08C02</dt><dd>'2007-046'</dd><dt>207762960003_R09C01</dt><dd>'2017-037'</dd><dt>207762960003_R10C02</dt><dd>'PD0876'</dd><dt>207762960003_R11C01</dt><dd>'2019-082'</dd></dl>\n"
      ],
      "text/latex": [
       "\\begin{description*}\n",
       "\\item[206954930010\\textbackslash{}\\_R05C02] 'PDC091'\n",
       "\\item[206954930010\\textbackslash{}\\_R09C01] 'PDC164'\n",
       "\\item[206954930011\\textbackslash{}\\_R11C02] 'PDC165'\n",
       "\\item[206954930060\\textbackslash{}\\_R11C02] 'PDC110'\n",
       "\\item[206954930093\\textbackslash{}\\_R05C02] 'PDC078'\n",
       "\\item[207762950055\\textbackslash{}\\_R07C02] 'PDC078'\n",
       "\\item[207762950055\\textbackslash{}\\_R11C01] '2019-102'\n",
       "\\item[207762950086\\textbackslash{}\\_R02C01] 'PD0878'\n",
       "\\item[207762950108\\textbackslash{}\\_R10C02] 'PD0985'\n",
       "\\item[207762960003\\textbackslash{}\\_R12C02] 'PD0784'\n",
       "\\item[206954930010\\textbackslash{}\\_R01C01] 'PDC090'\n",
       "\\item[206954930010\\textbackslash{}\\_R01C02] 'PD0717'\n",
       "\\item[206954930010\\textbackslash{}\\_R02C01] 'PDC139'\n",
       "\\item[206954930010\\textbackslash{}\\_R03C01] 'PD0730'\n",
       "\\item[206954930010\\textbackslash{}\\_R03C02] 'PD0940'\n",
       "\\item[206954930010\\textbackslash{}\\_R04C01] 'PDC078'\n",
       "\\item[206954930010\\textbackslash{}\\_R05C01] 'PD0870'\n",
       "\\item[206954930010\\textbackslash{}\\_R06C01] 'PDC092'\n",
       "\\item[206954930010\\textbackslash{}\\_R07C01] 'PD0968'\n",
       "\\item[206954930010\\textbackslash{}\\_R08C01] 'PD0793'\n",
       "\\item[206954930010\\textbackslash{}\\_R10C01] 'PD0875'\n",
       "\\item[206954930010\\textbackslash{}\\_R11C01] 'Uncertain'\n",
       "\\item[206954930011\\textbackslash{}\\_R01C02] 'PDC131'\n",
       "\\item[206954930011\\textbackslash{}\\_R02C01] 'PD0954'\n",
       "\\item[206954930011\\textbackslash{}\\_R02C02] 'PD0847'\n",
       "\\item[206954930011\\textbackslash{}\\_R03C01] 'PDC123'\n",
       "\\item[206954930011\\textbackslash{}\\_R03C02] 'PD0911'\n",
       "\\item[206954930011\\textbackslash{}\\_R04C01] 'PD0976'\n",
       "\\item[206954930011\\textbackslash{}\\_R04C02] 'PD0980'\n",
       "\\item[206954930011\\textbackslash{}\\_R05C01] 'PD0833'\n",
       "\\item[206954930011\\textbackslash{}\\_R05C02] 'PD0959'\n",
       "\\item[206954930011\\textbackslash{}\\_R06C02] 'PD0985'\n",
       "\\item[206954930011\\textbackslash{}\\_R07C01] 'PD0944'\n",
       "\\item[206954930011\\textbackslash{}\\_R07C02] 'PD0775'\n",
       "\\item[206954930011\\textbackslash{}\\_R08C01] 'PDC126'\n",
       "\\item[206954930011\\textbackslash{}\\_R08C02] 'PD0918'\n",
       "\\item[206954930011\\textbackslash{}\\_R09C01] 'PD0981'\n",
       "\\item[206954930011\\textbackslash{}\\_R09C02] 'PDC089'\n",
       "\\item[206954930011\\textbackslash{}\\_R10C01] 'PD0825'\n",
       "\\item[206954930011\\textbackslash{}\\_R10C02] 'PD0935'\n",
       "\\item[206954930011\\textbackslash{}\\_R11C01] 'Uncertain '\n",
       "\\item[206954930011\\textbackslash{}\\_R12C01] 'PD0957'\n",
       "\\item[206954930011\\textbackslash{}\\_R12C02] 'PD0897'\n",
       "\\item[206954930060\\textbackslash{}\\_R02C01] 'PD0876'\n",
       "\\item[206954930060\\textbackslash{}\\_R02C02] 'PD0800'\n",
       "\\item[206954930060\\textbackslash{}\\_R03C01] 'PDC105'\n",
       "\\item[206954930060\\textbackslash{}\\_R03C02] 'PD0792'\n",
       "\\item[206954930060\\textbackslash{}\\_R04C01] 'PD0834'\n",
       "\\item[206954930060\\textbackslash{}\\_R04C02] 'PD0905'\n",
       "\\item[206954930060\\textbackslash{}\\_R05C01] 'PD0765'\n",
       "\\item[206954930060\\textbackslash{}\\_R05C02] 'PD0926'\n",
       "\\item[206954930060\\textbackslash{}\\_R07C01] 'PD0903'\n",
       "\\item[206954930060\\textbackslash{}\\_R07C02] 'PD0902'\n",
       "\\item[206954930060\\textbackslash{}\\_R08C01] 'PDC107'\n",
       "\\item[206954930060\\textbackslash{}\\_R08C02] 'PD0801'\n",
       "\\item[206954930060\\textbackslash{}\\_R10C01] 'PD0746'\n",
       "\\item[206954930060\\textbackslash{}\\_R10C02] 'PD0839'\n",
       "\\item[206954930060\\textbackslash{}\\_R11C01] 'PD0784'\n",
       "\\item[206954930060\\textbackslash{}\\_R12C01] 'PD0904'\n",
       "\\item[206954930060\\textbackslash{}\\_R12C02] 'PD0936'\n",
       "\\item[206954930093\\textbackslash{}\\_R01C02] 'PDC093'\n",
       "\\item[206954930093\\textbackslash{}\\_R02C01] 'PD0970'\n",
       "\\item[206954930093\\textbackslash{}\\_R02C02] 'PD0814'\n",
       "\\item[206954930093\\textbackslash{}\\_R03C01] 'PDC111'\n",
       "\\item[206954930093\\textbackslash{}\\_R03C02] 'PD0878'\n",
       "\\item[206954930093\\textbackslash{}\\_R04C01] 'PD0948'\n",
       "\\item[206954930093\\textbackslash{}\\_R04C02] 'PD0938'\n",
       "\\item[206954930093\\textbackslash{}\\_R05C01] 'PD0808'\n",
       "\\item[206954930093\\textbackslash{}\\_R06C02] 'PDC112'\n",
       "\\item[206954930093\\textbackslash{}\\_R07C01] 'PD0906'\n",
       "\\item[206954930093\\textbackslash{}\\_R07C02] 'PD0736'\n",
       "\\item[206954930093\\textbackslash{}\\_R08C01] 'PDC114'\n",
       "\\item[206954930093\\textbackslash{}\\_R08C02] 'PD0899'\n",
       "\\item[206954930093\\textbackslash{}\\_R09C01] 'PDC088'\n",
       "\\item[206954930093\\textbackslash{}\\_R10C01] 'PD0809'\n",
       "\\item[206954930093\\textbackslash{}\\_R10C02] 'PDC128'\n",
       "\\item[206954930093\\textbackslash{}\\_R11C01] 'PD0816'\n",
       "\\item[206954930093\\textbackslash{}\\_R11C02] 'PDC121'\n",
       "\\item[206954930093\\textbackslash{}\\_R12C01] 'PD0916'\n",
       "\\item[207758480019\\textbackslash{}\\_R01C01] '2019-114'\n",
       "\\item[207762950055\\textbackslash{}\\_R01C01] '2007-075'\n",
       "\\item[207762950055\\textbackslash{}\\_R02C01] 'PD0903'\n",
       "\\item[207762950055\\textbackslash{}\\_R03C02] '2019-114'\n",
       "\\item[207762950055\\textbackslash{}\\_R04C01] '2008-028'\n",
       "\\item[207762950055\\textbackslash{}\\_R05C02] 'PD0809'\n",
       "\\item[207762950055\\textbackslash{}\\_R06C01] '1995-078'\n",
       "\\item[207762950055\\textbackslash{}\\_R08C02] '2018-130'\n",
       "\\item[207762950055\\textbackslash{}\\_R10C02] 'PD0899'\n",
       "\\item[207762950055\\textbackslash{}\\_R12C02] 'PDC089'\n",
       "\\item[207762950086\\textbackslash{}\\_R01C02] '2019-129'\n",
       "\\item[207762950086\\textbackslash{}\\_R03C02] '2018-130'\n",
       "\\item[207762950086\\textbackslash{}\\_R04C01] 'PD0876'\n",
       "\\item[207762950086\\textbackslash{}\\_R05C02] 'PD0968'\n",
       "\\item[207762950086\\textbackslash{}\\_R06C02] '2008-052'\n",
       "\\item[207762950086\\textbackslash{}\\_R07C02] '2009-016'\n",
       "\\item[207762950086\\textbackslash{}\\_R08C02] '2019-071'\n",
       "\\item[207762950086\\textbackslash{}\\_R10C02] 'PD0825'\n",
       "\\item[207762950086\\textbackslash{}\\_R11C01] '2002-086'\n",
       "\\item[207762950086\\textbackslash{}\\_R12C02] '2019-017'\n",
       "\\item[207762950108\\textbackslash{}\\_R01C02] '2019-017'\n",
       "\\item[207762950108\\textbackslash{}\\_R02C01] 'PDC094'\n",
       "\\item[207762950108\\textbackslash{}\\_R03C02] '2019-071'\n",
       "\\item[207762950108\\textbackslash{}\\_R04C01] '2007-020'\n",
       "\\item[207762950108\\textbackslash{}\\_R05C02] '2014-020'\n",
       "\\item[207762950108\\textbackslash{}\\_R06C02] '2019-092'\n",
       "\\item[207762950108\\textbackslash{}\\_R07C02] 'PD0905'\n",
       "\\item[207762950108\\textbackslash{}\\_R08C02] '2019-019'\n",
       "\\item[207762950108\\textbackslash{}\\_R09C01] '1998-016'\n",
       "\\item[207762950108\\textbackslash{}\\_R11C01] '1997-115'\n",
       "\\item[207762960003\\textbackslash{}\\_R01C02] '2017-037'\n",
       "\\item[207762960003\\textbackslash{}\\_R02C01] 'PD0905'\n",
       "\\item[207762960003\\textbackslash{}\\_R03C02] '1998-051'\n",
       "\\item[207762960003\\textbackslash{}\\_R04C01] '2019-126'\n",
       "\\item[207762960003\\textbackslash{}\\_R05C02] 'PD0954'\n",
       "\\item[207762960003\\textbackslash{}\\_R06C02] '2007-032'\n",
       "\\item[207762960003\\textbackslash{}\\_R07C02] '2020-052'\n",
       "\\item[207762960003\\textbackslash{}\\_R08C02] '2007-046'\n",
       "\\item[207762960003\\textbackslash{}\\_R09C01] '2017-037'\n",
       "\\item[207762960003\\textbackslash{}\\_R10C02] 'PD0876'\n",
       "\\item[207762960003\\textbackslash{}\\_R11C01] '2019-082'\n",
       "\\end{description*}\n"
      ],
      "text/markdown": [
       "206954930010_R05C02\n",
       ":   'PDC091'206954930010_R09C01\n",
       ":   'PDC164'206954930011_R11C02\n",
       ":   'PDC165'206954930060_R11C02\n",
       ":   'PDC110'206954930093_R05C02\n",
       ":   'PDC078'207762950055_R07C02\n",
       ":   'PDC078'207762950055_R11C01\n",
       ":   '2019-102'207762950086_R02C01\n",
       ":   'PD0878'207762950108_R10C02\n",
       ":   'PD0985'207762960003_R12C02\n",
       ":   'PD0784'206954930010_R01C01\n",
       ":   'PDC090'206954930010_R01C02\n",
       ":   'PD0717'206954930010_R02C01\n",
       ":   'PDC139'206954930010_R03C01\n",
       ":   'PD0730'206954930010_R03C02\n",
       ":   'PD0940'206954930010_R04C01\n",
       ":   'PDC078'206954930010_R05C01\n",
       ":   'PD0870'206954930010_R06C01\n",
       ":   'PDC092'206954930010_R07C01\n",
       ":   'PD0968'206954930010_R08C01\n",
       ":   'PD0793'206954930010_R10C01\n",
       ":   'PD0875'206954930010_R11C01\n",
       ":   'Uncertain'206954930011_R01C02\n",
       ":   'PDC131'206954930011_R02C01\n",
       ":   'PD0954'206954930011_R02C02\n",
       ":   'PD0847'206954930011_R03C01\n",
       ":   'PDC123'206954930011_R03C02\n",
       ":   'PD0911'206954930011_R04C01\n",
       ":   'PD0976'206954930011_R04C02\n",
       ":   'PD0980'206954930011_R05C01\n",
       ":   'PD0833'206954930011_R05C02\n",
       ":   'PD0959'206954930011_R06C02\n",
       ":   'PD0985'206954930011_R07C01\n",
       ":   'PD0944'206954930011_R07C02\n",
       ":   'PD0775'206954930011_R08C01\n",
       ":   'PDC126'206954930011_R08C02\n",
       ":   'PD0918'206954930011_R09C01\n",
       ":   'PD0981'206954930011_R09C02\n",
       ":   'PDC089'206954930011_R10C01\n",
       ":   'PD0825'206954930011_R10C02\n",
       ":   'PD0935'206954930011_R11C01\n",
       ":   'Uncertain '206954930011_R12C01\n",
       ":   'PD0957'206954930011_R12C02\n",
       ":   'PD0897'206954930060_R02C01\n",
       ":   'PD0876'206954930060_R02C02\n",
       ":   'PD0800'206954930060_R03C01\n",
       ":   'PDC105'206954930060_R03C02\n",
       ":   'PD0792'206954930060_R04C01\n",
       ":   'PD0834'206954930060_R04C02\n",
       ":   'PD0905'206954930060_R05C01\n",
       ":   'PD0765'206954930060_R05C02\n",
       ":   'PD0926'206954930060_R07C01\n",
       ":   'PD0903'206954930060_R07C02\n",
       ":   'PD0902'206954930060_R08C01\n",
       ":   'PDC107'206954930060_R08C02\n",
       ":   'PD0801'206954930060_R10C01\n",
       ":   'PD0746'206954930060_R10C02\n",
       ":   'PD0839'206954930060_R11C01\n",
       ":   'PD0784'206954930060_R12C01\n",
       ":   'PD0904'206954930060_R12C02\n",
       ":   'PD0936'206954930093_R01C02\n",
       ":   'PDC093'206954930093_R02C01\n",
       ":   'PD0970'206954930093_R02C02\n",
       ":   'PD0814'206954930093_R03C01\n",
       ":   'PDC111'206954930093_R03C02\n",
       ":   'PD0878'206954930093_R04C01\n",
       ":   'PD0948'206954930093_R04C02\n",
       ":   'PD0938'206954930093_R05C01\n",
       ":   'PD0808'206954930093_R06C02\n",
       ":   'PDC112'206954930093_R07C01\n",
       ":   'PD0906'206954930093_R07C02\n",
       ":   'PD0736'206954930093_R08C01\n",
       ":   'PDC114'206954930093_R08C02\n",
       ":   'PD0899'206954930093_R09C01\n",
       ":   'PDC088'206954930093_R10C01\n",
       ":   'PD0809'206954930093_R10C02\n",
       ":   'PDC128'206954930093_R11C01\n",
       ":   'PD0816'206954930093_R11C02\n",
       ":   'PDC121'206954930093_R12C01\n",
       ":   'PD0916'207758480019_R01C01\n",
       ":   '2019-114'207762950055_R01C01\n",
       ":   '2007-075'207762950055_R02C01\n",
       ":   'PD0903'207762950055_R03C02\n",
       ":   '2019-114'207762950055_R04C01\n",
       ":   '2008-028'207762950055_R05C02\n",
       ":   'PD0809'207762950055_R06C01\n",
       ":   '1995-078'207762950055_R08C02\n",
       ":   '2018-130'207762950055_R10C02\n",
       ":   'PD0899'207762950055_R12C02\n",
       ":   'PDC089'207762950086_R01C02\n",
       ":   '2019-129'207762950086_R03C02\n",
       ":   '2018-130'207762950086_R04C01\n",
       ":   'PD0876'207762950086_R05C02\n",
       ":   'PD0968'207762950086_R06C02\n",
       ":   '2008-052'207762950086_R07C02\n",
       ":   '2009-016'207762950086_R08C02\n",
       ":   '2019-071'207762950086_R10C02\n",
       ":   'PD0825'207762950086_R11C01\n",
       ":   '2002-086'207762950086_R12C02\n",
       ":   '2019-017'207762950108_R01C02\n",
       ":   '2019-017'207762950108_R02C01\n",
       ":   'PDC094'207762950108_R03C02\n",
       ":   '2019-071'207762950108_R04C01\n",
       ":   '2007-020'207762950108_R05C02\n",
       ":   '2014-020'207762950108_R06C02\n",
       ":   '2019-092'207762950108_R07C02\n",
       ":   'PD0905'207762950108_R08C02\n",
       ":   '2019-019'207762950108_R09C01\n",
       ":   '1998-016'207762950108_R11C01\n",
       ":   '1997-115'207762960003_R01C02\n",
       ":   '2017-037'207762960003_R02C01\n",
       ":   'PD0905'207762960003_R03C02\n",
       ":   '1998-051'207762960003_R04C01\n",
       ":   '2019-126'207762960003_R05C02\n",
       ":   'PD0954'207762960003_R06C02\n",
       ":   '2007-032'207762960003_R07C02\n",
       ":   '2020-052'207762960003_R08C02\n",
       ":   '2007-046'207762960003_R09C01\n",
       ":   '2017-037'207762960003_R10C02\n",
       ":   'PD0876'207762960003_R11C01\n",
       ":   '2019-082'\n",
       "\n"
      ],
      "text/plain": [
       "206954930010_R05C02 206954930010_R09C01 206954930011_R11C02 206954930060_R11C02 \n",
       "           \"PDC091\"            \"PDC164\"            \"PDC165\"            \"PDC110\" \n",
       "206954930093_R05C02 207762950055_R07C02 207762950055_R11C01 207762950086_R02C01 \n",
       "           \"PDC078\"            \"PDC078\"          \"2019-102\"            \"PD0878\" \n",
       "207762950108_R10C02 207762960003_R12C02 206954930010_R01C01 206954930010_R01C02 \n",
       "           \"PD0985\"            \"PD0784\"            \"PDC090\"            \"PD0717\" \n",
       "206954930010_R02C01 206954930010_R03C01 206954930010_R03C02 206954930010_R04C01 \n",
       "           \"PDC139\"            \"PD0730\"            \"PD0940\"            \"PDC078\" \n",
       "206954930010_R05C01 206954930010_R06C01 206954930010_R07C01 206954930010_R08C01 \n",
       "           \"PD0870\"            \"PDC092\"            \"PD0968\"            \"PD0793\" \n",
       "206954930010_R10C01 206954930010_R11C01 206954930011_R01C02 206954930011_R02C01 \n",
       "           \"PD0875\"         \"Uncertain\"            \"PDC131\"            \"PD0954\" \n",
       "206954930011_R02C02 206954930011_R03C01 206954930011_R03C02 206954930011_R04C01 \n",
       "           \"PD0847\"            \"PDC123\"            \"PD0911\"            \"PD0976\" \n",
       "206954930011_R04C02 206954930011_R05C01 206954930011_R05C02 206954930011_R06C02 \n",
       "           \"PD0980\"            \"PD0833\"            \"PD0959\"            \"PD0985\" \n",
       "206954930011_R07C01 206954930011_R07C02 206954930011_R08C01 206954930011_R08C02 \n",
       "           \"PD0944\"            \"PD0775\"            \"PDC126\"            \"PD0918\" \n",
       "206954930011_R09C01 206954930011_R09C02 206954930011_R10C01 206954930011_R10C02 \n",
       "           \"PD0981\"            \"PDC089\"            \"PD0825\"            \"PD0935\" \n",
       "206954930011_R11C01 206954930011_R12C01 206954930011_R12C02 206954930060_R02C01 \n",
       "       \"Uncertain \"            \"PD0957\"            \"PD0897\"            \"PD0876\" \n",
       "206954930060_R02C02 206954930060_R03C01 206954930060_R03C02 206954930060_R04C01 \n",
       "           \"PD0800\"            \"PDC105\"            \"PD0792\"            \"PD0834\" \n",
       "206954930060_R04C02 206954930060_R05C01 206954930060_R05C02 206954930060_R07C01 \n",
       "           \"PD0905\"            \"PD0765\"            \"PD0926\"            \"PD0903\" \n",
       "206954930060_R07C02 206954930060_R08C01 206954930060_R08C02 206954930060_R10C01 \n",
       "           \"PD0902\"            \"PDC107\"            \"PD0801\"            \"PD0746\" \n",
       "206954930060_R10C02 206954930060_R11C01 206954930060_R12C01 206954930060_R12C02 \n",
       "           \"PD0839\"            \"PD0784\"            \"PD0904\"            \"PD0936\" \n",
       "206954930093_R01C02 206954930093_R02C01 206954930093_R02C02 206954930093_R03C01 \n",
       "           \"PDC093\"            \"PD0970\"            \"PD0814\"            \"PDC111\" \n",
       "206954930093_R03C02 206954930093_R04C01 206954930093_R04C02 206954930093_R05C01 \n",
       "           \"PD0878\"            \"PD0948\"            \"PD0938\"            \"PD0808\" \n",
       "206954930093_R06C02 206954930093_R07C01 206954930093_R07C02 206954930093_R08C01 \n",
       "           \"PDC112\"            \"PD0906\"            \"PD0736\"            \"PDC114\" \n",
       "206954930093_R08C02 206954930093_R09C01 206954930093_R10C01 206954930093_R10C02 \n",
       "           \"PD0899\"            \"PDC088\"            \"PD0809\"            \"PDC128\" \n",
       "206954930093_R11C01 206954930093_R11C02 206954930093_R12C01 207758480019_R01C01 \n",
       "           \"PD0816\"            \"PDC121\"            \"PD0916\"          \"2019-114\" \n",
       "207762950055_R01C01 207762950055_R02C01 207762950055_R03C02 207762950055_R04C01 \n",
       "         \"2007-075\"            \"PD0903\"          \"2019-114\"          \"2008-028\" \n",
       "207762950055_R05C02 207762950055_R06C01 207762950055_R08C02 207762950055_R10C02 \n",
       "           \"PD0809\"          \"1995-078\"          \"2018-130\"            \"PD0899\" \n",
       "207762950055_R12C02 207762950086_R01C02 207762950086_R03C02 207762950086_R04C01 \n",
       "           \"PDC089\"          \"2019-129\"          \"2018-130\"            \"PD0876\" \n",
       "207762950086_R05C02 207762950086_R06C02 207762950086_R07C02 207762950086_R08C02 \n",
       "           \"PD0968\"          \"2008-052\"          \"2009-016\"          \"2019-071\" \n",
       "207762950086_R10C02 207762950086_R11C01 207762950086_R12C02 207762950108_R01C02 \n",
       "           \"PD0825\"          \"2002-086\"          \"2019-017\"          \"2019-017\" \n",
       "207762950108_R02C01 207762950108_R03C02 207762950108_R04C01 207762950108_R05C02 \n",
       "           \"PDC094\"          \"2019-071\"          \"2007-020\"          \"2014-020\" \n",
       "207762950108_R06C02 207762950108_R07C02 207762950108_R08C02 207762950108_R09C01 \n",
       "         \"2019-092\"            \"PD0905\"          \"2019-019\"          \"1998-016\" \n",
       "207762950108_R11C01 207762960003_R01C02 207762960003_R02C01 207762960003_R03C02 \n",
       "         \"1997-115\"          \"2017-037\"            \"PD0905\"          \"1998-051\" \n",
       "207762960003_R04C01 207762960003_R05C02 207762960003_R06C02 207762960003_R07C02 \n",
       "         \"2019-126\"            \"PD0954\"          \"2007-032\"          \"2020-052\" \n",
       "207762960003_R08C02 207762960003_R09C01 207762960003_R10C02 207762960003_R11C01 \n",
       "         \"2007-046\"          \"2017-037\"            \"PD0876\"          \"2019-082\" "
      ]
     },
     "metadata": {},
     "output_type": "display_data"
    }
   ],
   "source": [
    "donor_participant_map"
   ]
  },
  {
   "cell_type": "code",
   "execution_count": 20,
   "metadata": {
    "vscode": {
     "languageId": "r"
    }
   },
   "outputs": [
    {
     "data": {
      "text/html": [
       "51"
      ],
      "text/latex": [
       "51"
      ],
      "text/markdown": [
       "51"
      ],
      "text/plain": [
       "[1] 51"
      ]
     },
     "metadata": {},
     "output_type": "display_data"
    }
   ],
   "source": [
    "\n",
    "length(union(unique(dapi_seurat_clean$participant_id), unique(nurr_seurat_clean$participant_id)))"
   ]
  },
  {
   "cell_type": "code",
   "execution_count": 19,
   "metadata": {
    "vscode": {
     "languageId": "r"
    }
   },
   "outputs": [
    {
     "data": {
      "text/html": [
       "<style>\n",
       ".list-inline {list-style: none; margin:0; padding: 0}\n",
       ".list-inline>li {display: inline-block}\n",
       ".list-inline>li:not(:last-child)::after {content: \"\\00b7\"; padding: 0 .5ex}\n",
       "</style>\n",
       "<ol class=list-inline><li>'PDC139'</li><li>'2008-052'</li><li>'2009-016'</li><li>'PDC165'</li><li>'2002-086'</li><li>'PDC114'</li><li>'PD0793'</li><li>'PD0903'</li><li>'PD0968'</li><li>'Uncertain '</li><li>'PD0940'</li><li>'PDC110'</li><li>'2017-037'</li><li>'2008-028'</li><li>'2019-114'</li><li>'PDC092'</li><li>'2018-130'</li><li>'PD0809'</li><li>'PDC164'</li><li>'PD0847'</li><li>'PDC088'</li><li>'2019-017'</li><li>'PD0957'</li><li>'PD0954'</li><li>'PD0899'</li><li>'PD0730'</li><li>'2019-071'</li><li>'PDC111'</li><li>'PDC093'</li><li>'PD0870'</li><li>'PD0878'</li><li>'PD0935'</li><li>'PD0905'</li><li>'PD0839'</li><li>'PD0897'</li><li>'PD0902'</li><li>'PD0736'</li><li>'PDC078'</li><li>'PD0985'</li><li>'PD0938'</li><li>'PD0825'</li><li>'PD0926'</li><li>'PD0784'</li><li>'PDC089'</li><li>'PDC094'</li><li>'PD0906'</li><li>'PDC091'</li><li>'PDC105'</li></ol>\n"
      ],
      "text/latex": [
       "\\begin{enumerate*}\n",
       "\\item 'PDC139'\n",
       "\\item '2008-052'\n",
       "\\item '2009-016'\n",
       "\\item 'PDC165'\n",
       "\\item '2002-086'\n",
       "\\item 'PDC114'\n",
       "\\item 'PD0793'\n",
       "\\item 'PD0903'\n",
       "\\item 'PD0968'\n",
       "\\item 'Uncertain '\n",
       "\\item 'PD0940'\n",
       "\\item 'PDC110'\n",
       "\\item '2017-037'\n",
       "\\item '2008-028'\n",
       "\\item '2019-114'\n",
       "\\item 'PDC092'\n",
       "\\item '2018-130'\n",
       "\\item 'PD0809'\n",
       "\\item 'PDC164'\n",
       "\\item 'PD0847'\n",
       "\\item 'PDC088'\n",
       "\\item '2019-017'\n",
       "\\item 'PD0957'\n",
       "\\item 'PD0954'\n",
       "\\item 'PD0899'\n",
       "\\item 'PD0730'\n",
       "\\item '2019-071'\n",
       "\\item 'PDC111'\n",
       "\\item 'PDC093'\n",
       "\\item 'PD0870'\n",
       "\\item 'PD0878'\n",
       "\\item 'PD0935'\n",
       "\\item 'PD0905'\n",
       "\\item 'PD0839'\n",
       "\\item 'PD0897'\n",
       "\\item 'PD0902'\n",
       "\\item 'PD0736'\n",
       "\\item 'PDC078'\n",
       "\\item 'PD0985'\n",
       "\\item 'PD0938'\n",
       "\\item 'PD0825'\n",
       "\\item 'PD0926'\n",
       "\\item 'PD0784'\n",
       "\\item 'PDC089'\n",
       "\\item 'PDC094'\n",
       "\\item 'PD0906'\n",
       "\\item 'PDC091'\n",
       "\\item 'PDC105'\n",
       "\\end{enumerate*}\n"
      ],
      "text/markdown": [
       "1. 'PDC139'\n",
       "2. '2008-052'\n",
       "3. '2009-016'\n",
       "4. 'PDC165'\n",
       "5. '2002-086'\n",
       "6. 'PDC114'\n",
       "7. 'PD0793'\n",
       "8. 'PD0903'\n",
       "9. 'PD0968'\n",
       "10. 'Uncertain '\n",
       "11. 'PD0940'\n",
       "12. 'PDC110'\n",
       "13. '2017-037'\n",
       "14. '2008-028'\n",
       "15. '2019-114'\n",
       "16. 'PDC092'\n",
       "17. '2018-130'\n",
       "18. 'PD0809'\n",
       "19. 'PDC164'\n",
       "20. 'PD0847'\n",
       "21. 'PDC088'\n",
       "22. '2019-017'\n",
       "23. 'PD0957'\n",
       "24. 'PD0954'\n",
       "25. 'PD0899'\n",
       "26. 'PD0730'\n",
       "27. '2019-071'\n",
       "28. 'PDC111'\n",
       "29. 'PDC093'\n",
       "30. 'PD0870'\n",
       "31. 'PD0878'\n",
       "32. 'PD0935'\n",
       "33. 'PD0905'\n",
       "34. 'PD0839'\n",
       "35. 'PD0897'\n",
       "36. 'PD0902'\n",
       "37. 'PD0736'\n",
       "38. 'PDC078'\n",
       "39. 'PD0985'\n",
       "40. 'PD0938'\n",
       "41. 'PD0825'\n",
       "42. 'PD0926'\n",
       "43. 'PD0784'\n",
       "44. 'PDC089'\n",
       "45. 'PDC094'\n",
       "46. 'PD0906'\n",
       "47. 'PDC091'\n",
       "48. 'PDC105'\n",
       "\n",
       "\n"
      ],
      "text/plain": [
       " [1] \"PDC139\"     \"2008-052\"   \"2009-016\"   \"PDC165\"     \"2002-086\"  \n",
       " [6] \"PDC114\"     \"PD0793\"     \"PD0903\"     \"PD0968\"     \"Uncertain \"\n",
       "[11] \"PD0940\"     \"PDC110\"     \"2017-037\"   \"2008-028\"   \"2019-114\"  \n",
       "[16] \"PDC092\"     \"2018-130\"   \"PD0809\"     \"PDC164\"     \"PD0847\"    \n",
       "[21] \"PDC088\"     \"2019-017\"   \"PD0957\"     \"PD0954\"     \"PD0899\"    \n",
       "[26] \"PD0730\"     \"2019-071\"   \"PDC111\"     \"PDC093\"     \"PD0870\"    \n",
       "[31] \"PD0878\"     \"PD0935\"     \"PD0905\"     \"PD0839\"     \"PD0897\"    \n",
       "[36] \"PD0902\"     \"PD0736\"     \"PDC078\"     \"PD0985\"     \"PD0938\"    \n",
       "[41] \"PD0825\"     \"PD0926\"     \"PD0784\"     \"PDC089\"     \"PDC094\"    \n",
       "[46] \"PD0906\"     \"PDC091\"     \"PDC105\"    "
      ]
     },
     "metadata": {},
     "output_type": "display_data"
    }
   ],
   "source": [
    "unique(dapi_seurat_clean$participant_id)"
   ]
  },
  {
   "cell_type": "code",
   "execution_count": 22,
   "metadata": {
    "vscode": {
     "languageId": "r"
    }
   },
   "outputs": [],
   "source": [
    "dapi_table = table(dapi_seurat_clean$participant_id, dapi_seurat_clean$case_control)\n",
    "nurr_table = table(nurr_seurat_clean$participant_id, nurr_seurat_clean$case_control)"
   ]
  },
  {
   "cell_type": "code",
   "execution_count": 27,
   "metadata": {
    "vscode": {
     "languageId": "r"
    }
   },
   "outputs": [
    {
     "data": {
      "text/html": [
       "18"
      ],
      "text/latex": [
       "18"
      ],
      "text/markdown": [
       "18"
      ],
      "text/plain": [
       "[1] 18"
      ]
     },
     "metadata": {},
     "output_type": "display_data"
    },
    {
     "data": {
      "text/html": [
       "30"
      ],
      "text/latex": [
       "30"
      ],
      "text/markdown": [
       "30"
      ],
      "text/plain": [
       "[1] 30"
      ]
     },
     "metadata": {},
     "output_type": "display_data"
    },
    {
     "data": {
      "text/html": [
       "18"
      ],
      "text/latex": [
       "18"
      ],
      "text/markdown": [
       "18"
      ],
      "text/plain": [
       "[1] 18"
      ]
     },
     "metadata": {},
     "output_type": "display_data"
    },
    {
     "data": {
      "text/html": [
       "26"
      ],
      "text/latex": [
       "26"
      ],
      "text/markdown": [
       "26"
      ],
      "text/plain": [
       "[1] 26"
      ]
     },
     "metadata": {},
     "output_type": "display_data"
    }
   ],
   "source": [
    "sum(dapi_table[, 'ctr'] > 0)\n",
    "sum(dapi_table[, 'pd'] > 0)\n",
    "sum(nurr_table[, 'ctr'] > 0)\n",
    "sum(nurr_table[, 'pd'] > 0)"
   ]
  },
  {
   "cell_type": "code",
   "execution_count": 28,
   "metadata": {
    "vscode": {
     "languageId": "r"
    }
   },
   "outputs": [
    {
     "data": {
      "text/html": [
       "<style>\n",
       ".list-inline {list-style: none; margin:0; padding: 0}\n",
       ".list-inline>li {display: inline-block}\n",
       ".list-inline>li:not(:last-child)::after {content: \"\\00b7\"; padding: 0 .5ex}\n",
       "</style>\n",
       "<ol class=list-inline><li>31108</li><li>64882</li></ol>\n"
      ],
      "text/latex": [
       "\\begin{enumerate*}\n",
       "\\item 31108\n",
       "\\item 64882\n",
       "\\end{enumerate*}\n"
      ],
      "text/markdown": [
       "1. 31108\n",
       "2. 64882\n",
       "\n",
       "\n"
      ],
      "text/plain": [
       "[1] 31108 64882"
      ]
     },
     "metadata": {},
     "output_type": "display_data"
    },
    {
     "data": {
      "text/html": [
       "<style>\n",
       ".list-inline {list-style: none; margin:0; padding: 0}\n",
       ".list-inline>li {display: inline-block}\n",
       ".list-inline>li:not(:last-child)::after {content: \"\\00b7\"; padding: 0 .5ex}\n",
       "</style>\n",
       "<ol class=list-inline><li>31558</li><li>39262</li></ol>\n"
      ],
      "text/latex": [
       "\\begin{enumerate*}\n",
       "\\item 31558\n",
       "\\item 39262\n",
       "\\end{enumerate*}\n"
      ],
      "text/markdown": [
       "1. 31558\n",
       "2. 39262\n",
       "\n",
       "\n"
      ],
      "text/plain": [
       "[1] 31558 39262"
      ]
     },
     "metadata": {},
     "output_type": "display_data"
    }
   ],
   "source": [
    "dim(dapi_seurat_clean)\n",
    "dim(nurr_seurat_clean)"
   ]
  },
  {
   "cell_type": "code",
   "execution_count": 6,
   "metadata": {
    "vscode": {
     "languageId": "r"
    }
   },
   "outputs": [
    {
     "data": {
      "text/html": [
       "2892.88888888889"
      ],
      "text/latex": [
       "2892.88888888889"
      ],
      "text/markdown": [
       "2892.88888888889"
      ],
      "text/plain": [
       "[1] 2892.889"
      ]
     },
     "metadata": {},
     "output_type": "display_data"
    }
   ],
   "source": [
    "(64882 + 39262) / 36"
   ]
  },
  {
   "cell_type": "code",
   "execution_count": null,
   "metadata": {
    "vscode": {
     "languageId": "r"
    }
   },
   "outputs": [],
   "source": []
  }
 ],
 "metadata": {
  "kernelspec": {
   "display_name": "R",
   "language": "R",
   "name": "ir"
  },
  "language_info": {
   "codemirror_mode": "r",
   "file_extension": ".r",
   "mimetype": "text/x-r-source",
   "name": "R",
   "pygments_lexer": "r",
   "version": "4.0.4"
  }
 },
 "nbformat": 4,
 "nbformat_minor": 2
}
