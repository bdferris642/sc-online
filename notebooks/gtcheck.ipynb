{
 "cells": [
  {
   "cell_type": "code",
   "execution_count": 2,
   "metadata": {
    "vscode": {
     "languageId": "r"
    }
   },
   "outputs": [],
   "source": [
    "library(dplyr)\n",
    "source(\"~/sc-online/utils.R\")\n",
    "\n",
    "getWideMat = function(mat, row_colname, col_colname, data_colname, is_triangular=FALSE){\n",
    "\n",
    "    unique_rows = unique(mat[[row_colname]])\n",
    "    unique_cols = unique(mat[[col_colname]])\n",
    "\n",
    "    # Create an empty matrix\n",
    "    mat_wide <- matrix(nrow = length(unique_rows), ncol = length(unique_cols),\n",
    "                                dimnames = list(unique_rows, unique_cols))\n",
    "\n",
    "    # Loop over each row of the long matrix\n",
    "    for (i in 1:nrow(mat)) {\n",
    "        # Get the current row\n",
    "        row <- mat[i, ]\n",
    "\n",
    "        # Assign the value of V4 to the corresponding cell in the matrix\n",
    "        mat_wide[row[[row_colname]], row[[col_colname]]] <- row[[data_colname]]\n",
    "    }\n",
    "    if(is_triangular){\n",
    "        # THERE WILL BE ONE COL AND ONE ROW MISSING.\n",
    "        # ADD AN ALL NA COLUMN, AND THEN AN ALL NA ROW\n",
    "        missing_colname = setdiff(unique_cols, unique_rows)\n",
    "        missing_rowname = setdiff(unique_rows, unique_cols)\n",
    "\n",
    "        mat_wide = rbind(NA, mat_wide)\n",
    "        rownames(mat_wide)[1] = missing_rowname\n",
    "        mat_wide = cbind(mat_wide, NA)\n",
    "        colnames(mat_wide)[ncol(mat_wide)] = missing_colname\n",
    "\n",
    "        mat_wide[upper.tri(mat_wide)] = mat_wide[lower.tri(mat_wide)]\n",
    "    }\n",
    "    return(mat_wide)\n",
    "\n",
    "}\n",
    "\n",
    "getGroups = function(\n",
    "    discomat, \n",
    "    gt_check_type = \"between\",\n",
    "    key_colname = \"V2\", \n",
    "    value_colname=\"V3\", \n",
    "    data_colname=\"V4\", \n",
    "    disco_cutoff=3e7){\n",
    "\n",
    "    if (gt_check_type == \"between\"){\n",
    "        is_triangular = FALSE\n",
    "    } else {\n",
    "        is_triangular = TRUE\n",
    "    }\n",
    "\n",
    "    discomat_wide = getWideMat(discomat, value_colname, key_colname, data_colname, is_triangular)\n",
    "\n",
    "    groups = list()\n",
    "\n",
    "    if (gt_check_type == \"between\"){\n",
    "        for (colname in colnames(discomat_wide)){\n",
    "            col = discomat_wide[, colname]\n",
    "            if (min(col) < disco_cutoff){\n",
    "                groups[[colname]] = rownames(discomat_wide)[col < disco_cutoff]\n",
    "            }\n",
    "        }\n",
    "    }\n",
    "\n",
    "    \n",
    "    if (gt_check_type == \"within\") {\n",
    "        # Get row and column pairs where the data is less than the cutoff\n",
    "        indices <- which(discomat_wide < disco_cutoff, arr.ind = TRUE)  \n",
    "        row_names <- dimnames(discomat_wide)[[1]][indices[,1]]\n",
    "        col_names <- dimnames(discomat_wide)[[2]][indices[,2]]\n",
    "\n",
    "        # Combine row and column names into a data frame\n",
    "        name_pairs <- data.frame(row = row_names, column = col_names)\n",
    "\n",
    "        groups = list()\n",
    "        for (i in 1:nrow(name_pairs)) {\n",
    "            rowval = name_pairs[i,1]\n",
    "            colval = name_pairs[i,2]\n",
    "\n",
    "            # if groups is empty, just add the first pair\n",
    "            if (length(groups) == 0) {\n",
    "                groups[[1]] = c(rowval, colval)\n",
    "                next\n",
    "            }\n",
    "\n",
    "            # Check if any sublist in 'groups' contains both 'rowval' and 'colval'\n",
    "            if (any(sapply(groups, function(x) {rowval %in% x & colval %in% x}))) {\n",
    "                #print(paste(\"both in:\", rowval, colval))\n",
    "                next\n",
    "            }\n",
    "            \n",
    "            # Check if any sublist in 'groups' contains 'rowval' or 'colval'\n",
    "            rowval_index = which(sapply(groups, function(x) {rowval %in% x}))\n",
    "            colval_index = which(sapply(groups, function(x) {colval %in% x}))\n",
    "\n",
    "            if (length(rowval_index) == 1 & length(colval_index) == 0) {\n",
    "                #print(paste(\"rowval in, colval not:\", rowval, colval)) \n",
    "                groups[[rowval_index]] = c(groups[[rowval_index]], colval)\n",
    "                next\n",
    "            }\n",
    "            \n",
    "            if (length(colval_index) == 1 & length(rowval_index) == 0){\n",
    "                #print(paste(\"colval in, rowval not:\", rowval, colval))\n",
    "                groups[[colval_index]] = c(groups[[colval_index]], rowval)\n",
    "                next\n",
    "            }\n",
    "            \n",
    "            # If neither have an index, create a new group\n",
    "            if (length(rowval_index) == 0 & length(colval_index) == 0) {\n",
    "                #print(paste(\"neither in:\", rowval, colval))\n",
    "                groups[[length(groups) + 1]] = c(rowval, colval)\n",
    "            }\n",
    "        }    \n",
    "    }\n",
    "    \n",
    "    #sort groups by the length of their objects\n",
    "    groups = groups[order(sapply(groups, length), decreasing = T)]\n",
    "\n",
    "    # for every group, join elements together with the '|' delimeter \n",
    "    groups = lapply(groups, function(x) paste(sort(x), collapse = \"|\"))\n",
    "\n",
    "    # return the groups\n",
    "    return(groups)\n",
    "\n",
    "}"
   ]
  },
  {
   "cell_type": "code",
   "execution_count": 3,
   "metadata": {
    "vscode": {
     "languageId": "r"
    }
   },
   "outputs": [
    {
     "data": {
      "text/html": [
       "<style>\n",
       ".list-inline {list-style: none; margin:0; padding: 0}\n",
       ".list-inline>li {display: inline-block}\n",
       ".list-inline>li:not(:last-child)::after {content: \"\\00b7\"; padding: 0 .5ex}\n",
       "</style>\n",
       "<ol class=list-inline><li>9120</li><li>6</li></ol>\n"
      ],
      "text/latex": [
       "\\begin{enumerate*}\n",
       "\\item 9120\n",
       "\\item 6\n",
       "\\end{enumerate*}\n"
      ],
      "text/markdown": [
       "1. 9120\n",
       "2. 6\n",
       "\n",
       "\n"
      ],
      "text/plain": [
       "[1] 9120    6"
      ]
     },
     "metadata": {},
     "output_type": "display_data"
    },
    {
     "data": {
      "image/png": "[encoded data removed]",
      "text/plain": [
       "Plot with title “Histogram of fingerprinting$V4”"
      ]
     },
     "metadata": {
      "image/png": {
       "height": 420,
       "width": 420
      }
     },
     "output_type": "display_data"
    }
   ],
   "source": [
    "fingerprinting = read.table(\"/mnt/accessory/seq_data/calico/all_libs/calico_fingerprinting\", header = F, sep = \"\\t\", skip=17)\n",
    "hist(fingerprinting$V4)\n",
    "dim(fingerprinting)"
   ]
  },
  {
   "cell_type": "code",
   "execution_count": 4,
   "metadata": {
    "vscode": {
     "languageId": "r"
    }
   },
   "outputs": [
    {
     "data": {
      "text/html": [
       "76"
      ],
      "text/latex": [
       "76"
      ],
      "text/markdown": [
       "76"
      ],
      "text/plain": [
       "[1] 76"
      ]
     },
     "metadata": {},
     "output_type": "display_data"
    },
    {
     "data": {
      "text/html": [
       "120"
      ],
      "text/latex": [
       "120"
      ],
      "text/markdown": [
       "120"
      ],
      "text/plain": [
       "[1] 120"
      ]
     },
     "metadata": {},
     "output_type": "display_data"
    },
    {
     "data": {
      "text/html": [
       "90"
      ],
      "text/latex": [
       "90"
      ],
      "text/markdown": [
       "90"
      ],
      "text/plain": [
       "[1] 90"
      ]
     },
     "metadata": {},
     "output_type": "display_data"
    }
   ],
   "source": [
    "fgs = getGroups(fingerprinting, key_colname=\"V2\", value_colname=\"V3\", gt_check_type=\"between\", disco_cutoff=200)\n",
    "length(unique(fingerprinting$V3))\n",
    "length(unique(fingerprinting$V2))\n",
    "length(fgs)\n",
    "\n",
    "# gt_groups = getGroups(internal_gt, key_colname=\"V3\", value_colname=\"V2\", gt_check_type=\"within\", disco_cutoff=1e6)\n",
    "# length(unique(internal_gt$V3))\n",
    "# length(unique(internal_gt$V2))\n",
    "# length(gt_groups)\n"
   ]
  },
  {
   "cell_type": "code",
   "execution_count": null,
   "metadata": {
    "vscode": {
     "languageId": "r"
    }
   },
   "outputs": [],
   "source": [
    "deduped_samples = readLines(\"/mnt/accessory/seq_data/calico/all_libs/calico_post_impute.bf7.deduped_samples.txt\")\n",
    "all_samples = readLines(\"/mnt/accessory/seq_data/calico/all_libs/all-chipwells.txt\")\n",
    "internal_gt = read.table(\"/mnt/accessory/seq_data/calico/all_libs/calico_post_impute.bf7.gtcheck\", header = F, sep = \"\\t\", skip=17)\n",
    "internal_gt = internal_gt[!duplicated(internal_gt),]\n",
    "internal_gt = internal_gt[order(internal_gt$V2, internal_gt$V3),]\n",
    "hist(internal_gt$V4)"
   ]
  },
  {
   "cell_type": "code",
   "execution_count": 47,
   "metadata": {
    "vscode": {
     "languageId": "r"
    }
   },
   "outputs": [
    {
     "data": {
      "text/html": [
       "<style>\n",
       ".list-inline {list-style: none; margin:0; padding: 0}\n",
       ".list-inline>li {display: inline-block}\n",
       ".list-inline>li:not(:last-child)::after {content: \"\\00b7\"; padding: 0 .5ex}\n",
       "</style>\n",
       "<ol class=list-inline><li>25</li><li>6</li></ol>\n"
      ],
      "text/latex": [
       "\\begin{enumerate*}\n",
       "\\item 25\n",
       "\\item 6\n",
       "\\end{enumerate*}\n"
      ],
      "text/markdown": [
       "1. 25\n",
       "2. 6\n",
       "\n",
       "\n"
      ],
      "text/plain": [
       "[1] 25  6"
      ]
     },
     "metadata": {},
     "output_type": "display_data"
    }
   ],
   "source": [
    "\n",
    "prelim_groups = internal_gt[internal_gt$V4 < 1e7,]\n",
    "dim(prelim_groups)\n",
    "\n",
    "groups = list()\n",
    "for (i in 1:nrow(prelim_groups)){\n",
    "    v2 = prelim_groups[i, \"V2\"]\n",
    "    v3 = prelim_groups[i, \"V3\"]\n",
    "\n",
    "    if (length(groups) == 0) {\n",
    "        groups[[1]] = c(v2, v3)\n",
    "        next\n",
    "    }\n",
    "    \n",
    "    v2_index = which(sapply(groups, function(x) {v2 %in% x}))\n",
    "    v3_index = which(sapply(groups, function(x) {v3 %in% x})) \n",
    "\n",
    "    if (length(v2_index) == 1 & length(v3_index) == 1) {\n",
    "        next\n",
    "    }\n",
    "    if (length(v2_index) == 1 & length(v3_index) == 0) {\n",
    "        groups[[v2_index]] = c(groups[[v2_index]], v3)\n",
    "        next\n",
    "    }\n",
    "    if (length(v3_index) == 1 & length(v2_index) == 0){\n",
    "        groups[[v3_index]] = c(groups[[v3_index]], v2)\n",
    "        next\n",
    "    }\n",
    "    if (length(v2_index) == 0 & length(v3_index) == 0) {\n",
    "        groups[[length(groups) + 1]] = c(v2, v3)\n",
    "    }\n",
    "}\n",
    "#sort groups by the length of their objects\n",
    "groups_list = groups[order(sapply(groups, length), decreasing = T)]\n",
    "\n",
    "# for every group, join elements together with the ',' delimeter \n",
    "groups = lapply(groups_list, function(x) paste(sort(x), collapse = \",\"))\n",
    "\n",
    "# flatten the list of lists\n",
    "groups_flat = unlist(groups_list, recursive=F)\n",
    "first_groups = sapply(groups_list, function(x) x[1])\n",
    "singletons = setdiff(deduped_samples, groups_flat)\n",
    "\n",
    "new_deduped_samples = c(first_groups, singletons)\n",
    "\n",
    "writeLines(new_deduped_samples, \"/mnt/accessory/seq_data/calico/all_libs/calico_post_impute.bf7.new_deduped_samples.txt\")\n"
   ]
  },
  {
   "cell_type": "code",
   "execution_count": 48,
   "metadata": {
    "vscode": {
     "languageId": "r"
    }
   },
   "outputs": [
    {
     "data": {
      "text/html": [
       "<style>\n",
       ".list-inline {list-style: none; margin:0; padding: 0}\n",
       ".list-inline>li {display: inline-block}\n",
       ".list-inline>li:not(:last-child)::after {content: \"\\00b7\"; padding: 0 .5ex}\n",
       "</style>\n",
       "<ol class=list-inline><li>'206954930093_R05C02_1'</li><li>'207762950086_R04C01_1'</li><li>'207762950108_R07C02_1'</li><li>'206954930011_R11C01_1'</li><li>'207762950055_R02C01_1'</li><li>'207762950055_R03C02_1'</li><li>'207762950055_R05C02_1'</li><li>'207762950055_R10C02_1'</li><li>'207762950055_R12C02_1'</li><li>'207762950086_R02C01_1'</li><li>'207762950086_R03C02_1'</li><li>'207762950086_R05C02_1'</li><li>'207762950086_R10C02_1'</li><li>'207762950108_R01C02_1'</li><li>'207762950108_R03C02_1'</li><li>'207762950108_R10C02_1'</li><li>'207762960003_R05C02_1'</li><li>'207762960003_R09C01_1'</li><li>'207762960003_R12C02_1'</li></ol>\n"
      ],
      "text/latex": [
       "\\begin{enumerate*}\n",
       "\\item '206954930093\\_R05C02\\_1'\n",
       "\\item '207762950086\\_R04C01\\_1'\n",
       "\\item '207762950108\\_R07C02\\_1'\n",
       "\\item '206954930011\\_R11C01\\_1'\n",
       "\\item '207762950055\\_R02C01\\_1'\n",
       "\\item '207762950055\\_R03C02\\_1'\n",
       "\\item '207762950055\\_R05C02\\_1'\n",
       "\\item '207762950055\\_R10C02\\_1'\n",
       "\\item '207762950055\\_R12C02\\_1'\n",
       "\\item '207762950086\\_R02C01\\_1'\n",
       "\\item '207762950086\\_R03C02\\_1'\n",
       "\\item '207762950086\\_R05C02\\_1'\n",
       "\\item '207762950086\\_R10C02\\_1'\n",
       "\\item '207762950108\\_R01C02\\_1'\n",
       "\\item '207762950108\\_R03C02\\_1'\n",
       "\\item '207762950108\\_R10C02\\_1'\n",
       "\\item '207762960003\\_R05C02\\_1'\n",
       "\\item '207762960003\\_R09C01\\_1'\n",
       "\\item '207762960003\\_R12C02\\_1'\n",
       "\\end{enumerate*}\n"
      ],
      "text/markdown": [
       "1. '206954930093_R05C02_1'\n",
       "2. '207762950086_R04C01_1'\n",
       "3. '207762950108_R07C02_1'\n",
       "4. '206954930011_R11C01_1'\n",
       "5. '207762950055_R02C01_1'\n",
       "6. '207762950055_R03C02_1'\n",
       "7. '207762950055_R05C02_1'\n",
       "8. '207762950055_R10C02_1'\n",
       "9. '207762950055_R12C02_1'\n",
       "10. '207762950086_R02C01_1'\n",
       "11. '207762950086_R03C02_1'\n",
       "12. '207762950086_R05C02_1'\n",
       "13. '207762950086_R10C02_1'\n",
       "14. '207762950108_R01C02_1'\n",
       "15. '207762950108_R03C02_1'\n",
       "16. '207762950108_R10C02_1'\n",
       "17. '207762960003_R05C02_1'\n",
       "18. '207762960003_R09C01_1'\n",
       "19. '207762960003_R12C02_1'\n",
       "\n",
       "\n"
      ],
      "text/plain": [
       " [1] \"206954930093_R05C02_1\" \"207762950086_R04C01_1\" \"207762950108_R07C02_1\"\n",
       " [4] \"206954930011_R11C01_1\" \"207762950055_R02C01_1\" \"207762950055_R03C02_1\"\n",
       " [7] \"207762950055_R05C02_1\" \"207762950055_R10C02_1\" \"207762950055_R12C02_1\"\n",
       "[10] \"207762950086_R02C01_1\" \"207762950086_R03C02_1\" \"207762950086_R05C02_1\"\n",
       "[13] \"207762950086_R10C02_1\" \"207762950108_R01C02_1\" \"207762950108_R03C02_1\"\n",
       "[16] \"207762950108_R10C02_1\" \"207762960003_R05C02_1\" \"207762960003_R09C01_1\"\n",
       "[19] \"207762960003_R12C02_1\""
      ]
     },
     "metadata": {},
     "output_type": "display_data"
    }
   ],
   "source": [
    "first_groups"
   ]
  },
  {
   "cell_type": "code",
   "execution_count": 39,
   "metadata": {
    "vscode": {
     "languageId": "r"
    }
   },
   "outputs": [
    {
     "data": {
      "text/html": [
       "<style>\n",
       ".list-inline {list-style: none; margin:0; padding: 0}\n",
       ".list-inline>li {display: inline-block}\n",
       ".list-inline>li:not(:last-child)::after {content: \"\\00b7\"; padding: 0 .5ex}\n",
       "</style>\n",
       "<ol class=list-inline><li>'206954930011_R11C01_1'</li><li>'206954930093_R05C02_1'</li><li>'207762950086_R02C01_1'</li><li>'207762950086_R04C01_1'</li><li>'207762950108_R07C02_1'</li><li>'207762950108_R10C02_1'</li><li>'207762960003_R12C02_1'</li></ol>\n"
      ],
      "text/latex": [
       "\\begin{enumerate*}\n",
       "\\item '206954930011\\_R11C01\\_1'\n",
       "\\item '206954930093\\_R05C02\\_1'\n",
       "\\item '207762950086\\_R02C01\\_1'\n",
       "\\item '207762950086\\_R04C01\\_1'\n",
       "\\item '207762950108\\_R07C02\\_1'\n",
       "\\item '207762950108\\_R10C02\\_1'\n",
       "\\item '207762960003\\_R12C02\\_1'\n",
       "\\end{enumerate*}\n"
      ],
      "text/markdown": [
       "1. '206954930011_R11C01_1'\n",
       "2. '206954930093_R05C02_1'\n",
       "3. '207762950086_R02C01_1'\n",
       "4. '207762950086_R04C01_1'\n",
       "5. '207762950108_R07C02_1'\n",
       "6. '207762950108_R10C02_1'\n",
       "7. '207762960003_R12C02_1'\n",
       "\n",
       "\n"
      ],
      "text/plain": [
       "[1] \"206954930011_R11C01_1\" \"206954930093_R05C02_1\" \"207762950086_R02C01_1\"\n",
       "[4] \"207762950086_R04C01_1\" \"207762950108_R07C02_1\" \"207762950108_R10C02_1\"\n",
       "[7] \"207762960003_R12C02_1\""
      ]
     },
     "metadata": {},
     "output_type": "display_data"
    },
    {
     "data": {
      "text/html": [
       "<style>\n",
       ".list-inline {list-style: none; margin:0; padding: 0}\n",
       ".list-inline>li {display: inline-block}\n",
       ".list-inline>li:not(:last-child)::after {content: \"\\00b7\"; padding: 0 .5ex}\n",
       "</style>\n",
       "<ol class=list-inline><li>'206954930010_R04C01_1'</li><li>'206954930010_R07C01_1'</li><li>'206954930010_R11C01_1'</li><li>'206954930011_R06C02_1'</li><li>'206954930060_R11C01_1'</li><li>'207762960003_R02C01_1'</li><li>'207762960003_R10C02_1'</li></ol>\n"
      ],
      "text/latex": [
       "\\begin{enumerate*}\n",
       "\\item '206954930010\\_R04C01\\_1'\n",
       "\\item '206954930010\\_R07C01\\_1'\n",
       "\\item '206954930010\\_R11C01\\_1'\n",
       "\\item '206954930011\\_R06C02\\_1'\n",
       "\\item '206954930060\\_R11C01\\_1'\n",
       "\\item '207762960003\\_R02C01\\_1'\n",
       "\\item '207762960003\\_R10C02\\_1'\n",
       "\\end{enumerate*}\n"
      ],
      "text/markdown": [
       "1. '206954930010_R04C01_1'\n",
       "2. '206954930010_R07C01_1'\n",
       "3. '206954930010_R11C01_1'\n",
       "4. '206954930011_R06C02_1'\n",
       "5. '206954930060_R11C01_1'\n",
       "6. '207762960003_R02C01_1'\n",
       "7. '207762960003_R10C02_1'\n",
       "\n",
       "\n"
      ],
      "text/plain": [
       "[1] \"206954930010_R04C01_1\" \"206954930010_R07C01_1\" \"206954930010_R11C01_1\"\n",
       "[4] \"206954930011_R06C02_1\" \"206954930060_R11C01_1\" \"207762960003_R02C01_1\"\n",
       "[7] \"207762960003_R10C02_1\""
      ]
     },
     "metadata": {},
     "output_type": "display_data"
    }
   ],
   "source": [
    "sort(setdiff(new_deduped_samples, deduped_samples))\n",
    "sort(setdiff(deduped_samples, new_deduped_samples))"
   ]
  },
  {
   "cell_type": "code",
   "execution_count": 50,
   "metadata": {
    "vscode": {
     "languageId": "r"
    }
   },
   "outputs": [
    {
     "name": "stdout",
     "output_type": "stream",
     "text": [
      " [1] \"206954930093_R04C02_1\" \"206954930011_R10C02_1\" \"206954930011_R12C02_1\"\n",
      " [4] \"206954930060_R07C02_1\" \"206954930060_R10C02_1\" \"206954930093_R07C02_1\"\n",
      " [7] \"206954930010_R09C01_1\" \"206954930011_R11C02_1\" \"206954930010_R03C02_1\"\n",
      "[10] \"206954930010_R05C01_1\" \"206954930010_R08C01_1\" \"206954930010_R10C01_1\"\n",
      "[13] \"206954930011_R04C01_1\" \"206954930011_R04C02_1\" \"206954930011_R05C01_1\"\n",
      "[16] \"206954930011_R08C02_1\" \"206954930060_R02C02_1\" \"206954930060_R04C01_1\"\n",
      "[19] \"206954930060_R10C01_1\" \"206954930060_R12C01_1\" \"206954930093_R02C01_1\"\n",
      "[22] \"206954930093_R06C02_1\" \"206954930093_R07C01_1\" \"206954930093_R08C01_1\"\n",
      "[25] \"207762950086_R06C02_1\" \"207762950086_R07C02_1\" \"207762950086_R11C01_1\"\n",
      "[28] \"207762950108_R04C01_1\" \"206954930010_R05C02_1\" \"206954930060_R11C02_1\"\n",
      "[31] \"207762950055_R11C01_1\" \"206954930010_R01C01_1\" \"206954930010_R01C02_1\"\n",
      "[34] \"206954930010_R02C01_1\" \"206954930010_R03C01_1\" \"206954930010_R06C01_1\"\n",
      "[37] \"206954930011_R01C02_1\" \"206954930011_R02C02_1\" \"206954930011_R03C01_1\"\n",
      "[40] \"206954930011_R03C02_1\" \"206954930011_R05C02_1\" \"206954930011_R07C01_1\"\n",
      "[43] \"206954930011_R07C02_1\" \"206954930011_R08C01_1\" \"206954930011_R09C01_1\"\n",
      "[46] \"206954930011_R12C01_1\" \"206954930060_R03C01_1\" \"206954930060_R03C02_1\"\n",
      "[49] \"206954930060_R05C01_1\" \"206954930060_R05C02_1\" \"206954930060_R08C01_1\"\n",
      "[52] \"206954930060_R08C02_1\" \"206954930060_R12C02_1\" \"206954930093_R01C02_1\"\n",
      "[55] \"206954930093_R02C02_1\" \"206954930093_R03C01_1\" \"206954930093_R04C01_1\"\n",
      "[58] \"206954930093_R05C01_1\" \"206954930093_R09C01_1\" \"206954930093_R10C02_1\"\n",
      "[61] \"206954930093_R11C01_1\" \"206954930093_R11C02_1\" \"206954930093_R12C01_1\"\n",
      "[64] \"207762950055_R01C01_1\" \"207762950055_R04C01_1\" \"207762950055_R06C01_1\"\n",
      "[67] \"207762950086_R01C02_1\" \"207762950108_R02C01_1\" \"207762950108_R05C02_1\"\n",
      "[70] \"207762950108_R06C02_1\" \"207762950108_R08C02_1\" \"207762950108_R09C01_1\"\n",
      "[73] \"207762950108_R11C01_1\" \"207762960003_R03C02_1\" \"207762960003_R04C01_1\"\n",
      "[76] \"207762960003_R06C02_1\" \"207762960003_R07C02_1\" \"207762960003_R08C02_1\"\n",
      "[79] \"207762960003_R11C01_1\"\n"
     ]
    }
   ],
   "source": [
    "print(singletons)"
   ]
  },
  {
   "cell_type": "code",
   "execution_count": 46,
   "metadata": {
    "vscode": {
     "languageId": "r"
    }
   },
   "outputs": [
    {
     "data": {
      "text/html": [
       "<ol>\n",
       "\t<li>1</li>\n",
       "\t<li>1</li>\n",
       "\t<li>1</li>\n",
       "\t<li>1</li>\n",
       "\t<li>1</li>\n",
       "\t<li>1</li>\n",
       "\t<li>1</li>\n",
       "\t<li>1</li>\n",
       "\t<li>1</li>\n",
       "\t<li>0</li>\n",
       "\t<li>1</li>\n",
       "\t<li>2</li>\n",
       "\t<li>1</li>\n",
       "\t<li>1</li>\n",
       "\t<li>1</li>\n",
       "\t<li>1</li>\n",
       "\t<li>1</li>\n",
       "\t<li>1</li>\n",
       "\t<li>1</li>\n",
       "</ol>\n"
      ],
      "text/latex": [
       "\\begin{enumerate}\n",
       "\\item 1\n",
       "\\item 1\n",
       "\\item 1\n",
       "\\item 1\n",
       "\\item 1\n",
       "\\item 1\n",
       "\\item 1\n",
       "\\item 1\n",
       "\\item 1\n",
       "\\item 0\n",
       "\\item 1\n",
       "\\item 2\n",
       "\\item 1\n",
       "\\item 1\n",
       "\\item 1\n",
       "\\item 1\n",
       "\\item 1\n",
       "\\item 1\n",
       "\\item 1\n",
       "\\end{enumerate}\n"
      ],
      "text/markdown": [
       "1. 1\n",
       "2. 1\n",
       "3. 1\n",
       "4. 1\n",
       "5. 1\n",
       "6. 1\n",
       "7. 1\n",
       "8. 1\n",
       "9. 1\n",
       "10. 0\n",
       "11. 1\n",
       "12. 2\n",
       "13. 1\n",
       "14. 1\n",
       "15. 1\n",
       "16. 1\n",
       "17. 1\n",
       "18. 1\n",
       "19. 1\n",
       "\n",
       "\n"
      ],
      "text/plain": [
       "[[1]]\n",
       "[1] 1\n",
       "\n",
       "[[2]]\n",
       "[1] 1\n",
       "\n",
       "[[3]]\n",
       "[1] 1\n",
       "\n",
       "[[4]]\n",
       "[1] 1\n",
       "\n",
       "[[5]]\n",
       "[1] 1\n",
       "\n",
       "[[6]]\n",
       "[1] 1\n",
       "\n",
       "[[7]]\n",
       "[1] 1\n",
       "\n",
       "[[8]]\n",
       "[1] 1\n",
       "\n",
       "[[9]]\n",
       "[1] 1\n",
       "\n",
       "[[10]]\n",
       "[1] 0\n",
       "\n",
       "[[11]]\n",
       "[1] 1\n",
       "\n",
       "[[12]]\n",
       "[1] 2\n",
       "\n",
       "[[13]]\n",
       "[1] 1\n",
       "\n",
       "[[14]]\n",
       "[1] 1\n",
       "\n",
       "[[15]]\n",
       "[1] 1\n",
       "\n",
       "[[16]]\n",
       "[1] 1\n",
       "\n",
       "[[17]]\n",
       "[1] 1\n",
       "\n",
       "[[18]]\n",
       "[1] 1\n",
       "\n",
       "[[19]]\n",
       "[1] 1\n"
      ]
     },
     "metadata": {},
     "output_type": "display_data"
    }
   ],
   "source": [
    "sums = list()\n",
    "for (i in 1:length(groups_list)){\n",
    "    group = groups_list[[i]]\n",
    "    sums[[i]] = sum(group %in% deduped_samples)\n",
    "}\n",
    "sums"
   ]
  },
  {
   "cell_type": "code",
   "execution_count": 53,
   "metadata": {
    "vscode": {
     "languageId": "r"
    }
   },
   "outputs": [
    {
     "data": {
      "text/html": [
       "<style>\n",
       ".list-inline {list-style: none; margin:0; padding: 0}\n",
       ".list-inline>li {display: inline-block}\n",
       ".list-inline>li:not(:last-child)::after {content: \"\\00b7\"; padding: 0 .5ex}\n",
       "</style>\n",
       "<ol class=list-inline><li>'207762950086_R02C01_1'</li><li>'206954930093_R03C02_1'</li></ol>\n"
      ],
      "text/latex": [
       "\\begin{enumerate*}\n",
       "\\item '207762950086\\_R02C01\\_1'\n",
       "\\item '206954930093\\_R03C02\\_1'\n",
       "\\end{enumerate*}\n"
      ],
      "text/markdown": [
       "1. '207762950086_R02C01_1'\n",
       "2. '206954930093_R03C02_1'\n",
       "\n",
       "\n"
      ],
      "text/plain": [
       "[1] \"207762950086_R02C01_1\" \"206954930093_R03C02_1\""
      ]
     },
     "metadata": {},
     "output_type": "display_data"
    }
   ],
   "source": [
    "groups_list[[10]]"
   ]
  },
  {
   "cell_type": "code",
   "execution_count": 52,
   "metadata": {
    "vscode": {
     "languageId": "r"
    }
   },
   "outputs": [
    {
     "data": {
      "text/html": [
       "<style>\n",
       ".list-inline {list-style: none; margin:0; padding: 0}\n",
       ".list-inline>li {display: inline-block}\n",
       ".list-inline>li:not(:last-child)::after {content: \"\\00b7\"; padding: 0 .5ex}\n",
       "</style>\n",
       "<ol class=list-inline><li>'207762950086_R05C02_1'</li><li>'206954930010_R07C01_1'</li></ol>\n"
      ],
      "text/latex": [
       "\\begin{enumerate*}\n",
       "\\item '207762950086\\_R05C02\\_1'\n",
       "\\item '206954930010\\_R07C01\\_1'\n",
       "\\end{enumerate*}\n"
      ],
      "text/markdown": [
       "1. '207762950086_R05C02_1'\n",
       "2. '206954930010_R07C01_1'\n",
       "\n",
       "\n"
      ],
      "text/plain": [
       "[1] \"207762950086_R05C02_1\" \"206954930010_R07C01_1\""
      ]
     },
     "metadata": {},
     "output_type": "display_data"
    }
   ],
   "source": [
    "groups_list[[12]]"
   ]
  },
  {
   "cell_type": "code",
   "execution_count": 22,
   "metadata": {
    "vscode": {
     "languageId": "r"
    }
   },
   "outputs": [
    {
     "data": {
      "text/html": [],
      "text/latex": [],
      "text/markdown": [],
      "text/plain": [
       "character(0)"
      ]
     },
     "metadata": {},
     "output_type": "display_data"
    }
   ],
   "source": [
    "setdiff(deduped_samples, all_samples)"
   ]
  },
  {
   "cell_type": "code",
   "execution_count": 21,
   "metadata": {
    "vscode": {
     "languageId": "r"
    }
   },
   "outputs": [
    {
     "data": {
      "text/html": [
       "98"
      ],
      "text/latex": [
       "98"
      ],
      "text/markdown": [
       "98"
      ],
      "text/plain": [
       "[1] 98"
      ]
     },
     "metadata": {},
     "output_type": "display_data"
    }
   ],
   "source": [
    "length(groups) + length(singletons)"
   ]
  },
  {
   "cell_type": "code",
   "execution_count": 18,
   "metadata": {
    "vscode": {
     "languageId": "r"
    }
   },
   "outputs": [
    {
     "data": {
      "text/html": [
       "98"
      ],
      "text/latex": [
       "98"
      ],
      "text/markdown": [
       "98"
      ],
      "text/plain": [
       "[1] 98"
      ]
     },
     "metadata": {},
     "output_type": "display_data"
    }
   ],
   "source": [
    "19 + 79"
   ]
  },
  {
   "cell_type": "code",
   "execution_count": 13,
   "metadata": {
    "vscode": {
     "languageId": "r"
    }
   },
   "outputs": [],
   "source": [
    "chipwell_barcodes = names(fgs)\n",
    "participant_ids = as.character(unlist(fgs))\n",
    "mapping = data.frame(participant_id = participant_ids, chipwell_barcode = chipwell_barcodes)\n",
    "mapping = mapping[order(mapping$participant_id),]\n",
    "# write.table(\n",
    "#     mapping, \n",
    "#     \"/mnt/accessory/seq_data/calico/all_libs/calico_fingerprinting_mapping.tsv\", sep = \"\\t\", quote = F, row.names = F, col.names = T\n",
    "# )\n",
    "\n"
   ]
  },
  {
   "cell_type": "code",
   "execution_count": 5,
   "metadata": {
    "vscode": {
     "languageId": "r"
    }
   },
   "outputs": [
    {
     "data": {
      "image/png": "[encoded data removed]",
      "text/plain": [
       "Plot with title “Histogram of internal_gt$V4”"
      ]
     },
     "metadata": {
      "image/png": {
       "height": 420,
       "width": 420
      }
     },
     "output_type": "display_data"
    }
   ],
   "source": []
  },
  {
   "cell_type": "code",
   "execution_count": 25,
   "metadata": {
    "vscode": {
     "languageId": "r"
    }
   },
   "outputs": [
    {
     "data": {
      "image/png": "[encoded data removed]",
      "text/plain": [
       "Plot with title “Histogram of internal_gt$V4”"
      ]
     },
     "metadata": {
      "image/png": {
       "height": 420,
       "width": 420
      }
     },
     "output_type": "display_data"
    }
   ],
   "source": []
  },
  {
   "cell_type": "code",
   "execution_count": 13,
   "metadata": {
    "vscode": {
     "languageId": "r"
    }
   },
   "outputs": [
    {
     "data": {
      "text/html": [
       "<ol>\n",
       "\t<li>'206954930010_R04C01_1'</li>\n",
       "\t<li>'207762960003_R10C02_1'</li>\n",
       "\t<li>'207762960003_R02C01_1'</li>\n",
       "\t<li>'206954930010_R11C01_1'</li>\n",
       "\t<li>'207762950055_R02C01_1'</li>\n",
       "\t<li>'207762950055_R03C02_1'</li>\n",
       "\t<li>'207762950055_R05C02_1'</li>\n",
       "\t<li>'207762950055_R10C02_1'</li>\n",
       "\t<li>'207762950055_R12C02_1'</li>\n",
       "\t<li>NULL</li>\n",
       "\t<li>'207762950086_R03C02_1'</li>\n",
       "\t<li>'207762950086_R05C02_1'</li>\n",
       "\t<li>'207762950086_R10C02_1'</li>\n",
       "\t<li>'207762950108_R01C02_1'</li>\n",
       "\t<li>'207762950108_R03C02_1'</li>\n",
       "\t<li>'206954930011_R06C02_1'</li>\n",
       "\t<li>'207762960003_R05C02_1'</li>\n",
       "\t<li>'207762960003_R09C01_1'</li>\n",
       "\t<li>'206954930060_R11C01_1'</li>\n",
       "</ol>\n"
      ],
      "text/latex": [
       "\\begin{enumerate}\n",
       "\\item '206954930010\\_R04C01\\_1'\n",
       "\\item '207762960003\\_R10C02\\_1'\n",
       "\\item '207762960003\\_R02C01\\_1'\n",
       "\\item '206954930010\\_R11C01\\_1'\n",
       "\\item '207762950055\\_R02C01\\_1'\n",
       "\\item '207762950055\\_R03C02\\_1'\n",
       "\\item '207762950055\\_R05C02\\_1'\n",
       "\\item '207762950055\\_R10C02\\_1'\n",
       "\\item '207762950055\\_R12C02\\_1'\n",
       "\\item NULL\n",
       "\\item '207762950086\\_R03C02\\_1'\n",
       "\\item '207762950086\\_R05C02\\_1'\n",
       "\\item '207762950086\\_R10C02\\_1'\n",
       "\\item '207762950108\\_R01C02\\_1'\n",
       "\\item '207762950108\\_R03C02\\_1'\n",
       "\\item '206954930011\\_R06C02\\_1'\n",
       "\\item '207762960003\\_R05C02\\_1'\n",
       "\\item '207762960003\\_R09C01\\_1'\n",
       "\\item '206954930060\\_R11C01\\_1'\n",
       "\\end{enumerate}\n"
      ],
      "text/markdown": [
       "1. '206954930010_R04C01_1'\n",
       "2. '207762960003_R10C02_1'\n",
       "3. '207762960003_R02C01_1'\n",
       "4. '206954930010_R11C01_1'\n",
       "5. '207762950055_R02C01_1'\n",
       "6. '207762950055_R03C02_1'\n",
       "7. '207762950055_R05C02_1'\n",
       "8. '207762950055_R10C02_1'\n",
       "9. '207762950055_R12C02_1'\n",
       "10. NULL\n",
       "11. '207762950086_R03C02_1'\n",
       "12. '207762950086_R05C02_1'\n",
       "13. '207762950086_R10C02_1'\n",
       "14. '207762950108_R01C02_1'\n",
       "15. '207762950108_R03C02_1'\n",
       "16. '206954930011_R06C02_1'\n",
       "17. '207762960003_R05C02_1'\n",
       "18. '207762960003_R09C01_1'\n",
       "19. '206954930060_R11C01_1'\n",
       "\n",
       "\n"
      ],
      "text/plain": [
       "[[1]]\n",
       "[1] \"206954930010_R04C01_1\"\n",
       "\n",
       "[[2]]\n",
       "[1] \"207762960003_R10C02_1\"\n",
       "\n",
       "[[3]]\n",
       "[1] \"207762960003_R02C01_1\"\n",
       "\n",
       "[[4]]\n",
       "[1] \"206954930010_R11C01_1\"\n",
       "\n",
       "[[5]]\n",
       "[1] \"207762950055_R02C01_1\"\n",
       "\n",
       "[[6]]\n",
       "[1] \"207762950055_R03C02_1\"\n",
       "\n",
       "[[7]]\n",
       "[1] \"207762950055_R05C02_1\"\n",
       "\n",
       "[[8]]\n",
       "[1] \"207762950055_R10C02_1\"\n",
       "\n",
       "[[9]]\n",
       "[1] \"207762950055_R12C02_1\"\n",
       "\n",
       "[[10]]\n",
       "NULL\n",
       "\n",
       "[[11]]\n",
       "[1] \"207762950086_R03C02_1\"\n",
       "\n",
       "[[12]]\n",
       "[1] \"207762950086_R05C02_1\"\n",
       "\n",
       "[[13]]\n",
       "[1] \"207762950086_R10C02_1\"\n",
       "\n",
       "[[14]]\n",
       "[1] \"207762950108_R01C02_1\"\n",
       "\n",
       "[[15]]\n",
       "[1] \"207762950108_R03C02_1\"\n",
       "\n",
       "[[16]]\n",
       "[1] \"206954930011_R06C02_1\"\n",
       "\n",
       "[[17]]\n",
       "[1] \"207762960003_R05C02_1\"\n",
       "\n",
       "[[18]]\n",
       "[1] \"207762960003_R09C01_1\"\n",
       "\n",
       "[[19]]\n",
       "[1] \"206954930060_R11C01_1\"\n"
      ]
     },
     "metadata": {},
     "output_type": "display_data"
    }
   ],
   "source": [
    "representatives = list()\n",
    "for (i in 1:length(groups)){\n",
    "    group_str = groups[[i]]\n",
    "    group = strsplit(group_str, split = \",\")[[1]]\n",
    "\n",
    "    for (g in group){\n",
    "        if (g %in% deduped_samples){\n",
    "            # representatives[[g]] = group_str\n",
    "            if (g %in% representatives){\n",
    "                stop(paste(\"Duplicate representative found:\", g))\n",
    "            }\n",
    "            if (length(representatives) > i){\n",
    "                stop(paste(\"Representative already found for group:\", group_str))\n",
    "            }\n",
    "            representatives[[i]] = g\n",
    "        }\n",
    "    }\n",
    "}\n",
    "representatives"
   ]
  },
  {
   "cell_type": "code",
   "execution_count": 103,
   "metadata": {
    "vscode": {
     "languageId": "r"
    }
   },
   "outputs": [
    {
     "data": {
      "text/html": [
       "<ol>\n",
       "\t<li>'206954930010_R04C01_1'</li>\n",
       "</ol>\n"
      ],
      "text/latex": [
       "\\begin{enumerate}\n",
       "\\item '206954930010\\_R04C01\\_1'\n",
       "\\end{enumerate}\n"
      ],
      "text/markdown": [
       "1. '206954930010_R04C01_1'\n",
       "\n",
       "\n"
      ],
      "text/plain": [
       "[[1]]\n",
       "[1] \"206954930010_R04C01_1\"\n"
      ]
     },
     "metadata": {},
     "output_type": "display_data"
    }
   ],
   "source": []
  },
  {
   "cell_type": "code",
   "execution_count": 61,
   "metadata": {
    "vscode": {
     "languageId": "r"
    }
   },
   "outputs": [
    {
     "data": {
      "text/html": [
       "<style>\n",
       ".list-inline {list-style: none; margin:0; padding: 0}\n",
       ".list-inline>li {display: inline-block}\n",
       ".list-inline>li:not(:last-child)::after {content: \"\\00b7\"; padding: 0 .5ex}\n",
       "</style>\n",
       "<ol class=list-inline><li>'206954930060_R11C01_1'</li><li>'207762960003_R12C02_1'</li></ol>\n"
      ],
      "text/latex": [
       "\\begin{enumerate*}\n",
       "\\item '206954930060\\_R11C01\\_1'\n",
       "\\item '207762960003\\_R12C02\\_1'\n",
       "\\end{enumerate*}\n"
      ],
      "text/markdown": [
       "1. '206954930060_R11C01_1'\n",
       "2. '207762960003_R12C02_1'\n",
       "\n",
       "\n"
      ],
      "text/plain": [
       "[1] \"206954930060_R11C01_1\" \"207762960003_R12C02_1\""
      ]
     },
     "metadata": {},
     "output_type": "display_data"
    }
   ],
   "source": [
    "a"
   ]
  },
  {
   "cell_type": "code",
   "execution_count": 64,
   "metadata": {
    "vscode": {
     "languageId": "r"
    }
   },
   "outputs": [],
   "source": [
    "a = list()\n",
    "a[[1]] = 'a'"
   ]
  }
 ],
 "metadata": {
  "kernelspec": {
   "display_name": "R",
   "language": "R",
   "name": "ir"
  },
  "language_info": {
   "codemirror_mode": "r",
   "file_extension": ".r",
   "mimetype": "text/x-r-source",
   "name": "R",
   "pygments_lexer": "r",
   "version": "4.0.4"
  }
 },
 "nbformat": 4,
 "nbformat_minor": 2
}
