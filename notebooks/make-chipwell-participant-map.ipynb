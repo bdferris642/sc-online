{
 "cells": [
  {
   "cell_type": "code",
   "execution_count": 1,
   "metadata": {},
   "outputs": [],
   "source": [
    "import numpy as np\n",
    "import pandas as pd\n",
    "\n",
    "# cw_groups maps chip well barcodes to those used in the all-donor whitelist\n",
    "cw_groups = pd.read_csv('~/sc-online/notebook_data/chip_well_barcode-to-participant_id__chipwell_groups.csv').drop_duplicates()\n",
    "cw_groups['chip_well_barcode'] = cw_groups['chip_well_barcode'].str.replace('_1$', '', regex=True)\n",
    "cw_groups['Representative'] = cw_groups['Representative'].str.replace('_1$', '', regex=True)\n",
    "\n",
    "# cw_fp maps chip well barcodes to participant ids derived from fingerprinting\n",
    "# participant_id of fingerprinting is includes sample id info. Strip this\n",
    "cw_fp = pd.read_csv('~/sc-online/notebook_data/chip_well_barcode-to-participant_id__fingerprinting.csv').drop_duplicates()\n",
    "cw_fp['participant_sample_id'] = cw_fp['participant_id']\n",
    "# remove ^NBB_ prefixes from participant_id, then remove _.*$ suffixes\n",
    "cw_fp['participant_id'] = cw_fp['participant_id'].str.replace('^NBB_', '', regex=True)\n",
    "cw_fp['participant_id'] = cw_fp['participant_id'].str.replace('_.*$', '', regex=True)\n",
    "\n",
    "# manifest was our original mapping of chip well barcodes to participant ids (can be overrruled by fingerprinting)\n",
    "manifest = pd.read_csv('~/sc-online/notebook_data/chip_well_barcode-to-participant_id__terra_manifest.csv').drop_duplicates()\n",
    "manifest['chip_well_barcode'] = manifest['chip_well_barcode'].str.replace('_1$', '', regex=True)\n",
    "\n"
   ]
  },
  {
   "cell_type": "code",
   "execution_count": 17,
   "metadata": {},
   "outputs": [
    {
     "name": "stdout",
     "output_type": "stream",
     "text": [
      "  participant_id   age     sex case_control\n",
      "0       1995-078  80.0  Female          ctr\n",
      "1       1997-115  89.0  Female          ctr\n",
      "2       1998-016  82.0  Female          ctr\n",
      "3       1998-051  94.0  Female          ctr\n",
      "4       2002-086  74.0  Female          ctr\n"
     ]
    },
    {
     "name": "stderr",
     "output_type": "stream",
     "text": [
      "/tmp/ipykernel_3790/1945382750.py:13: SettingWithCopyWarning: \n",
      "A value is trying to be set on a copy of a slice from a DataFrame\n",
      "\n",
      "See the caveats in the documentation: https://pandas.pydata.org/pandas-docs/stable/user_guide/indexing.html#returning-a-view-versus-a-copy\n",
      "  calico_participant_metadata.case_control[calico_participant_metadata.case_control==\"Control\"] = 'ctr'\n",
      "/tmp/ipykernel_3790/1945382750.py:14: SettingWithCopyWarning: \n",
      "A value is trying to be set on a copy of a slice from a DataFrame\n",
      "\n",
      "See the caveats in the documentation: https://pandas.pydata.org/pandas-docs/stable/user_guide/indexing.html#returning-a-view-versus-a-copy\n",
      "  calico_participant_metadata.case_control[calico_participant_metadata.case_control!=\"ctr\"] = 'pd'\n",
      "/tmp/ipykernel_3790/1945382750.py:25: SettingWithCopyWarning: \n",
      "A value is trying to be set on a copy of a slice from a DataFrame\n",
      "\n",
      "See the caveats in the documentation: https://pandas.pydata.org/pandas-docs/stable/user_guide/indexing.html#returning-a-view-versus-a-copy\n",
      "  gtex_participant_metadata['case_control'][[(i in gtex_cases) for i in gtex_participant_metadata.participant_id]] = 'pd'\n",
      "/tmp/ipykernel_3790/1945382750.py:27: SettingWithCopyWarning: \n",
      "A value is trying to be set on a copy of a slice from a DataFrame\n",
      "\n",
      "See the caveats in the documentation: https://pandas.pydata.org/pandas-docs/stable/user_guide/indexing.html#returning-a-view-versus-a-copy\n",
      "  gtex_participant_metadata.sex[gtex_participant_metadata.sex == 1] = 'Male'\n"
     ]
    }
   ],
   "source": [
    "# participant metadata maps participant id to age, sex, case-control status, etc.\n",
    "calico_participant_metadata = pd.read_csv('~/sc-online/notebook_data/calico_participant_metadata.csv').drop_duplicates()\n",
    "gtex_participant_metadata = pd.read_csv('~/sc-online/notebook_data/gtex_participant_metadata.csv').drop_duplicates()\n",
    "\n",
    "\n",
    "# rename some columns + restructure case_control data format\n",
    "calico_participant_metadata = calico_participant_metadata.rename(columns={\n",
    "    'Collaborator Participant ID': 'participant_id',\n",
    "    'Age': 'age',\n",
    "    \"Gender\": \"sex\", \n",
    "    \"Primary Disease\": \"case_control\"\n",
    "})\n",
    "calico_participant_metadata.case_control[calico_participant_metadata.case_control==\"Control\"] = 'ctr'\n",
    "calico_participant_metadata.case_control[calico_participant_metadata.case_control!=\"ctr\"] = 'pd'\n",
    "\n",
    "gtex_participant_metadata = gtex_participant_metadata.rename(columns={\n",
    "    \"SUBJID\": \"participant_id\",\n",
    "    \"SEX\": \"sex\",\n",
    "    \"AGE\": \"age\"\n",
    "})\n",
    "\n",
    "# all GTEX are ctr except for these cases\n",
    "gtex_cases = [\"GTEX-14PQA\", \"GTEX-1HBPH\", \"GTEX-1IDJV\"]\n",
    "gtex_participant_metadata['case_control'] = 'ctr'\n",
    "gtex_participant_metadata['case_control'][[(i in gtex_cases) for i in gtex_participant_metadata.participant_id]] = 'pd'\n",
    "\n",
    "gtex_participant_metadata.sex[gtex_participant_metadata.sex == 1] = 'Male'\n",
    "gtex_participant_metadata.sex[gtex_participant_metadata.sex == 2] = 'Female'\n",
    "\n",
    "participant_metadata_cols = [\n",
    "    'participant_id',\n",
    "    'age',\n",
    "    'sex',\n",
    "    'case_control'\n",
    "]\n",
    "gtex_participant_metadata = gtex_participant_metadata[participant_metadata_cols]\n",
    "calico_participant_metadata = calico_participant_metadata[participant_metadata_cols]\n",
    "participant_metadata = pd.concat([calico_participant_metadata, gtex_participant_metadata])\n",
    "\n",
    "# strip spaces from participant_id\n",
    "participant_metadata['participant_id'] = participant_metadata['participant_id'].str.strip()\n",
    "\n",
    "# remove duplicated rows where and sex is labeled \"Unknown\"\n",
    "participant_metadata = participant_metadata.dropna(subset=['participant_id']).drop_duplicates()\n",
    "participant_metadata = participant_metadata[participant_metadata.sex != \"Unknown\"]\n",
    "\n",
    "print(participant_metadata.head())\n",
    "participant_metadata.to_csv(\"~/sc-online/notebook_data/participant_metadata.csv\")"
   ]
  },
  {
   "cell_type": "code",
   "execution_count": null,
   "metadata": {},
   "outputs": [],
   "source": []
  },
  {
   "cell_type": "code",
   "execution_count": 3,
   "metadata": {},
   "outputs": [
    {
     "data": {
      "text/html": [
       "<div>\n",
       "<style scoped>\n",
       "    .dataframe tbody tr th:only-of-type {\n",
       "        vertical-align: middle;\n",
       "    }\n",
       "\n",
       "    .dataframe tbody tr th {\n",
       "        vertical-align: top;\n",
       "    }\n",
       "\n",
       "    .dataframe thead th {\n",
       "        text-align: right;\n",
       "    }\n",
       "</style>\n",
       "<table border=\"1\" class=\"dataframe\">\n",
       "  <thead>\n",
       "    <tr style=\"text-align: right;\">\n",
       "      <th></th>\n",
       "      <th>chip_well_barcode</th>\n",
       "      <th>Representative</th>\n",
       "    </tr>\n",
       "  </thead>\n",
       "  <tbody>\n",
       "    <tr>\n",
       "      <th>0</th>\n",
       "      <td>206954930010_R04C01</td>\n",
       "      <td>206954930093_R05C02</td>\n",
       "    </tr>\n",
       "    <tr>\n",
       "      <th>1</th>\n",
       "      <td>206954930093_R05C02</td>\n",
       "      <td>206954930093_R05C02</td>\n",
       "    </tr>\n",
       "    <tr>\n",
       "      <th>2</th>\n",
       "      <td>207762950055_R07C02</td>\n",
       "      <td>206954930093_R05C02</td>\n",
       "    </tr>\n",
       "    <tr>\n",
       "      <th>3</th>\n",
       "      <td>206954930060_R02C01</td>\n",
       "      <td>207762950086_R04C01</td>\n",
       "    </tr>\n",
       "    <tr>\n",
       "      <th>4</th>\n",
       "      <td>207762950086_R04C01</td>\n",
       "      <td>207762950086_R04C01</td>\n",
       "    </tr>\n",
       "  </tbody>\n",
       "</table>\n",
       "</div>"
      ],
      "text/plain": [
       "     chip_well_barcode       Representative\n",
       "0  206954930010_R04C01  206954930093_R05C02\n",
       "1  206954930093_R05C02  206954930093_R05C02\n",
       "2  207762950055_R07C02  206954930093_R05C02\n",
       "3  206954930060_R02C01  207762950086_R04C01\n",
       "4  207762950086_R04C01  207762950086_R04C01"
      ]
     },
     "execution_count": 3,
     "metadata": {},
     "output_type": "execute_result"
    }
   ],
   "source": [
    "cw_groups.head()"
   ]
  },
  {
   "cell_type": "code",
   "execution_count": 4,
   "metadata": {},
   "outputs": [
    {
     "name": "stdout",
     "output_type": "stream",
     "text": [
      "(125, 5)\n",
      "       chip_well_barcode collaborator_participant_id       Representative  \\\n",
      "7    206954930010_R05C02                      PDC091  206954930010_R05C02   \n",
      "8    206954930010_R05C02                      PDC091  206954930010_R05C02   \n",
      "20   206954930011_R04C01                      PD0976  206954930011_R04C01   \n",
      "21   206954930011_R04C01                      PD0976  206954930011_R04C01   \n",
      "23   206954930011_R05C01                      PD0833  206954930011_R05C01   \n",
      "24   206954930011_R05C01                      PD0833  206954930011_R05C01   \n",
      "67   206954930093_R07C01                      PD0906  206954930093_R07C01   \n",
      "68   206954930093_R07C01                      PD0906  206954930093_R07C01   \n",
      "102  207762950108_R02C01                      PDC094  207762950108_R02C01   \n",
      "103  207762950108_R02C01                      PDC094  207762950108_R02C01   \n",
      "\n",
      "    participant_id participant_sample_id  \n",
      "7           PDC110           PDC110_Pons  \n",
      "8           PDC110             PDC110_SN  \n",
      "20          PD0976             PD0976_SN  \n",
      "21          PD0976           PD0976_SN_2  \n",
      "23          PD0833             PD0833_SN  \n",
      "24          PD0833           PD0833_SN_R  \n",
      "67          PD0906             PD0906_SN  \n",
      "68          PD0906           PD0906_SN_2  \n",
      "102         PDC094             PDC094_SN  \n",
      "103         PDC094            PDC094_VTA  \n",
      "(120, 5)\n"
     ]
    }
   ],
   "source": [
    "cw_map = (manifest\n",
    "    .merge(cw_groups, how='inner', on='chip_well_barcode') # for every chip_well_barcode, get the Representative barcode in the whitelist\n",
    "    .merge(cw_fp, how='left', on='chip_well_barcode', suffixes=('_og', '_fp')) # for every chip_well_barcode, get the participant_id from fingerprinting if it exists\n",
    ")\n",
    "print(cw_map.shape)\n",
    "\n",
    "# find chip_well_barcode values appearing more than once in cw_map\n",
    "# looks like each duped barcode has the same participant as their dupes,\n",
    "# with slightly different ids corresponding to different anatomical samples\n",
    "dupes = cw_map[cw_map.duplicated(subset='chip_well_barcode', keep=False)]\n",
    "print(dupes)\n",
    "\n",
    "# drop duplicate rows of chip_well_barcode\n",
    "cw_map = cw_map.drop_duplicates(subset=['chip_well_barcode'])\n",
    "\n",
    "print(cw_map.shape)"
   ]
  },
  {
   "cell_type": "code",
   "execution_count": 5,
   "metadata": {},
   "outputs": [
    {
     "name": "stdout",
     "output_type": "stream",
     "text": [
      "(120, 6)\n"
     ]
    }
   ],
   "source": [
    "cw_map = cw_map.rename(\n",
    "    columns={\n",
    "        \"collaborator_participant_id\": \"manifest_participant_id\",\n",
    "        \"participant_id\": \"fingerprinting_participant_id\",\n",
    "        \"Representative\": \"chip_well_barcode_in_whitelist\"})\n",
    "\n",
    "#coalesce participant_id from fingerprinting, then the original manifest\n",
    "cw_map[\"coalesced_participant_id\"] = cw_map.fingerprinting_participant_id \n",
    "cw_map[\"coalesced_participant_id\"][cw_map.fingerprinting_participant_id.isna()] = cw_map.manifest_participant_id[cw_map.fingerprinting_participant_id.isna()]\n",
    "\n",
    "# Now, for every chip_well barcode, we have (a) the chip_well_barcode that appears in the whitelist, and (b) the coalesced participant_id\n",
    "\n",
    "# remove samples without a coalesced_participant_id\n",
    "cw_map = cw_map.dropna(subset=['coalesced_participant_id'])\n",
    "print(cw_map.shape)\n",
    "\n"
   ]
  },
  {
   "cell_type": "code",
   "execution_count": 6,
   "metadata": {},
   "outputs": [
    {
     "data": {
      "text/html": [
       "<div>\n",
       "<style scoped>\n",
       "    .dataframe tbody tr th:only-of-type {\n",
       "        vertical-align: middle;\n",
       "    }\n",
       "\n",
       "    .dataframe tbody tr th {\n",
       "        vertical-align: top;\n",
       "    }\n",
       "\n",
       "    .dataframe thead th {\n",
       "        text-align: right;\n",
       "    }\n",
       "</style>\n",
       "<table border=\"1\" class=\"dataframe\">\n",
       "  <thead>\n",
       "    <tr style=\"text-align: right;\">\n",
       "      <th></th>\n",
       "      <th>chip_well_barcode</th>\n",
       "      <th>manifest_participant_id</th>\n",
       "      <th>chip_well_barcode_in_whitelist</th>\n",
       "      <th>fingerprinting_participant_id</th>\n",
       "      <th>participant_sample_id</th>\n",
       "      <th>coalesced_participant_id</th>\n",
       "    </tr>\n",
       "  </thead>\n",
       "  <tbody>\n",
       "    <tr>\n",
       "      <th>0</th>\n",
       "      <td>206954930010_R01C01</td>\n",
       "      <td>PDC090</td>\n",
       "      <td>206954930010_R01C01</td>\n",
       "      <td>PDC090</td>\n",
       "      <td>PDC090_SN</td>\n",
       "      <td>PDC090</td>\n",
       "    </tr>\n",
       "    <tr>\n",
       "      <th>1</th>\n",
       "      <td>206954930010_R01C02</td>\n",
       "      <td>PD0717</td>\n",
       "      <td>206954930010_R01C02</td>\n",
       "      <td>NaN</td>\n",
       "      <td>NaN</td>\n",
       "      <td>PD0717</td>\n",
       "    </tr>\n",
       "    <tr>\n",
       "      <th>2</th>\n",
       "      <td>206954930010_R02C01</td>\n",
       "      <td>PDC139</td>\n",
       "      <td>206954930010_R02C01</td>\n",
       "      <td>PDC139</td>\n",
       "      <td>PDC139_SN</td>\n",
       "      <td>PDC139</td>\n",
       "    </tr>\n",
       "    <tr>\n",
       "      <th>3</th>\n",
       "      <td>206954930010_R03C01</td>\n",
       "      <td>PD0730</td>\n",
       "      <td>206954930010_R03C01</td>\n",
       "      <td>PD0730</td>\n",
       "      <td>PD0730_SN</td>\n",
       "      <td>PD0730</td>\n",
       "    </tr>\n",
       "    <tr>\n",
       "      <th>4</th>\n",
       "      <td>206954930010_R03C02</td>\n",
       "      <td>PD0940</td>\n",
       "      <td>206954930010_R03C02</td>\n",
       "      <td>PD0940</td>\n",
       "      <td>PD0940_SN</td>\n",
       "      <td>PD0940</td>\n",
       "    </tr>\n",
       "  </tbody>\n",
       "</table>\n",
       "</div>"
      ],
      "text/plain": [
       "     chip_well_barcode manifest_participant_id chip_well_barcode_in_whitelist  \\\n",
       "0  206954930010_R01C01                  PDC090            206954930010_R01C01   \n",
       "1  206954930010_R01C02                  PD0717            206954930010_R01C02   \n",
       "2  206954930010_R02C01                  PDC139            206954930010_R02C01   \n",
       "3  206954930010_R03C01                  PD0730            206954930010_R03C01   \n",
       "4  206954930010_R03C02                  PD0940            206954930010_R03C02   \n",
       "\n",
       "  fingerprinting_participant_id participant_sample_id coalesced_participant_id  \n",
       "0                        PDC090             PDC090_SN                   PDC090  \n",
       "1                           NaN                   NaN                   PD0717  \n",
       "2                        PDC139             PDC139_SN                   PDC139  \n",
       "3                        PD0730             PD0730_SN                   PD0730  \n",
       "4                        PD0940             PD0940_SN                   PD0940  "
      ]
     },
     "execution_count": 6,
     "metadata": {},
     "output_type": "execute_result"
    }
   ],
   "source": [
    "cw_map.head()"
   ]
  },
  {
   "cell_type": "code",
   "execution_count": 7,
   "metadata": {},
   "outputs": [
    {
     "name": "stdout",
     "output_type": "stream",
     "text": [
      "(120, 10)\n"
     ]
    },
    {
     "data": {
      "text/html": [
       "<div>\n",
       "<style scoped>\n",
       "    .dataframe tbody tr th:only-of-type {\n",
       "        vertical-align: middle;\n",
       "    }\n",
       "\n",
       "    .dataframe tbody tr th {\n",
       "        vertical-align: top;\n",
       "    }\n",
       "\n",
       "    .dataframe thead th {\n",
       "        text-align: right;\n",
       "    }\n",
       "</style>\n",
       "<table border=\"1\" class=\"dataframe\">\n",
       "  <thead>\n",
       "    <tr style=\"text-align: right;\">\n",
       "      <th></th>\n",
       "      <th>chip_well_barcode</th>\n",
       "      <th>manifest_participant_id</th>\n",
       "      <th>chip_well_barcode_in_whitelist</th>\n",
       "      <th>fingerprinting_participant_id</th>\n",
       "      <th>participant_sample_id</th>\n",
       "      <th>coalesced_participant_id</th>\n",
       "      <th>participant_id</th>\n",
       "      <th>age</th>\n",
       "      <th>sex</th>\n",
       "      <th>case_control</th>\n",
       "    </tr>\n",
       "  </thead>\n",
       "  <tbody>\n",
       "    <tr>\n",
       "      <th>0</th>\n",
       "      <td>206954930010_R01C01</td>\n",
       "      <td>PDC090</td>\n",
       "      <td>206954930010_R01C01</td>\n",
       "      <td>PDC090</td>\n",
       "      <td>PDC090_SN</td>\n",
       "      <td>PDC090</td>\n",
       "      <td>PDC090</td>\n",
       "      <td>83.0</td>\n",
       "      <td>Male</td>\n",
       "      <td>ctr</td>\n",
       "    </tr>\n",
       "    <tr>\n",
       "      <th>1</th>\n",
       "      <td>206954930010_R01C02</td>\n",
       "      <td>PD0717</td>\n",
       "      <td>206954930010_R01C02</td>\n",
       "      <td>NaN</td>\n",
       "      <td>NaN</td>\n",
       "      <td>PD0717</td>\n",
       "      <td>PD0717</td>\n",
       "      <td>68.0</td>\n",
       "      <td>Female</td>\n",
       "      <td>pd</td>\n",
       "    </tr>\n",
       "    <tr>\n",
       "      <th>2</th>\n",
       "      <td>206954930010_R02C01</td>\n",
       "      <td>PDC139</td>\n",
       "      <td>206954930010_R02C01</td>\n",
       "      <td>PDC139</td>\n",
       "      <td>PDC139_SN</td>\n",
       "      <td>PDC139</td>\n",
       "      <td>PDC139</td>\n",
       "      <td>90.0</td>\n",
       "      <td>Male</td>\n",
       "      <td>ctr</td>\n",
       "    </tr>\n",
       "    <tr>\n",
       "      <th>3</th>\n",
       "      <td>206954930010_R03C01</td>\n",
       "      <td>PD0730</td>\n",
       "      <td>206954930010_R03C01</td>\n",
       "      <td>PD0730</td>\n",
       "      <td>PD0730_SN</td>\n",
       "      <td>PD0730</td>\n",
       "      <td>PD0730</td>\n",
       "      <td>77.0</td>\n",
       "      <td>Female</td>\n",
       "      <td>pd</td>\n",
       "    </tr>\n",
       "    <tr>\n",
       "      <th>4</th>\n",
       "      <td>206954930010_R03C02</td>\n",
       "      <td>PD0940</td>\n",
       "      <td>206954930010_R03C02</td>\n",
       "      <td>PD0940</td>\n",
       "      <td>PD0940_SN</td>\n",
       "      <td>PD0940</td>\n",
       "      <td>PD0940</td>\n",
       "      <td>81.0</td>\n",
       "      <td>Female</td>\n",
       "      <td>pd</td>\n",
       "    </tr>\n",
       "  </tbody>\n",
       "</table>\n",
       "</div>"
      ],
      "text/plain": [
       "     chip_well_barcode manifest_participant_id chip_well_barcode_in_whitelist  \\\n",
       "0  206954930010_R01C01                  PDC090            206954930010_R01C01   \n",
       "1  206954930010_R01C02                  PD0717            206954930010_R01C02   \n",
       "2  206954930010_R02C01                  PDC139            206954930010_R02C01   \n",
       "3  206954930010_R03C01                  PD0730            206954930010_R03C01   \n",
       "4  206954930010_R03C02                  PD0940            206954930010_R03C02   \n",
       "\n",
       "  fingerprinting_participant_id participant_sample_id  \\\n",
       "0                        PDC090             PDC090_SN   \n",
       "1                           NaN                   NaN   \n",
       "2                        PDC139             PDC139_SN   \n",
       "3                        PD0730             PD0730_SN   \n",
       "4                        PD0940             PD0940_SN   \n",
       "\n",
       "  coalesced_participant_id participant_id   age     sex case_control  \n",
       "0                   PDC090         PDC090  83.0    Male          ctr  \n",
       "1                   PD0717         PD0717  68.0  Female           pd  \n",
       "2                   PDC139         PDC139  90.0    Male          ctr  \n",
       "3                   PD0730         PD0730  77.0  Female           pd  \n",
       "4                   PD0940         PD0940  81.0  Female           pd  "
      ]
     },
     "execution_count": 7,
     "metadata": {},
     "output_type": "execute_result"
    }
   ],
   "source": [
    "# now join with participant_metadata using the coalesced participant_id\n",
    "cw_map = cw_map.merge(\n",
    "    participant_metadata, \n",
    "    how='left', \n",
    "    left_on='coalesced_participant_id',\n",
    "    right_on='participant_id')\n",
    "print(cw_map.shape)\n",
    "cw_map.head()"
   ]
  },
  {
   "cell_type": "code",
   "execution_count": 10,
   "metadata": {},
   "outputs": [],
   "source": [
    "#Finally, add _1 to chip_well_barcode, chip_well_barcode_in_whitelist to match what's on the vireo donor list\n",
    "cw_map['chip_well_barcode_in_whitelist'] = cw_map['chip_well_barcode_in_whitelist'] + '_1'\n",
    "cw_map['chip_well_barcode'] = cw_map['chip_well_barcode'] + '_1'"
   ]
  },
  {
   "cell_type": "code",
   "execution_count": 12,
   "metadata": {},
   "outputs": [
    {
     "data": {
      "text/html": [
       "<div>\n",
       "<style scoped>\n",
       "    .dataframe tbody tr th:only-of-type {\n",
       "        vertical-align: middle;\n",
       "    }\n",
       "\n",
       "    .dataframe tbody tr th {\n",
       "        vertical-align: top;\n",
       "    }\n",
       "\n",
       "    .dataframe thead th {\n",
       "        text-align: right;\n",
       "    }\n",
       "</style>\n",
       "<table border=\"1\" class=\"dataframe\">\n",
       "  <thead>\n",
       "    <tr style=\"text-align: right;\">\n",
       "      <th></th>\n",
       "      <th>chip_well_barcode</th>\n",
       "      <th>manifest_participant_id</th>\n",
       "      <th>chip_well_barcode_in_whitelist</th>\n",
       "      <th>fingerprinting_participant_id</th>\n",
       "      <th>participant_sample_id</th>\n",
       "      <th>coalesced_participant_id</th>\n",
       "      <th>participant_id</th>\n",
       "      <th>age</th>\n",
       "      <th>sex</th>\n",
       "      <th>case_control</th>\n",
       "    </tr>\n",
       "  </thead>\n",
       "  <tbody>\n",
       "    <tr>\n",
       "      <th>13</th>\n",
       "      <td>206954930010_R11C01_1</td>\n",
       "      <td>PD0927</td>\n",
       "      <td>206954930011_R11C01_1</td>\n",
       "      <td>NaN</td>\n",
       "      <td>NaN</td>\n",
       "      <td>PD0927</td>\n",
       "      <td>PD0927</td>\n",
       "      <td>78.0</td>\n",
       "      <td>Male</td>\n",
       "      <td>pd</td>\n",
       "    </tr>\n",
       "    <tr>\n",
       "      <th>32</th>\n",
       "      <td>206954930011_R11C01_1</td>\n",
       "      <td>PD0901</td>\n",
       "      <td>206954930011_R11C01_1</td>\n",
       "      <td>NaN</td>\n",
       "      <td>NaN</td>\n",
       "      <td>PD0901</td>\n",
       "      <td>PD0901</td>\n",
       "      <td>86.0</td>\n",
       "      <td>Male</td>\n",
       "      <td>pd</td>\n",
       "    </tr>\n",
       "  </tbody>\n",
       "</table>\n",
       "</div>"
      ],
      "text/plain": [
       "        chip_well_barcode manifest_participant_id  \\\n",
       "13  206954930010_R11C01_1                  PD0927   \n",
       "32  206954930011_R11C01_1                  PD0901   \n",
       "\n",
       "   chip_well_barcode_in_whitelist fingerprinting_participant_id  \\\n",
       "13          206954930011_R11C01_1                           NaN   \n",
       "32          206954930011_R11C01_1                           NaN   \n",
       "\n",
       "   participant_sample_id coalesced_participant_id participant_id   age   sex  \\\n",
       "13                   NaN                   PD0927         PD0927  78.0  Male   \n",
       "32                   NaN                   PD0901         PD0901  86.0  Male   \n",
       "\n",
       "   case_control  \n",
       "13           pd  \n",
       "32           pd  "
      ]
     },
     "execution_count": 12,
     "metadata": {},
     "output_type": "execute_result"
    }
   ],
   "source": [
    "# TODO\n",
    "# one chip_well_barcode in the whitelist has duplicated participant ids (awaiting fingerprinting)\n",
    "cw_map[cw_map.chip_well_barcode_in_whitelist == \"206954930011_R11C01_1\"]"
   ]
  },
  {
   "cell_type": "code",
   "execution_count": 14,
   "metadata": {},
   "outputs": [
    {
     "data": {
      "text/plain": [
       "False"
      ]
     },
     "execution_count": 14,
     "metadata": {},
     "output_type": "execute_result"
    }
   ],
   "source": [
    "# find chip_well_barcode with more than one participant_id\n",
    "df_with_multiple_participants = cw_map.groupby('chip_well_barcode')['coalesced_participant_id'].nunique()\n",
    "any(df_with_multiple_participants>1)"
   ]
  },
  {
   "cell_type": "code",
   "execution_count": 20,
   "metadata": {},
   "outputs": [
    {
     "data": {
      "text/plain": [
       "(120, 10)"
      ]
     },
     "execution_count": 20,
     "metadata": {},
     "output_type": "execute_result"
    }
   ],
   "source": [
    "cw_map.shape"
   ]
  },
  {
   "cell_type": "code",
   "execution_count": null,
   "metadata": {},
   "outputs": [],
   "source": [
    "# add in GTEX participant metadata"
   ]
  },
  {
   "cell_type": "code",
   "execution_count": 32,
   "metadata": {},
   "outputs": [],
   "source": [
    "gtex_participant_metadata[\"chip_well_barcode\"] = gtex_participant_metadata.participant_id\n",
    "gtex_participant_metadata[\"chip_well_barcode_in_whitelist\"] = gtex_participant_metadata.participant_id\n",
    "gtex_participant_metadata[\"coalesced_participant_id\"] = gtex_participant_metadata.participant_id\n",
    "gtex_participant_metadata[\"participant_sample_id\"] = gtex_participant_metadata.participant_id\n",
    "gtex_participant_metadata[\"fingerprinting_participant_id\"] = pd.NA \n",
    "gtex_participant_metadata[\"manifest_participant_id\"] = gtex_participant_metadata.participant_id\n",
    "\n",
    "gtex_participant_metadata = gtex_participant_metadata[cw_map.columns]"
   ]
  },
  {
   "cell_type": "code",
   "execution_count": 36,
   "metadata": {},
   "outputs": [],
   "source": [
    "cw_map = pd.concat([cw_map, gtex_participant_metadata])"
   ]
  },
  {
   "cell_type": "code",
   "execution_count": null,
   "metadata": {},
   "outputs": [],
   "source": [
    "cw_map.to_csv('~/sc-online/notebook_data/chip_well_barcode-to-participant_id__fp_coalesced.csv')"
   ]
  },
  {
   "cell_type": "code",
   "execution_count": null,
   "metadata": {},
   "outputs": [],
   "source": []
  }
 ],
 "metadata": {
  "kernelspec": {
   "display_name": "Python 3",
   "language": "python",
   "name": "python3"
  },
  "language_info": {
   "codemirror_mode": {
    "name": "ipython",
    "version": 3
   },
   "file_extension": ".py",
   "mimetype": "text/x-python",
   "name": "python",
   "nbconvert_exporter": "python",
   "pygments_lexer": "ipython3",
   "version": "3.11.3"
  }
 },
 "nbformat": 4,
 "nbformat_minor": 2
}
