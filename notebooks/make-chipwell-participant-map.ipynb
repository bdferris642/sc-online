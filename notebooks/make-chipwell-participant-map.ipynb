{
 "cells": [
  {
   "cell_type": "code",
   "execution_count": null,
   "metadata": {},
   "outputs": [],
   "source": [
    "import numpy as np\n",
    "import pandas as pd\n",
    "\n",
    "cw_pid = pd.read_csv('~/sc-online/notebook_data/chip_well_barcode-to-participant_id__chipwell_participant.csv').drop_duplicates()\n",
    "cw_groups = pd.read_csv('~/sc-online/notebook_data/chip_well_barcode-to-participant_id__chipwell_groups.csv').drop_duplicates()\n",
    "cw_fp = pd.read_csv('~/sc-online/notebook_data/chip_well_barcode-to-participant_id__fingerprinting.csv').drop_duplicates()\n",
    "\n",
    "# participant_id of fingerprinting is includes sample id info. Strip this\n",
    "cw_fp['participant_sample_id'] = cw_fp['participant_id']\n",
    "# remove ^NBB_ prefixes from participant_id\n",
    "# then remove _.*$ suffixes\n",
    "cw_fp['participant_id'] = cw_fp['participant_id'].str.replace('^NBB_', '', regex=True)\n",
    "cw_fp['participant_id'] = cw_fp['participant_id'].str.replace('_.*$', '', regex=True)\n",
    "\n",
    "manifest = pd.read_csv('~/sc-online/notebook_data/chip_well_barcode-to-participant_id__terra_manifest.csv').drop_duplicates()\n",
    "calico_participant_metadata = pd.read_csv('~/sc-online/notebook_data/calico_participant_metadata.csv').drop_duplicates()\n",
    "gtex_participant_metadata = pd.read_csv('~/sc-online/notebook_data/gtex_participant_metadata.csv').drop_duplicates()\n",
    "\n",
    "cw_groups['chip_well_barcode'] = cw_groups['chip_well_barcode'].str.replace('_1$', '', regex=True)\n",
    "cw_groups['Representative'] = cw_groups['Representative'].str.replace('_1$', '', regex=True)\n",
    "manifest['chip_well_barcode'] = manifest['chip_well_barcode'].str.replace('_1$', '', regex=True)\n",
    "\n",
    "cw_pid.shape, cw_groups.shape, cw_fp.shape, manifest.shape, calico_participant_metadata.shape, gtex_participant_metadata.shape\n",
    "\n",
    "calico_participant_metadata = calico_participant_metadata.rename(columns={\n",
    "    'Collaborator Participant ID': 'participant_id',\n",
    "    'Age': 'age',\n",
    "    \"Gender\": \"sex\", \n",
    "    \"Primary Disease\": \"case_control\"\n",
    "})\n",
    "calico_participant_metadata.case_control[calico_participant_metadata.case_control==\"Control\"] = 'ctr'\n",
    "calico_participant_metadata.case_control[calico_participant_metadata.case_control!=\"ctr\"] = 'pd'\n",
    "\n",
    "gtex_participant_metadata = gtex_participant_metadata.rename(columns={\n",
    "    \"SUBJID\": \"participant_id\",\n",
    "    \"SEX\": \"sex\",\n",
    "    \"AGE\": \"age\"\n",
    "})\n",
    "\n",
    "gtex_cases = [\"GTEX-14PQA\", \"GTEX-1HBPH\", \"GTEX-1IDJV\"]\n",
    "gtex_participant_metadata['case_control'] = 'ctr'\n",
    "gtex_participant_metadata['case_control'][[(i in gtex_cases) for i in gtex_participant_metadata.participant_id]] = 'pd'\n",
    "\n",
    "gtex_participant_metadata.sex[gtex_participant_metadata.sex == 1] = 'Male'\n",
    "gtex_participant_metadata.sex[gtex_participant_metadata.sex == 2] = 'Female'\n",
    "\n",
    "participant_metadata_cols = [\n",
    "    'participant_id',\n",
    "    'age',\n",
    "    'sex',\n",
    "    'case_control'\n",
    "]\n",
    "gtex_participant_metadata = gtex_participant_metadata[participant_metadata_cols]\n",
    "calico_participant_metadata = calico_participant_metadata[participant_metadata_cols]\n",
    "participant_metadata = pd.concat([calico_participant_metadata, gtex_participant_metadata])\n",
    "participant_metadata = participant_metadata.dropna(subset=['participant_id']).drop_duplicates()\n",
    "# remove duplicated rows where sex is labeled \"Unknown\"\n",
    "participant_metadata = participant_metadata[participant_metadata.sex != \"Unknown\"]\n",
    "\n"
   ]
  },
  {
   "cell_type": "code",
   "execution_count": null,
   "metadata": {},
   "outputs": [],
   "source": [
    "cw_map = (manifest\n",
    "    .merge(cw_groups, how='inner', on='chip_well_barcode')\n",
    "    .merge(cw_fp, how='left', on='chip_well_barcode', suffixes=('_og', '_fp'))\n",
    ")\n",
    "cw_map.shape\n",
    "\n",
    "# find chip_well_barcode values appearing more than once in cw_map\n",
    "# looks like each duped barcode has the same participant as their dupes,\n",
    "# with slightly different ids corresponding to different anatomical samples\n",
    "dupes = cw_map[cw_map.duplicated(subset='chip_well_barcode', keep=False)]\n",
    "print(dupes)\n",
    "\n",
    "# drop duplicate rows of chip_well_barcode\n",
    "cw_map = cw_map.drop_duplicates(subset=['chip_well_barcode'])"
   ]
  },
  {
   "cell_type": "code",
   "execution_count": null,
   "metadata": {},
   "outputs": [],
   "source": [
    "cw_map = cw_map.rename(\n",
    "    columns={\n",
    "        \"collaborator_participant_id\": \"manifest_participant_id\",\n",
    "        \"participant_id\": \"fingerprinting_participant_id\",\n",
    "        \"Representative\": \"chip_well_barcode_in_whitelist\"})\n",
    "\n",
    "#coalesce participant_id from fingerprinting, then the original manifest\n",
    "cw_map[\"coalesced_participant_id\"] = cw_map.fingerprinting_participant_id \n",
    "cw_map[\"coalesced_participant_id\"][cw_map.fingerprinting_participant_id.isna()] = cw_map.manifest_participant_id[cw_map.fingerprinting_participant_id.isna()]\n"
   ]
  },
  {
   "cell_type": "code",
   "execution_count": null,
   "metadata": {},
   "outputs": [],
   "source": [
    "# now join with participant_metadata using the coalesced participant_id\n",
    "print(cw_map.shape)\n",
    "cw_map = cw_map.merge(\n",
    "    participant_metadata, \n",
    "    how='left', \n",
    "    left_on='coalesced_participant_id',\n",
    "    right_on='participant_id')\n",
    "print(cw_map.shape)"
   ]
  },
  {
   "cell_type": "code",
   "execution_count": null,
   "metadata": {},
   "outputs": [],
   "source": [
    "#Finally, add _1 to chip_well_barcode, chip_well_barcode_in_whitelist to match what's on the vireo donor list\n",
    "cw_map['chip_well_barcode_in_whitelist'] = cw_map['chip_well_barcode_in_whitelist'] + '_1'\n",
    "cw_map['chip_well_barcode'] = cw_map['chip_well_barcode'] + '_1'"
   ]
  },
  {
   "cell_type": "code",
   "execution_count": null,
   "metadata": {},
   "outputs": [],
   "source": [
    "cw_map[cw_map.chip_well_barcode_in_whitelist == \"206954930011_R11C01_1\"]"
   ]
  },
  {
   "cell_type": "code",
   "execution_count": null,
   "metadata": {},
   "outputs": [],
   "source": [
    "# find chip_well_barcode_in_whitelists with more than one participant_id\n",
    "df_with_multiple_participants = cw_map.groupby('chip_well_barcode_in_whitelist')['participant_id'].nunique()\n",
    "df_with_multiple_participants = df_with_multiple_participants[df_with_multiple_participants > 1]\n",
    "df_with_multiple_participants"
   ]
  },
  {
   "cell_type": "code",
   "execution_count": null,
   "metadata": {},
   "outputs": [],
   "source": [
    "cw_map.to_csv('~/sc-online/notebook_data/chip_well_barcode-to-participant_id__fp_coalesced.csv')"
   ]
  }
 ],
 "metadata": {
  "kernelspec": {
   "display_name": "Python 3",
   "language": "python",
   "name": "python3"
  },
  "language_info": {
   "codemirror_mode": {
    "name": "ipython",
    "version": 3
   },
   "file_extension": ".py",
   "mimetype": "text/x-python",
   "name": "python",
   "nbconvert_exporter": "python",
   "pygments_lexer": "ipython3",
   "version": "3.11.3"
  }
 },
 "nbformat": 4,
 "nbformat_minor": 2
}
